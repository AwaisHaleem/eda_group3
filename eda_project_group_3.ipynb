{
 "cells": [
  {
   "cell_type": "markdown",
   "metadata": {},
   "source": [
    "#  Diabetes prediction dataset EDA"
   ]
  },
  {
   "cell_type": "markdown",
   "metadata": {},
   "source": [
    "# About Authors: \n",
    "* Saif Ur Rehman\n",
    "*  Zeeshan Shaukat\n",
    "* Raja Haris\n",
    "* Muhammad Hamza Shakeel\n",
    "* Ahmad Hassan\n",
    "* Awais Haleem"
   ]
  },
  {
   "cell_type": "markdown",
   "metadata": {},
   "source": [
    "# About Dataset: \n",
    "The Diabetes prediction dataset is a collection of medical and demographic data from patients, along with their diabetes status (positive or negative). The data includes features such as age, gender, body mass index (BMI), hypertension, heart disease, smoking history, HbA1c level, and blood glucose level. This dataset can be used to build machine learning models to predict diabetes in patients based on their medical history and demographic information. This can be useful for healthcare professionals in identifying patients who may be at risk of developing diabetes and in developing personalized treatment plans. Additionally, the dataset can be used by researchers to explore the relationships between various medical and demographic factors and the likelihood of developing diabetes."
   ]
  },
  {
   "cell_type": "markdown",
   "metadata": {},
   "source": [
    "## Metadata\n",
    ">* `Gender`: Gender refers to the biological sex of the individual, which can have an impact on their susceptibility to diabetes.  \n",
    ">* `Age` : Age is an important factor as diabetes is more commonly diagnosed in older adults.Age ranges from 0-80 in our dataset. \n",
    ">* `Hypertension` : Hypertension is a medical condition in which the blood pressure in the arteries is persistently elevated. It has values a 0. \n",
    ">* `Heart_disease`\t: Heart disease is another medical condition that is associated with an increased risk of developing diabetes. \n",
    ">* `Smoking_history` : Smoking history is also considered a risk factor for diabetes and can exacerbate the complications associated.\n",
    ">* `BMI`: BMI (Body Mass Index) is a measure of body fat based on weight and height. Higher BMI values are linked to a higher risk.\n",
    ">* `HbA1c_level`: HbA1c (Hemoglobin A1c) level is a measure of a person's average blood sugar level over the past 2-3 months. Higher levels.\n",
    ">* `Blood_glucose_level`: Blood glucose level refers to the amount of glucose in the bloodstream at a given time. High blood glucose levels are a key.\n",
    ">* `Diabetes`: Diabetes is the target variable being predicted, with values of 1 indicating the presence of diabetes and 0 indicating the"
   ]
  },
  {
   "cell_type": "markdown",
   "metadata": {},
   "source": [
    "## Task:\n",
    "\n",
    "We intend to conduct an Exploratory Data Analysis (EDA) on the given dataset. The EDA will serve as the basis for the necessary Data Wrangling activities to be carried out for the purposes of data cleaning and normalization. During the coding process, we will document our observations. Ultimately, we will produce a summary and draw conclusions from our findings"
   ]
  },
  {
   "cell_type": "markdown",
   "metadata": {},
   "source": [
    "## Objectives:\n",
    "\n",
    "The primary aim of this project is to conduct a thorough analysis of the dataset to identify significant insights. The ultimate goal is to predict Diabetes, hypertension and heart disease in patients and their relationship with each other.\n"
   ]
  },
  {
   "cell_type": "markdown",
   "metadata": {},
   "source": [
    "---\n",
    "Objective:\n",
    "The objective of exploratory data analysis (EDA) of the diabetes prediction dataset is to understand the data, identify patterns and trends, and develop hypotheses about the factors that contribute to diabetes. We will use data visualization techniques and statistical tests to explore the data and to develop a deeper understanding of the relationships between the features and the target variable (diabetes). We will also identify any outliers or anomalies in the data and assess its quality.\n",
    "\n",
    "Specifically, We will aim to answer the following questions:\n",
    "\n",
    "What are the demographic and medical characteristics of people with diabetes?\\\n",
    "How do the features differ between people with and without diabetes?\\\n",
    "Are there any features that are strongly correlated with diabetes?\\\n",
    "Are there any features that are independently predictive of diabetes?\\\n",
    "Are there any subgroups of people who are at particularly high risk of developing diabetes?\n"
   ]
  },
  {
   "cell_type": "markdown",
   "metadata": {},
   "source": [
    "# 1. Importing Libraries"
   ]
  },
  {
   "cell_type": "markdown",
   "metadata": {},
   "source": [
    "### 1.1 We will use the follwoing libraries\n",
    ">* `Pandas`: Data manipulation and analysis library.\n",
    ">* `Numpy`: Numerical computing library.\n",
    ">* `Matplotlib`: Data visualization library.\n",
    ">* `Seaborn`: Statistical data visualization library.\n",
    ">* `Plotly` : Interactive Data visualization library.\n",
    "   "
   ]
  },
  {
   "cell_type": "code",
   "execution_count": 145,
   "metadata": {},
   "outputs": [],
   "source": [
    "# use matplotlib inline to plot the graphs within the jupyter notebook\n",
    "%matplotlib inline \n",
    "\n",
    "# ignore warnings\n",
    "import warnings\n",
    "warnings.filterwarnings('ignore')\n",
    "\n",
    "\n",
    "import pandas as pd\n",
    "import numpy as np\n",
    "import seaborn as sns\n",
    "import matplotlib.pyplot as plt\n",
    "import plotly.express as px\n",
    "\n",
    "# set plt image size globally\n",
    "plt.rcParams['figure.figsize'] = (15,6)"
   ]
  },
  {
   "cell_type": "markdown",
   "metadata": {},
   "source": [
    "# 2. Loading, Transformation and Exploration  of dataset\n"
   ]
  },
  {
   "cell_type": "markdown",
   "metadata": {},
   "source": [
    "### 2.1 Loading the dataset from a CSV file.\n"
   ]
  },
  {
   "cell_type": "code",
   "execution_count": 146,
   "metadata": {},
   "outputs": [],
   "source": [
    "df = pd.read_csv(\"./hemogloba_data.csv\")"
   ]
  },
  {
   "cell_type": "markdown",
   "metadata": {},
   "source": [
    "* let's see the first 5 rows of the dataset to get a feel of how the data looks like"
   ]
  },
  {
   "cell_type": "code",
   "execution_count": 147,
   "metadata": {},
   "outputs": [
    {
     "data": {
      "text/html": [
       "<div>\n",
       "<style scoped>\n",
       "    .dataframe tbody tr th:only-of-type {\n",
       "        vertical-align: middle;\n",
       "    }\n",
       "\n",
       "    .dataframe tbody tr th {\n",
       "        vertical-align: top;\n",
       "    }\n",
       "\n",
       "    .dataframe thead th {\n",
       "        text-align: right;\n",
       "    }\n",
       "</style>\n",
       "<table border=\"1\" class=\"dataframe\">\n",
       "  <thead>\n",
       "    <tr style=\"text-align: right;\">\n",
       "      <th></th>\n",
       "      <th>gender</th>\n",
       "      <th>age</th>\n",
       "      <th>hypertension</th>\n",
       "      <th>heart_disease</th>\n",
       "      <th>smoking_history</th>\n",
       "      <th>bmi</th>\n",
       "      <th>HbA1c_level</th>\n",
       "      <th>blood_glucose_level</th>\n",
       "      <th>diabetes</th>\n",
       "    </tr>\n",
       "  </thead>\n",
       "  <tbody>\n",
       "    <tr>\n",
       "      <th>0</th>\n",
       "      <td>Female</td>\n",
       "      <td>80.0</td>\n",
       "      <td>0</td>\n",
       "      <td>1</td>\n",
       "      <td>never</td>\n",
       "      <td>25.19</td>\n",
       "      <td>6.6</td>\n",
       "      <td>140</td>\n",
       "      <td>0</td>\n",
       "    </tr>\n",
       "    <tr>\n",
       "      <th>1</th>\n",
       "      <td>Female</td>\n",
       "      <td>54.0</td>\n",
       "      <td>0</td>\n",
       "      <td>0</td>\n",
       "      <td>No Info</td>\n",
       "      <td>27.32</td>\n",
       "      <td>6.6</td>\n",
       "      <td>80</td>\n",
       "      <td>0</td>\n",
       "    </tr>\n",
       "    <tr>\n",
       "      <th>2</th>\n",
       "      <td>Male</td>\n",
       "      <td>28.0</td>\n",
       "      <td>0</td>\n",
       "      <td>0</td>\n",
       "      <td>never</td>\n",
       "      <td>27.32</td>\n",
       "      <td>5.7</td>\n",
       "      <td>158</td>\n",
       "      <td>0</td>\n",
       "    </tr>\n",
       "    <tr>\n",
       "      <th>3</th>\n",
       "      <td>Female</td>\n",
       "      <td>36.0</td>\n",
       "      <td>0</td>\n",
       "      <td>0</td>\n",
       "      <td>current</td>\n",
       "      <td>23.45</td>\n",
       "      <td>5.0</td>\n",
       "      <td>155</td>\n",
       "      <td>0</td>\n",
       "    </tr>\n",
       "    <tr>\n",
       "      <th>4</th>\n",
       "      <td>Male</td>\n",
       "      <td>76.0</td>\n",
       "      <td>1</td>\n",
       "      <td>1</td>\n",
       "      <td>current</td>\n",
       "      <td>20.14</td>\n",
       "      <td>4.8</td>\n",
       "      <td>155</td>\n",
       "      <td>0</td>\n",
       "    </tr>\n",
       "  </tbody>\n",
       "</table>\n",
       "</div>"
      ],
      "text/plain": [
       "   gender   age  hypertension  heart_disease smoking_history    bmi  \\\n",
       "0  Female  80.0             0              1           never  25.19   \n",
       "1  Female  54.0             0              0         No Info  27.32   \n",
       "2    Male  28.0             0              0           never  27.32   \n",
       "3  Female  36.0             0              0         current  23.45   \n",
       "4    Male  76.0             1              1         current  20.14   \n",
       "\n",
       "   HbA1c_level  blood_glucose_level  diabetes  \n",
       "0          6.6                  140         0  \n",
       "1          6.6                   80         0  \n",
       "2          5.7                  158         0  \n",
       "3          5.0                  155         0  \n",
       "4          4.8                  155         0  "
      ]
     },
     "execution_count": 147,
     "metadata": {},
     "output_type": "execute_result"
    }
   ],
   "source": [
    "df.head()"
   ]
  },
  {
   "cell_type": "markdown",
   "metadata": {},
   "source": [
    "* let's check the number of rows and columns in the dataset\n"
   ]
  },
  {
   "cell_type": "code",
   "execution_count": 148,
   "metadata": {},
   "outputs": [
    {
     "name": "stdout",
     "output_type": "stream",
     "text": [
      "The number of rows are 100000, and columns are 9\n"
     ]
    }
   ],
   "source": [
    "print(f\"The number of rows are {df.shape[0]}, and columns are {df.shape[1]}\")"
   ]
  },
  {
   "cell_type": "markdown",
   "metadata": {},
   "source": [
    "* Get a sneak peek of your data"
   ]
  },
  {
   "cell_type": "code",
   "execution_count": 149,
   "metadata": {},
   "outputs": [
    {
     "name": "stdout",
     "output_type": "stream",
     "text": [
      "<class 'pandas.core.frame.DataFrame'>\n",
      "RangeIndex: 100000 entries, 0 to 99999\n",
      "Data columns (total 9 columns):\n",
      " #   Column               Non-Null Count   Dtype  \n",
      "---  ------               --------------   -----  \n",
      " 0   gender               100000 non-null  object \n",
      " 1   age                  100000 non-null  float64\n",
      " 2   hypertension         100000 non-null  int64  \n",
      " 3   heart_disease        100000 non-null  int64  \n",
      " 4   smoking_history      100000 non-null  object \n",
      " 5   bmi                  100000 non-null  float64\n",
      " 6   HbA1c_level          100000 non-null  float64\n",
      " 7   blood_glucose_level  100000 non-null  int64  \n",
      " 8   diabetes             100000 non-null  int64  \n",
      "dtypes: float64(3), int64(4), object(2)\n",
      "memory usage: 6.9+ MB\n"
     ]
    }
   ],
   "source": [
    "df.info()"
   ]
  },
  {
   "cell_type": "markdown",
   "metadata": {},
   "source": [
    "### Observations: \n",
    ">* We have 9 columns; 3 columns of float, 4 columns of int and 2 columns of object dtype.\n",
    ">* There is no null values in any of the columns.\n",
    ">* Memory usage is 6.9+ MB"
   ]
  },
  {
   "cell_type": "markdown",
   "metadata": {},
   "source": [
    "### 2.2 Missing Values"
   ]
  },
  {
   "cell_type": "markdown",
   "metadata": {},
   "source": [
    "* verify missing values"
   ]
  },
  {
   "cell_type": "code",
   "execution_count": 150,
   "metadata": {},
   "outputs": [
    {
     "data": {
      "text/plain": [
       "gender                 0\n",
       "age                    0\n",
       "hypertension           0\n",
       "heart_disease          0\n",
       "smoking_history        0\n",
       "bmi                    0\n",
       "HbA1c_level            0\n",
       "blood_glucose_level    0\n",
       "diabetes               0\n",
       "dtype: int64"
      ]
     },
     "execution_count": 150,
     "metadata": {},
     "output_type": "execute_result"
    }
   ],
   "source": [
    "df.isnull().sum()"
   ]
  },
  {
   "cell_type": "markdown",
   "metadata": {},
   "source": [
    "let's plot the missing values using heatmap"
   ]
  },
  {
   "cell_type": "code",
   "execution_count": 151,
   "metadata": {},
   "outputs": [
    {
     "data": {
      "image/png": "[encoded data removed]",
      "text/plain": [
       "<Figure size 1500x600 with 1 Axes>"
      ]
     },
     "metadata": {},
     "output_type": "display_data"
    }
   ],
   "source": [
    "sns.heatmap(df.isnull(),yticklabels = False, cbar = False , cmap = 'viridis')\n",
    "plt.title(\"Missing null values\")\n",
    "plt.show()"
   ]
  },
  {
   "cell_type": "markdown",
   "metadata": {},
   "source": [
    "### 2.3 Duplicate values"
   ]
  },
  {
   "cell_type": "markdown",
   "metadata": {},
   "source": [
    "let's check the duplicate values in the dataset"
   ]
  },
  {
   "cell_type": "code",
   "execution_count": 152,
   "metadata": {},
   "outputs": [
    {
     "data": {
      "text/plain": [
       "3854"
      ]
     },
     "execution_count": 152,
     "metadata": {},
     "output_type": "execute_result"
    }
   ],
   "source": [
    "df.duplicated().sum()"
   ]
  },
  {
   "cell_type": "code",
   "execution_count": 153,
   "metadata": {},
   "outputs": [
    {
     "name": "stdout",
     "output_type": "stream",
     "text": [
      "We have 3854 duplicated rows in the dataset \n",
      "Which are 3.85% of the dataset\n"
     ]
    }
   ],
   "source": [
    "\n",
    "print(f'We have {df.duplicated().sum()} duplicated rows in the dataset \\nWhich are {round(df.duplicated().sum() / len(df) * 100,2)}% of the dataset')"
   ]
  },
  {
   "cell_type": "markdown",
   "metadata": {},
   "source": [
    "This is minute observations and we can drop the duplicated rows to mantain the integrity of the dataset."
   ]
  },
  {
   "cell_type": "code",
   "execution_count": 154,
   "metadata": {},
   "outputs": [],
   "source": [
    "df.drop_duplicates(inplace=True)"
   ]
  },
  {
   "cell_type": "markdown",
   "metadata": {},
   "source": [
    "### 2.3 Summary Statistics of numerical columns"
   ]
  },
  {
   "cell_type": "code",
   "execution_count": 155,
   "metadata": {},
   "outputs": [
    {
     "data": {
      "text/html": [
       "<div>\n",
       "<style scoped>\n",
       "    .dataframe tbody tr th:only-of-type {\n",
       "        vertical-align: middle;\n",
       "    }\n",
       "\n",
       "    .dataframe tbody tr th {\n",
       "        vertical-align: top;\n",
       "    }\n",
       "\n",
       "    .dataframe thead th {\n",
       "        text-align: right;\n",
       "    }\n",
       "</style>\n",
       "<table border=\"1\" class=\"dataframe\">\n",
       "  <thead>\n",
       "    <tr style=\"text-align: right;\">\n",
       "      <th></th>\n",
       "      <th>age</th>\n",
       "      <th>hypertension</th>\n",
       "      <th>heart_disease</th>\n",
       "      <th>bmi</th>\n",
       "      <th>HbA1c_level</th>\n",
       "      <th>blood_glucose_level</th>\n",
       "      <th>diabetes</th>\n",
       "    </tr>\n",
       "  </thead>\n",
       "  <tbody>\n",
       "    <tr>\n",
       "      <th>count</th>\n",
       "      <td>96146.000000</td>\n",
       "      <td>96146.000000</td>\n",
       "      <td>96146.000000</td>\n",
       "      <td>96146.000000</td>\n",
       "      <td>96146.000000</td>\n",
       "      <td>96146.000000</td>\n",
       "      <td>96146.000000</td>\n",
       "    </tr>\n",
       "    <tr>\n",
       "      <th>mean</th>\n",
       "      <td>41.794326</td>\n",
       "      <td>0.077601</td>\n",
       "      <td>0.040803</td>\n",
       "      <td>27.321461</td>\n",
       "      <td>5.532609</td>\n",
       "      <td>138.218231</td>\n",
       "      <td>0.088220</td>\n",
       "    </tr>\n",
       "    <tr>\n",
       "      <th>std</th>\n",
       "      <td>22.462948</td>\n",
       "      <td>0.267544</td>\n",
       "      <td>0.197833</td>\n",
       "      <td>6.767716</td>\n",
       "      <td>1.073232</td>\n",
       "      <td>40.909771</td>\n",
       "      <td>0.283616</td>\n",
       "    </tr>\n",
       "    <tr>\n",
       "      <th>min</th>\n",
       "      <td>0.080000</td>\n",
       "      <td>0.000000</td>\n",
       "      <td>0.000000</td>\n",
       "      <td>10.010000</td>\n",
       "      <td>3.500000</td>\n",
       "      <td>80.000000</td>\n",
       "      <td>0.000000</td>\n",
       "    </tr>\n",
       "    <tr>\n",
       "      <th>25%</th>\n",
       "      <td>24.000000</td>\n",
       "      <td>0.000000</td>\n",
       "      <td>0.000000</td>\n",
       "      <td>23.400000</td>\n",
       "      <td>4.800000</td>\n",
       "      <td>100.000000</td>\n",
       "      <td>0.000000</td>\n",
       "    </tr>\n",
       "    <tr>\n",
       "      <th>50%</th>\n",
       "      <td>43.000000</td>\n",
       "      <td>0.000000</td>\n",
       "      <td>0.000000</td>\n",
       "      <td>27.320000</td>\n",
       "      <td>5.800000</td>\n",
       "      <td>140.000000</td>\n",
       "      <td>0.000000</td>\n",
       "    </tr>\n",
       "    <tr>\n",
       "      <th>75%</th>\n",
       "      <td>59.000000</td>\n",
       "      <td>0.000000</td>\n",
       "      <td>0.000000</td>\n",
       "      <td>29.860000</td>\n",
       "      <td>6.200000</td>\n",
       "      <td>159.000000</td>\n",
       "      <td>0.000000</td>\n",
       "    </tr>\n",
       "    <tr>\n",
       "      <th>max</th>\n",
       "      <td>80.000000</td>\n",
       "      <td>1.000000</td>\n",
       "      <td>1.000000</td>\n",
       "      <td>95.690000</td>\n",
       "      <td>9.000000</td>\n",
       "      <td>300.000000</td>\n",
       "      <td>1.000000</td>\n",
       "    </tr>\n",
       "  </tbody>\n",
       "</table>\n",
       "</div>"
      ],
      "text/plain": [
       "                age  hypertension  heart_disease           bmi   HbA1c_level  \\\n",
       "count  96146.000000  96146.000000   96146.000000  96146.000000  96146.000000   \n",
       "mean      41.794326      0.077601       0.040803     27.321461      5.532609   \n",
       "std       22.462948      0.267544       0.197833      6.767716      1.073232   \n",
       "min        0.080000      0.000000       0.000000     10.010000      3.500000   \n",
       "25%       24.000000      0.000000       0.000000     23.400000      4.800000   \n",
       "50%       43.000000      0.000000       0.000000     27.320000      5.800000   \n",
       "75%       59.000000      0.000000       0.000000     29.860000      6.200000   \n",
       "max       80.000000      1.000000       1.000000     95.690000      9.000000   \n",
       "\n",
       "       blood_glucose_level      diabetes  \n",
       "count         96146.000000  96146.000000  \n",
       "mean            138.218231      0.088220  \n",
       "std              40.909771      0.283616  \n",
       "min              80.000000      0.000000  \n",
       "25%             100.000000      0.000000  \n",
       "50%             140.000000      0.000000  \n",
       "75%             159.000000      0.000000  \n",
       "max             300.000000      1.000000  "
      ]
     },
     "execution_count": 155,
     "metadata": {},
     "output_type": "execute_result"
    }
   ],
   "source": [
    "df.describe()"
   ]
  },
  {
   "cell_type": "markdown",
   "metadata": {},
   "source": [
    "### 2.4 unique values and value counts in non-numerical columns"
   ]
  },
  {
   "cell_type": "markdown",
   "metadata": {},
   "source": [
    "* let's check the nuniqe values and count in each non-numericale column"
   ]
  },
  {
   "cell_type": "code",
   "execution_count": 156,
   "metadata": {},
   "outputs": [
    {
     "name": "stdout",
     "output_type": "stream",
     "text": [
      "gender has following 3 unique values: \n",
      "['Female' 'Male' 'Other']\n",
      "\n",
      "Value counts for gender are: \n",
      "gender\n",
      "Female    56161\n",
      "Male      39967\n",
      "Other        18\n",
      "Name: count, dtype: int64\n",
      "\n",
      "smoking_history has following 6 unique values: \n",
      "['never' 'No Info' 'current' 'former' 'ever' 'not current']\n",
      "\n",
      "Value counts for smoking_history are: \n",
      "smoking_history\n",
      "never          34398\n",
      "No Info        32887\n",
      "former          9299\n",
      "current         9197\n",
      "not current     6367\n",
      "ever            3998\n",
      "Name: count, dtype: int64\n",
      "\n"
     ]
    }
   ],
   "source": [
    "# take non_numeric columns\n",
    "non_numeric_columns = df.select_dtypes(exclude=np.number).columns.tolist()\n",
    "for col in non_numeric_columns:\n",
    "    print(f\"{col} has following {df[col].nunique()} unique values: \\n{df[col].unique()}\\n\")\n",
    "    print(f\"Value counts for {col} are: \\n{df[col].value_counts()}\\n\")"
   ]
  },
  {
   "cell_type": "markdown",
   "metadata": {},
   "source": [
    "### 2.4 Distribution of the data"
   ]
  },
  {
   "cell_type": "markdown",
   "metadata": {},
   "source": [
    "* Gender"
   ]
  },
  {
   "cell_type": "code",
   "execution_count": 157,
   "metadata": {},
   "outputs": [
    {
     "data": {
      "image/png": "[encoded data removed]",
      "text/plain": [
       "<Figure size 1500x600 with 1 Axes>"
      ]
     },
     "metadata": {},
     "output_type": "display_data"
    }
   ],
   "source": [
    "sns.countplot(df, x='gender')\n",
    "plt.title(\"Gender Distribution\")\n",
    "plt.show()"
   ]
  },
  {
   "cell_type": "markdown",
   "metadata": {},
   "source": [
    "* age"
   ]
  },
  {
   "cell_type": "code",
   "execution_count": 158,
   "metadata": {},
   "outputs": [
    {
     "data": {
      "image/png": "[encoded data removed]",
      "text/plain": [
       "<Figure size 1500x600 with 1 Axes>"
      ]
     },
     "metadata": {},
     "output_type": "display_data"
    }
   ],
   "source": [
    "sns.histplot(df, x='age', bins=20)\n",
    "plt.title(\"Age distribution\")\n",
    "plt.show()"
   ]
  },
  {
   "cell_type": "markdown",
   "metadata": {},
   "source": [
    "We have almost uniform distribution of age in the dataset. We have all entries from every age group."
   ]
  },
  {
   "cell_type": "markdown",
   "metadata": {},
   "source": [
    "* hypertension"
   ]
  },
  {
   "cell_type": "code",
   "execution_count": 159,
   "metadata": {},
   "outputs": [
    {
     "data": {
      "image/png": "[encoded data removed]",
      "text/plain": [
       "<Figure size 1500x600 with 1 Axes>"
      ]
     },
     "metadata": {},
     "output_type": "display_data"
    }
   ],
   "source": [
    "sns.countplot(df, x='hypertension')\n",
    "plt.title(\"Hypertension Distribution\")\n",
    "plt.show()"
   ]
  },
  {
   "cell_type": "markdown",
   "metadata": {},
   "source": [
    "Our dataset is imbalanced, we have more people without hypertension than with hypertension."
   ]
  },
  {
   "cell_type": "markdown",
   "metadata": {},
   "source": [
    "* heart_disease"
   ]
  },
  {
   "cell_type": "code",
   "execution_count": 160,
   "metadata": {},
   "outputs": [
    {
     "data": {
      "image/png": "[encoded data removed]",
      "text/plain": [
       "<Figure size 1500x600 with 1 Axes>"
      ]
     },
     "metadata": {},
     "output_type": "display_data"
    }
   ],
   "source": [
    "sns.countplot(df, x='heart_disease')\n",
    "plt.title(\"Heart Disease Distribution\")\n",
    "plt.show()"
   ]
  },
  {
   "cell_type": "markdown",
   "metadata": {},
   "source": [
    "more people have no heart disease. very few people have heart disease"
   ]
  },
  {
   "cell_type": "markdown",
   "metadata": {},
   "source": [
    "* smoking_history"
   ]
  },
  {
   "cell_type": "code",
   "execution_count": 161,
   "metadata": {},
   "outputs": [
    {
     "data": {
      "image/png": "[encoded data removed]",
      "text/plain": [
       "<Figure size 1500x600 with 1 Axes>"
      ]
     },
     "metadata": {},
     "output_type": "display_data"
    }
   ],
   "source": [
    "sns.countplot(df, x='smoking_history')\n",
    "plt.title(\"Smoking History Distribution\")\n",
    "plt.show()"
   ]
  },
  {
   "cell_type": "markdown",
   "metadata": {},
   "source": [
    "* bmi"
   ]
  },
  {
   "cell_type": "code",
   "execution_count": 162,
   "metadata": {},
   "outputs": [
    {
     "data": {
      "image/png": "[encoded data removed]",
      "text/plain": [
       "<Figure size 1500x600 with 1 Axes>"
      ]
     },
     "metadata": {},
     "output_type": "display_data"
    }
   ],
   "source": [
    "sns.histplot(df, x='bmi', bins=20)\n",
    "plt.title(\"BMI distribution\")\n",
    "plt.show()"
   ]
  },
  {
   "cell_type": "markdown",
   "metadata": {},
   "source": [
    "BMI Distribution is slighly right skewed. we have potential outliers in the dataset."
   ]
  },
  {
   "cell_type": "markdown",
   "metadata": {},
   "source": [
    "![bmi_chart](https://cdn.vertex42.com/ExcelTemplates/Images/bmi-chart.gif)"
   ]
  },
  {
   "cell_type": "markdown",
   "metadata": {},
   "source": [
    "* HbA1c_level"
   ]
  },
  {
   "cell_type": "code",
   "execution_count": 163,
   "metadata": {},
   "outputs": [
    {
     "data": {
      "image/png": "[encoded data removed]",
      "text/plain": [
       "<Figure size 1500x600 with 1 Axes>"
      ]
     },
     "metadata": {},
     "output_type": "display_data"
    }
   ],
   "source": [
    "sns.histplot(df, x='HbA1c_level', bins=20)\n",
    "plt.title(\"HbA1c_level distribution\")\n",
    "plt.show()"
   ]
  },
  {
   "cell_type": "markdown",
   "metadata": {},
   "source": [
    "![HB1c_level_chart](https://www.medindia.net/images/common/general/450_237/diabetes-control-chart.jpg)"
   ]
  },
  {
   "cell_type": "markdown",
   "metadata": {},
   "source": [
    "HbA1c_level has no proper distribution. let's see the value counts for this column"
   ]
  },
  {
   "cell_type": "code",
   "execution_count": 164,
   "metadata": {},
   "outputs": [
    {
     "data": {
      "image/png": "[encoded data removed]",
      "text/plain": [
       "<Figure size 1500x600 with 1 Axes>"
      ]
     },
     "metadata": {},
     "output_type": "display_data"
    }
   ],
   "source": [
    "sns.countplot(df, x='blood_glucose_level')\n",
    "plt.title(\"Blood Glucose Level Distribution\")\n",
    "plt.show()"
   ]
  },
  {
   "cell_type": "markdown",
   "metadata": {},
   "source": [
    "![blood_glocose_chart](https://assets-global.website-files.com/622154d5a1d5c02e596f4511/62f2bee4de0117f1ec10c745_BloodGlucoseChart.jpeg)"
   ]
  },
  {
   "cell_type": "markdown",
   "metadata": {},
   "source": [
    "We have few patients with blood glucose level above 200."
   ]
  },
  {
   "cell_type": "markdown",
   "metadata": {},
   "source": [
    "* diabetes"
   ]
  },
  {
   "cell_type": "code",
   "execution_count": 165,
   "metadata": {},
   "outputs": [
    {
     "data": {
      "image/png": "[encoded data removed]",
      "text/plain": [
       "<Figure size 1500x600 with 1 Axes>"
      ]
     },
     "metadata": {},
     "output_type": "display_data"
    }
   ],
   "source": [
    "sns.countplot(df, x='diabetes')\n",
    "plt.title(\"Diabetes Distribution\")\n",
    "plt.show()"
   ]
  },
  {
   "cell_type": "code",
   "execution_count": 166,
   "metadata": {},
   "outputs": [
    {
     "data": {
      "image/png": "[encoded data removed]",
      "text/plain": [
       "<Figure size 1500x1000 with 9 Axes>"
      ]
     },
     "metadata": {},
     "output_type": "display_data"
    }
   ],
   "source": [
    "# we can also see the distribution of numeric columns using histplot\n",
    "df.hist(figsize=(15,10))\n",
    "plt.show()"
   ]
  },
  {
   "cell_type": "code",
   "execution_count": 167,
   "metadata": {},
   "outputs": [
    {
     "data": {
      "image/png": "[encoded data removed]",
      "text/plain": [
       "<Figure size 1500x600 with 1 Axes>"
      ]
     },
     "metadata": {},
     "output_type": "display_data"
    }
   ],
   "source": [
    "sns.lineplot(df, x='age', y='HbA1c_level')\n",
    "plt.title(\"HbA1c_level vs Age\")\n",
    "plt.show()"
   ]
  },
  {
   "cell_type": "markdown",
   "metadata": {},
   "source": [
    "convert the numerical column heart_disease to categorical data\n"
   ]
  },
  {
   "cell_type": "code",
   "execution_count": null,
   "metadata": {},
   "outputs": [],
   "source": [
    "df[['heart_disease_categorical', 'hypertension_categorical', 'diabetes_categorical']] = df[['heart_disease', 'hypertension', 'diabetes']].apply(lambda x: pd.Categorical(x))"
   ]
  },
  {
   "cell_type": "code",
   "execution_count": 129,
   "metadata": {},
   "outputs": [],
   "source": [
    "bins = [0,10,18,30,50,80]\n",
    "labels = ['children', 'teenagers', 'youngs', 'middle','old_age']\n",
    "df['age_cateogry'] = pd.cut(df['age'],bins = bins, labels = labels)"
   ]
  },
  {
   "cell_type": "markdown",
   "metadata": {},
   "source": [
    "* Draw sunbust on df clumns gender, diabetes_categorical, smoking_history\n"
   ]
  },
  {
   "cell_type": "code",
   "execution_count": 143,
   "metadata": {},
   "outputs": [
    {
     "data": {
      "application/vnd.plotly.v1+json": {
       "config": {
        "plotlyServerURL": "https://plot.ly"
       },
       "data": [
        {
         "branchvalues": "total",
         "customdata": [
          [
           "Female"
          ],
          [
           "Other"
          ],
          [
           "Male"
          ],
          [
           "Female"
          ],
          [
           "Other"
          ],
          [
           "Other"
          ],
          [
           "Female"
          ],
          [
           "Female"
          ],
          [
           "Other"
          ],
          [
           null
          ],
          [
           "Male"
          ],
          [
           "Male"
          ],
          [
           null
          ],
          [
           "Male"
          ],
          [
           "Male"
          ],
          [
           null
          ],
          [
           null
          ],
          [
           null
          ],
          [
           null
          ],
          [
           "Female"
          ],
          [
           "Male"
          ],
          [
           null
          ],
          [
           "Female"
          ],
          [
           "Female"
          ],
          [
           "Other"
          ],
          [
           "Male"
          ],
          [
           "Female"
          ],
          [
           "Other"
          ],
          [
           "Other"
          ],
          [
           "Male"
          ],
          [
           "Female"
          ],
          [
           "Other"
          ],
          [
           "Female"
          ],
          [
           "Other"
          ],
          [
           "Male"
          ],
          [
           null
          ],
          [
           "Female"
          ],
          [
           null
          ],
          [
           "Male"
          ],
          [
           null
          ],
          [
           "Female"
          ],
          [
           null
          ],
          [
           null
          ],
          [
           null
          ],
          [
           null
          ],
          [
           "Female"
          ],
          [
           "Male"
          ],
          [
           "Male"
          ],
          [
           "Male"
          ],
          [
           null
          ],
          [
           "Female"
          ],
          [
           "Male"
          ],
          [
           null
          ],
          [
           "Other"
          ],
          [
           "Male"
          ],
          [
           "Male"
          ],
          [
           "Female"
          ],
          [
           null
          ],
          [
           "Male"
          ],
          [
           null
          ],
          [
           "Other"
          ],
          [
           "Male"
          ],
          [
           "Male"
          ],
          [
           "Other"
          ],
          [
           "Female"
          ],
          [
           "Male"
          ],
          [
           null
          ],
          [
           "Female"
          ],
          [
           "Male"
          ],
          [
           null
          ],
          [
           "Other"
          ],
          [
           null
          ],
          [
           "Male"
          ],
          [
           "Female"
          ],
          [
           "Female"
          ],
          [
           "Male"
          ],
          [
           "Female"
          ],
          [
           "Female"
          ],
          [
           "Female"
          ],
          [
           "Female"
          ],
          [
           "Male"
          ],
          [
           "Other"
          ],
          [
           null
          ],
          [
           "Male"
          ],
          [
           "Male"
          ],
          [
           "Female"
          ],
          [
           null
          ],
          [
           null
          ],
          [
           null
          ],
          [
           null
          ],
          [
           "Female"
          ],
          [
           "Male"
          ],
          [
           null
          ],
          [
           "Female"
          ],
          [
           null
          ],
          [
           "Male"
          ],
          [
           "Male"
          ],
          [
           null
          ],
          [
           "Male"
          ],
          [
           "Female"
          ],
          [
           "Male"
          ],
          [
           "Female"
          ],
          [
           "Female"
          ],
          [
           null
          ],
          [
           "Male"
          ],
          [
           "Male"
          ],
          [
           "Other"
          ],
          [
           "Other"
          ]
         ],
         "domain": {
          "x": [
           0,
           1
          ],
          "y": [
           0,
           1
          ]
         },
         "hovertemplate": "labels=%{label}<br>diabetes=%{value}<br>parent=%{parent}<br>id=%{id}<br>gender=%{customdata[0]}<extra></extra>",
         "ids": [
          "Female/children/0/0",
          "Other/old_age/0",
          "Male/old_age/0",
          "Female/old_age/0",
          "Other/middle/0",
          "Other/youngs/0",
          "Female/youngs/0",
          "Female/teenagers/0",
          "Other/children/0",
          "Female/children/1",
          "Male/children/0",
          "Male/old_age/1/1",
          "Other/middle/1/1",
          "Male",
          "Male/youngs/1/1",
          "Female/youngs/1/1",
          "Male/teenagers/1/1",
          "Other/children/1/1",
          "Male/children/1/1",
          "Female/children/0",
          "Male/children/1",
          "Other/children/1",
          "Female/teenagers/1",
          "Female",
          "Other/old_age",
          "Male/old_age",
          "Female/old_age",
          "Other/middle",
          "Other/youngs",
          "Male/youngs",
          "Female/youngs",
          "Other/teenagers",
          "Female/teenagers",
          "Other/children",
          "Male/children",
          "Other/old_age/1",
          "Female/old_age/1",
          "Other/middle/1",
          "Male/middle/1",
          "Other/youngs/1",
          "Female/youngs/1",
          "Other/teenagers/1",
          "Female/children/1/1",
          "Other/old_age/0/1",
          "Other/youngs/1/1",
          "Female/old_age/0/1",
          "Male/children/1/0",
          "Male/old_age/0/0",
          "Male/old_age/0/1",
          "Other/youngs/1/0",
          "Female/middle/1/0",
          "Male/middle/1/0",
          "Other/middle/1/0",
          "Other/middle/0/0",
          "Male/old_age/1/0",
          "Male/middle/0/0",
          "Female/middle/0/0",
          "Female/children/0/1",
          "Male/children/0/1",
          "Other/children/0/1",
          "Other/youngs/0/0",
          "Male/youngs/0/0",
          "Male/middle/0/1",
          "Other/children/0/0",
          "Female/middle/0/1",
          "Male/teenagers/0/0",
          "Female/teenagers/0/1",
          "Female/youngs/0/1",
          "Male/youngs/0/1",
          "Male/teenagers/0/1",
          "Other/teenagers/0/0",
          "Other/children/1/0",
          "Male/middle",
          "Female/old_age/0/0",
          "Female/children",
          "Male/teenagers",
          "Female/middle",
          "Female/teenagers/0/0",
          "Female/middle/1",
          "Female/youngs/0/0",
          "Male/old_age/1",
          "Other/old_age/0/0",
          "Female/children/1/0",
          "Male/children/0/0",
          "Male/youngs/1/0",
          "Female/teenagers/1/0",
          "Other/middle/0/1",
          "Female/teenagers/1/1",
          "Other/teenagers/1/1",
          "Other/youngs/0/1",
          "Female/middle/1/1",
          "Male/middle/1/1",
          "Other/teenagers/0/1",
          "Female/old_age/1/1",
          "Other/old_age/1/1",
          "Male/youngs/1",
          "Male/teenagers/0",
          "Other/old_age/1/0",
          "Male/youngs/0",
          "Female/middle/0",
          "Male/middle/0",
          "Female/old_age/1/0",
          "Female/youngs/1/0",
          "Other/teenagers/1/0",
          "Male/teenagers/1",
          "Male/teenagers/1/0",
          "Other/teenagers/0",
          "Other"
         ],
         "labels": [
          "0",
          "0",
          "0",
          "0",
          "0",
          "0",
          "0",
          "0",
          "0",
          "1",
          "0",
          "1",
          "1",
          "Male",
          "1",
          "1",
          "1",
          "1",
          "1",
          "0",
          "1",
          "1",
          "1",
          "Female",
          "old_age",
          "old_age",
          "old_age",
          "middle",
          "youngs",
          "youngs",
          "youngs",
          "teenagers",
          "teenagers",
          "children",
          "children",
          "1",
          "1",
          "1",
          "1",
          "1",
          "1",
          "1",
          "1",
          "1",
          "1",
          "1",
          "0",
          "0",
          "1",
          "0",
          "0",
          "0",
          "0",
          "0",
          "0",
          "0",
          "0",
          "1",
          "1",
          "1",
          "0",
          "0",
          "1",
          "0",
          "1",
          "0",
          "1",
          "1",
          "1",
          "1",
          "0",
          "0",
          "middle",
          "0",
          "children",
          "teenagers",
          "middle",
          "0",
          "1",
          "0",
          "1",
          "0",
          "0",
          "0",
          "0",
          "0",
          "1",
          "1",
          "1",
          "1",
          "1",
          "1",
          "1",
          "1",
          "1",
          "1",
          "0",
          "0",
          "0",
          "0",
          "0",
          "0",
          "0",
          "0",
          "1",
          "0",
          "0",
          "Other"
         ],
         "marker": {
          "colors": [
           "#636efa",
           "#EF553B",
           "#00cc96",
           "#636efa",
           "#EF553B",
           "#EF553B",
           "#636efa",
           "#636efa",
           "#EF553B",
           "#ab63fa",
           "#00cc96",
           "#00cc96",
           "#ab63fa",
           "#00cc96",
           "#00cc96",
           "#ab63fa",
           "#ab63fa",
           "#ab63fa",
           "#ab63fa",
           "#636efa",
           "#00cc96",
           "#ab63fa",
           "#636efa",
           "#636efa",
           "#EF553B",
           "#00cc96",
           "#636efa",
           "#EF553B",
           "#EF553B",
           "#00cc96",
           "#636efa",
           "#EF553B",
           "#636efa",
           "#EF553B",
           "#00cc96",
           "#ab63fa",
           "#636efa",
           "#ab63fa",
           "#00cc96",
           "#ab63fa",
           "#636efa",
           "#ab63fa",
           "#ab63fa",
           "#ab63fa",
           "#ab63fa",
           "#636efa",
           "#00cc96",
           "#00cc96",
           "#00cc96",
           "#ab63fa",
           "#636efa",
           "#00cc96",
           "#ab63fa",
           "#EF553B",
           "#00cc96",
           "#00cc96",
           "#636efa",
           "#ab63fa",
           "#00cc96",
           "#ab63fa",
           "#EF553B",
           "#00cc96",
           "#00cc96",
           "#EF553B",
           "#636efa",
           "#00cc96",
           "#ab63fa",
           "#636efa",
           "#00cc96",
           "#ab63fa",
           "#EF553B",
           "#ab63fa",
           "#00cc96",
           "#636efa",
           "#636efa",
           "#00cc96",
           "#636efa",
           "#636efa",
           "#636efa",
           "#636efa",
           "#00cc96",
           "#EF553B",
           "#ab63fa",
           "#00cc96",
           "#00cc96",
           "#636efa",
           "#ab63fa",
           "#ab63fa",
           "#ab63fa",
           "#ab63fa",
           "#636efa",
           "#00cc96",
           "#ab63fa",
           "#636efa",
           "#ab63fa",
           "#00cc96",
           "#00cc96",
           "#ab63fa",
           "#00cc96",
           "#636efa",
           "#00cc96",
           "#636efa",
           "#636efa",
           "#ab63fa",
           "#00cc96",
           "#00cc96",
           "#EF553B",
           "#EF553B"
          ]
         },
         "name": "",
         "parents": [
          "Female/children/0",
          "Other/old_age",
          "Male/old_age",
          "Female/old_age",
          "Other/middle",
          "Other/youngs",
          "Female/youngs",
          "Female/teenagers",
          "Other/children",
          "Female/children",
          "Male/children",
          "Male/old_age/1",
          "Other/middle/1",
          "",
          "Male/youngs/1",
          "Female/youngs/1",
          "Male/teenagers/1",
          "Other/children/1",
          "Male/children/1",
          "Female/children",
          "Male/children",
          "Other/children",
          "Female/teenagers",
          "",
          "Other",
          "Male",
          "Female",
          "Other",
          "Other",
          "Male",
          "Female",
          "Other",
          "Female",
          "Other",
          "Male",
          "Other/old_age",
          "Female/old_age",
          "Other/middle",
          "Male/middle",
          "Other/youngs",
          "Female/youngs",
          "Other/teenagers",
          "Female/children/1",
          "Other/old_age/0",
          "Other/youngs/1",
          "Female/old_age/0",
          "Male/children/1",
          "Male/old_age/0",
          "Male/old_age/0",
          "Other/youngs/1",
          "Female/middle/1",
          "Male/middle/1",
          "Other/middle/1",
          "Other/middle/0",
          "Male/old_age/1",
          "Male/middle/0",
          "Female/middle/0",
          "Female/children/0",
          "Male/children/0",
          "Other/children/0",
          "Other/youngs/0",
          "Male/youngs/0",
          "Male/middle/0",
          "Other/children/0",
          "Female/middle/0",
          "Male/teenagers/0",
          "Female/teenagers/0",
          "Female/youngs/0",
          "Male/youngs/0",
          "Male/teenagers/0",
          "Other/teenagers/0",
          "Other/children/1",
          "Male",
          "Female/old_age/0",
          "Female",
          "Male",
          "Female",
          "Female/teenagers/0",
          "Female/middle",
          "Female/youngs/0",
          "Male/old_age",
          "Other/old_age/0",
          "Female/children/1",
          "Male/children/0",
          "Male/youngs/1",
          "Female/teenagers/1",
          "Other/middle/0",
          "Female/teenagers/1",
          "Other/teenagers/1",
          "Other/youngs/0",
          "Female/middle/1",
          "Male/middle/1",
          "Other/teenagers/0",
          "Female/old_age/1",
          "Other/old_age/1",
          "Male/youngs",
          "Male/teenagers",
          "Other/old_age/1",
          "Male/youngs",
          "Female/middle",
          "Male/middle",
          "Female/old_age/1",
          "Female/youngs/1",
          "Other/teenagers/1",
          "Male/teenagers",
          "Male/teenagers/1",
          "Other/teenagers",
          ""
         ],
         "type": "sunburst",
         "values": [
          7,
          0,
          1916,
          2043,
          0,
          0,
          92,
          19,
          0,
          0,
          5,
          157,
          0,
          3337,
          0,
          0,
          0,
          0,
          0,
          7,
          0,
          0,
          0,
          3700,
          0,
          2624,
          2896,
          0,
          0,
          73,
          99,
          0,
          19,
          0,
          5,
          0,
          853,
          0,
          141,
          0,
          7,
          0,
          0,
          0,
          0,
          281,
          0,
          1506,
          410,
          0,
          113,
          130,
          0,
          0,
          551,
          449,
          541,
          0,
          1,
          0,
          0,
          67,
          29,
          0,
          17,
          16,
          0,
          0,
          0,
          0,
          0,
          0,
          619,
          1762,
          7,
          16,
          679,
          19,
          121,
          92,
          708,
          0,
          0,
          4,
          6,
          0,
          0,
          0,
          0,
          0,
          8,
          11,
          0,
          138,
          0,
          6,
          16,
          0,
          67,
          558,
          478,
          715,
          7,
          0,
          0,
          0,
          0,
          0
         ]
        }
       ],
       "layout": {
        "legend": {
         "tracegroupgap": 0
        },
        "margin": {
         "t": 60
        },
        "template": {
         "data": {
          "bar": [
           {
            "error_x": {
             "color": "#2a3f5f"
            },
            "error_y": {
             "color": "#2a3f5f"
            },
            "marker": {
             "line": {
              "color": "#E5ECF6",
              "width": 0.5
             },
             "pattern": {
              "fillmode": "overlay",
              "size": 10,
              "solidity": 0.2
             }
            },
            "type": "bar"
           }
          ],
          "barpolar": [
           {
            "marker": {
             "line": {
              "color": "#E5ECF6",
              "width": 0.5
             },
             "pattern": {
              "fillmode": "overlay",
              "size": 10,
              "solidity": 0.2
             }
            },
            "type": "barpolar"
           }
          ],
          "carpet": [
           {
            "aaxis": {
             "endlinecolor": "#2a3f5f",
             "gridcolor": "white",
             "linecolor": "white",
             "minorgridcolor": "white",
             "startlinecolor": "#2a3f5f"
            },
            "baxis": {
             "endlinecolor": "#2a3f5f",
             "gridcolor": "white",
             "linecolor": "white",
             "minorgridcolor": "white",
             "startlinecolor": "#2a3f5f"
            },
            "type": "carpet"
           }
          ],
          "choropleth": [
           {
            "colorbar": {
             "outlinewidth": 0,
             "ticks": ""
            },
            "type": "choropleth"
           }
          ],
          "contour": [
           {
            "colorbar": {
             "outlinewidth": 0,
             "ticks": ""
            },
            "colorscale": [
             [
              0,
              "#0d0887"
             ],
             [
              0.1111111111111111,
              "#46039f"
             ],
             [
              0.2222222222222222,
              "#7201a8"
             ],
             [
              0.3333333333333333,
              "#9c179e"
             ],
             [
              0.4444444444444444,
              "#bd3786"
             ],
             [
              0.5555555555555556,
              "#d8576b"
             ],
             [
              0.6666666666666666,
              "#ed7953"
             ],
             [
              0.7777777777777778,
              "#fb9f3a"
             ],
             [
              0.8888888888888888,
              "#fdca26"
             ],
             [
              1,
              "#f0f921"
             ]
            ],
            "type": "contour"
           }
          ],
          "contourcarpet": [
           {
            "colorbar": {
             "outlinewidth": 0,
             "ticks": ""
            },
            "type": "contourcarpet"
           }
          ],
          "heatmap": [
           {
            "colorbar": {
             "outlinewidth": 0,
             "ticks": ""
            },
            "colorscale": [
             [
              0,
              "#0d0887"
             ],
             [
              0.1111111111111111,
              "#46039f"
             ],
             [
              0.2222222222222222,
              "#7201a8"
             ],
             [
              0.3333333333333333,
              "#9c179e"
             ],
             [
              0.4444444444444444,
              "#bd3786"
             ],
             [
              0.5555555555555556,
              "#d8576b"
             ],
             [
              0.6666666666666666,
              "#ed7953"
             ],
             [
              0.7777777777777778,
              "#fb9f3a"
             ],
             [
              0.8888888888888888,
              "#fdca26"
             ],
             [
              1,
              "#f0f921"
             ]
            ],
            "type": "heatmap"
           }
          ],
          "heatmapgl": [
           {
            "colorbar": {
             "outlinewidth": 0,
             "ticks": ""
            },
            "colorscale": [
             [
              0,
              "#0d0887"
             ],
             [
              0.1111111111111111,
              "#46039f"
             ],
             [
              0.2222222222222222,
              "#7201a8"
             ],
             [
              0.3333333333333333,
              "#9c179e"
             ],
             [
              0.4444444444444444,
              "#bd3786"
             ],
             [
              0.5555555555555556,
              "#d8576b"
             ],
             [
              0.6666666666666666,
              "#ed7953"
             ],
             [
              0.7777777777777778,
              "#fb9f3a"
             ],
             [
              0.8888888888888888,
              "#fdca26"
             ],
             [
              1,
              "#f0f921"
             ]
            ],
            "type": "heatmapgl"
           }
          ],
          "histogram": [
           {
            "marker": {
             "pattern": {
              "fillmode": "overlay",
              "size": 10,
              "solidity": 0.2
             }
            },
            "type": "histogram"
           }
          ],
          "histogram2d": [
           {
            "colorbar": {
             "outlinewidth": 0,
             "ticks": ""
            },
            "colorscale": [
             [
              0,
              "#0d0887"
             ],
             [
              0.1111111111111111,
              "#46039f"
             ],
             [
              0.2222222222222222,
              "#7201a8"
             ],
             [
              0.3333333333333333,
              "#9c179e"
             ],
             [
              0.4444444444444444,
              "#bd3786"
             ],
             [
              0.5555555555555556,
              "#d8576b"
             ],
             [
              0.6666666666666666,
              "#ed7953"
             ],
             [
              0.7777777777777778,
              "#fb9f3a"
             ],
             [
              0.8888888888888888,
              "#fdca26"
             ],
             [
              1,
              "#f0f921"
             ]
            ],
            "type": "histogram2d"
           }
          ],
          "histogram2dcontour": [
           {
            "colorbar": {
             "outlinewidth": 0,
             "ticks": ""
            },
            "colorscale": [
             [
              0,
              "#0d0887"
             ],
             [
              0.1111111111111111,
              "#46039f"
             ],
             [
              0.2222222222222222,
              "#7201a8"
             ],
             [
              0.3333333333333333,
              "#9c179e"
             ],
             [
              0.4444444444444444,
              "#bd3786"
             ],
             [
              0.5555555555555556,
              "#d8576b"
             ],
             [
              0.6666666666666666,
              "#ed7953"
             ],
             [
              0.7777777777777778,
              "#fb9f3a"
             ],
             [
              0.8888888888888888,
              "#fdca26"
             ],
             [
              1,
              "#f0f921"
             ]
            ],
            "type": "histogram2dcontour"
           }
          ],
          "mesh3d": [
           {
            "colorbar": {
             "outlinewidth": 0,
             "ticks": ""
            },
            "type": "mesh3d"
           }
          ],
          "parcoords": [
           {
            "line": {
             "colorbar": {
              "outlinewidth": 0,
              "ticks": ""
             }
            },
            "type": "parcoords"
           }
          ],
          "pie": [
           {
            "automargin": true,
            "type": "pie"
           }
          ],
          "scatter": [
           {
            "fillpattern": {
             "fillmode": "overlay",
             "size": 10,
             "solidity": 0.2
            },
            "type": "scatter"
           }
          ],
          "scatter3d": [
           {
            "line": {
             "colorbar": {
              "outlinewidth": 0,
              "ticks": ""
             }
            },
            "marker": {
             "colorbar": {
              "outlinewidth": 0,
              "ticks": ""
             }
            },
            "type": "scatter3d"
           }
          ],
          "scattercarpet": [
           {
            "marker": {
             "colorbar": {
              "outlinewidth": 0,
              "ticks": ""
             }
            },
            "type": "scattercarpet"
           }
          ],
          "scattergeo": [
           {
            "marker": {
             "colorbar": {
              "outlinewidth": 0,
              "ticks": ""
             }
            },
            "type": "scattergeo"
           }
          ],
          "scattergl": [
           {
            "marker": {
             "colorbar": {
              "outlinewidth": 0,
              "ticks": ""
             }
            },
            "type": "scattergl"
           }
          ],
          "scattermapbox": [
           {
            "marker": {
             "colorbar": {
              "outlinewidth": 0,
              "ticks": ""
             }
            },
            "type": "scattermapbox"
           }
          ],
          "scatterpolar": [
           {
            "marker": {
             "colorbar": {
              "outlinewidth": 0,
              "ticks": ""
             }
            },
            "type": "scatterpolar"
           }
          ],
          "scatterpolargl": [
           {
            "marker": {
             "colorbar": {
              "outlinewidth": 0,
              "ticks": ""
             }
            },
            "type": "scatterpolargl"
           }
          ],
          "scatterternary": [
           {
            "marker": {
             "colorbar": {
              "outlinewidth": 0,
              "ticks": ""
             }
            },
            "type": "scatterternary"
           }
          ],
          "surface": [
           {
            "colorbar": {
             "outlinewidth": 0,
             "ticks": ""
            },
            "colorscale": [
             [
              0,
              "#0d0887"
             ],
             [
              0.1111111111111111,
              "#46039f"
             ],
             [
              0.2222222222222222,
              "#7201a8"
             ],
             [
              0.3333333333333333,
              "#9c179e"
             ],
             [
              0.4444444444444444,
              "#bd3786"
             ],
             [
              0.5555555555555556,
              "#d8576b"
             ],
             [
              0.6666666666666666,
              "#ed7953"
             ],
             [
              0.7777777777777778,
              "#fb9f3a"
             ],
             [
              0.8888888888888888,
              "#fdca26"
             ],
             [
              1,
              "#f0f921"
             ]
            ],
            "type": "surface"
           }
          ],
          "table": [
           {
            "cells": {
             "fill": {
              "color": "#EBF0F8"
             },
             "line": {
              "color": "white"
             }
            },
            "header": {
             "fill": {
              "color": "#C8D4E3"
             },
             "line": {
              "color": "white"
             }
            },
            "type": "table"
           }
          ]
         },
         "layout": {
          "annotationdefaults": {
           "arrowcolor": "#2a3f5f",
           "arrowhead": 0,
           "arrowwidth": 1
          },
          "autotypenumbers": "strict",
          "coloraxis": {
           "colorbar": {
            "outlinewidth": 0,
            "ticks": ""
           }
          },
          "colorscale": {
           "diverging": [
            [
             0,
             "#8e0152"
            ],
            [
             0.1,
             "#c51b7d"
            ],
            [
             0.2,
             "#de77ae"
            ],
            [
             0.3,
             "#f1b6da"
            ],
            [
             0.4,
             "#fde0ef"
            ],
            [
             0.5,
             "#f7f7f7"
            ],
            [
             0.6,
             "#e6f5d0"
            ],
            [
             0.7,
             "#b8e186"
            ],
            [
             0.8,
             "#7fbc41"
            ],
            [
             0.9,
             "#4d9221"
            ],
            [
             1,
             "#276419"
            ]
           ],
           "sequential": [
            [
             0,
             "#0d0887"
            ],
            [
             0.1111111111111111,
             "#46039f"
            ],
            [
             0.2222222222222222,
             "#7201a8"
            ],
            [
             0.3333333333333333,
             "#9c179e"
            ],
            [
             0.4444444444444444,
             "#bd3786"
            ],
            [
             0.5555555555555556,
             "#d8576b"
            ],
            [
             0.6666666666666666,
             "#ed7953"
            ],
            [
             0.7777777777777778,
             "#fb9f3a"
            ],
            [
             0.8888888888888888,
             "#fdca26"
            ],
            [
             1,
             "#f0f921"
            ]
           ],
           "sequentialminus": [
            [
             0,
             "#0d0887"
            ],
            [
             0.1111111111111111,
             "#46039f"
            ],
            [
             0.2222222222222222,
             "#7201a8"
            ],
            [
             0.3333333333333333,
             "#9c179e"
            ],
            [
             0.4444444444444444,
             "#bd3786"
            ],
            [
             0.5555555555555556,
             "#d8576b"
            ],
            [
             0.6666666666666666,
             "#ed7953"
            ],
            [
             0.7777777777777778,
             "#fb9f3a"
            ],
            [
             0.8888888888888888,
             "#fdca26"
            ],
            [
             1,
             "#f0f921"
            ]
           ]
          },
          "colorway": [
           "#636efa",
           "#EF553B",
           "#00cc96",
           "#ab63fa",
           "#FFA15A",
           "#19d3f3",
           "#FF6692",
           "#B6E880",
           "#FF97FF",
           "#FECB52"
          ],
          "font": {
           "color": "#2a3f5f"
          },
          "geo": {
           "bgcolor": "white",
           "lakecolor": "white",
           "landcolor": "#E5ECF6",
           "showlakes": true,
           "showland": true,
           "subunitcolor": "white"
          },
          "hoverlabel": {
           "align": "left"
          },
          "hovermode": "closest",
          "mapbox": {
           "style": "light"
          },
          "paper_bgcolor": "white",
          "plot_bgcolor": "#E5ECF6",
          "polar": {
           "angularaxis": {
            "gridcolor": "white",
            "linecolor": "white",
            "ticks": ""
           },
           "bgcolor": "#E5ECF6",
           "radialaxis": {
            "gridcolor": "white",
            "linecolor": "white",
            "ticks": ""
           }
          },
          "scene": {
           "xaxis": {
            "backgroundcolor": "#E5ECF6",
            "gridcolor": "white",
            "gridwidth": 2,
            "linecolor": "white",
            "showbackground": true,
            "ticks": "",
            "zerolinecolor": "white"
           },
           "yaxis": {
            "backgroundcolor": "#E5ECF6",
            "gridcolor": "white",
            "gridwidth": 2,
            "linecolor": "white",
            "showbackground": true,
            "ticks": "",
            "zerolinecolor": "white"
           },
           "zaxis": {
            "backgroundcolor": "#E5ECF6",
            "gridcolor": "white",
            "gridwidth": 2,
            "linecolor": "white",
            "showbackground": true,
            "ticks": "",
            "zerolinecolor": "white"
           }
          },
          "shapedefaults": {
           "line": {
            "color": "#2a3f5f"
           }
          },
          "ternary": {
           "aaxis": {
            "gridcolor": "white",
            "linecolor": "white",
            "ticks": ""
           },
           "baxis": {
            "gridcolor": "white",
            "linecolor": "white",
            "ticks": ""
           },
           "bgcolor": "#E5ECF6",
           "caxis": {
            "gridcolor": "white",
            "linecolor": "white",
            "ticks": ""
           }
          },
          "title": {
           "x": 0.05
          },
          "xaxis": {
           "automargin": true,
           "gridcolor": "white",
           "linecolor": "white",
           "ticks": "",
           "title": {
            "standoff": 15
           },
           "zerolinecolor": "white",
           "zerolinewidth": 2
          },
          "yaxis": {
           "automargin": true,
           "gridcolor": "white",
           "linecolor": "white",
           "ticks": "",
           "title": {
            "standoff": 15
           },
           "zerolinecolor": "white",
           "zerolinewidth": 2
          }
         }
        }
       }
      }
     },
     "metadata": {},
     "output_type": "display_data"
    }
   ],
   "source": [
    "\n",
    "fig = px.sunburst(\n",
    "   df,\n",
    "    path=['gender', 'age_cateogry','hypertension_categorical','heart_disease_categorical'],\n",
    "    values= 'diabetes',\n",
    "    color='gender',\n",
    ")\n",
    "\n",
    "# Show the Sunburst chart\n",
    "fig.show()"
   ]
  },
  {
   "cell_type": "markdown",
   "metadata": {},
   "source": [
    "## Insights\n",
    "* The observation on basis of gender is as follows:\n",
    "### Female: 4447\n",
    "* Old_age : 3464 Diabetic Patients\n",
    "* Middle : 812 Diabetic Patients\n",
    "* Youngs : 119 Diabetic Patients\n",
    "* teenagers : 35 Diabetic Patients\n",
    "\n",
    "### Male: 4035\n",
    "* Old_age : 3170 Diabetic Patients\n",
    "* Middle : 735 Diabetic Patients\n",
    "* Youngs : 90 Diabetic Patients\n",
    "* teenagers : 28 Diabetic Patients\n",
    "\n",
    "### Others: 0"
   ]
  },
  {
   "cell_type": "markdown",
   "metadata": {},
   "source": [
    "### Q1. Comparatively who has more Diabetes?\n",
    "A. Based on given data females has more diabetes than male."
   ]
  },
  {
   "cell_type": "code",
   "execution_count": 133,
   "metadata": {},
   "outputs": [
    {
     "data": {
      "application/vnd.plotly.v1+json": {
       "config": {
        "plotlyServerURL": "https://plot.ly"
       },
       "data": [
        {
         "branchvalues": "total",
         "customdata": [
          [
           "Female"
          ],
          [
           "Female"
          ],
          [
           "Other"
          ],
          [
           "Male"
          ],
          [
           "Female"
          ],
          [
           "Other"
          ],
          [
           "Male"
          ],
          [
           null
          ],
          [
           "Female"
          ],
          [
           "Female"
          ],
          [
           "Male"
          ],
          [
           "Male"
          ],
          [
           null
          ],
          [
           null
          ],
          [
           null
          ],
          [
           null
          ],
          [
           null
          ],
          [
           null
          ],
          [
           "Male"
          ],
          [
           "Female"
          ],
          [
           "Other"
          ],
          [
           "Female"
          ],
          [
           "Female"
          ],
          [
           "Other"
          ],
          [
           "Male"
          ],
          [
           "Other"
          ],
          [
           "Other"
          ],
          [
           "Female"
          ],
          [
           "Male"
          ],
          [
           "Male"
          ],
          [
           null
          ],
          [
           "Female"
          ],
          [
           "Male"
          ],
          [
           "Female"
          ],
          [
           "Male"
          ],
          [
           "Female"
          ],
          [
           "Male"
          ],
          [
           null
          ],
          [
           null
          ],
          [
           "Male"
          ],
          [
           null
          ],
          [
           "Male"
          ],
          [
           null
          ],
          [
           "Other"
          ],
          [
           null
          ],
          [
           "Female"
          ],
          [
           "Male"
          ],
          [
           "Other"
          ],
          [
           "Male"
          ],
          [
           "Female"
          ],
          [
           "Female"
          ],
          [
           "Other"
          ],
          [
           null
          ],
          [
           "Male"
          ],
          [
           "Male"
          ],
          [
           "Female"
          ],
          [
           null
          ],
          [
           null
          ],
          [
           "Male"
          ],
          [
           null
          ],
          [
           "Female"
          ],
          [
           "Female"
          ],
          [
           "Male"
          ],
          [
           "Other"
          ],
          [
           "Female"
          ],
          [
           "Male"
          ],
          [
           "Female"
          ],
          [
           "Female"
          ],
          [
           null
          ],
          [
           "Other"
          ],
          [
           "Other"
          ],
          [
           "Female"
          ],
          [
           null
          ],
          [
           "Male"
          ],
          [
           "Female"
          ],
          [
           "Male"
          ],
          [
           "Male"
          ],
          [
           "Female"
          ],
          [
           "Other"
          ],
          [
           "Other"
          ],
          [
           "Female"
          ],
          [
           null
          ],
          [
           "Male"
          ],
          [
           "Male"
          ],
          [
           null
          ],
          [
           null
          ],
          [
           null
          ],
          [
           "Male"
          ],
          [
           "Male"
          ],
          [
           null
          ],
          [
           "Male"
          ],
          [
           null
          ],
          [
           "Female"
          ],
          [
           "Male"
          ],
          [
           "Female"
          ],
          [
           null
          ],
          [
           "Male"
          ],
          [
           "Other"
          ],
          [
           "Female"
          ],
          [
           "Male"
          ],
          [
           "Other"
          ],
          [
           "Female"
          ],
          [
           "Male"
          ],
          [
           null
          ],
          [
           "Female"
          ],
          [
           "Male"
          ],
          [
           "Female"
          ],
          [
           "Male"
          ]
         ],
         "domain": {
          "x": [
           0,
           1
          ],
          "y": [
           0,
           1
          ]
         },
         "hovertemplate": "labels=%{label}<br>heart_disease=%{value}<br>parent=%{parent}<br>id=%{id}<br>gender=%{customdata[0]}<extra></extra>",
         "ids": [
          "Female/children/0/0",
          "Female/youngs/0",
          "Other/teenagers/0",
          "Male/teenagers/0",
          "Female/teenagers/0",
          "Other/children/0",
          "Male/children/0",
          "Other/old_age/1/1",
          "Female/old_age/1/1",
          "Female/middle/1/1",
          "Male",
          "Male/youngs/1/1",
          "Female/youngs/1/1",
          "Male/teenagers/1/1",
          "Female/teenagers/1/1",
          "Other/children/1/1",
          "Male/children/1/1",
          "Female/children/1/1",
          "Male/youngs/0",
          "Female/old_age/0",
          "Other/old_age/0",
          "Female/children/1",
          "Female",
          "Other/old_age",
          "Male/old_age",
          "Other/middle",
          "Other/youngs",
          "Female/youngs",
          "Male/teenagers",
          "Male/children",
          "Other/old_age/0/1",
          "Female/children",
          "Male/old_age/1",
          "Female/old_age/1",
          "Male/middle/1",
          "Female/middle/1",
          "Male/youngs/1",
          "Other/teenagers/1",
          "Other/children/1",
          "Male/children/1",
          "Other/old_age/1",
          "Male/old_age/0/1",
          "Other/youngs/1/1",
          "Other",
          "Other/youngs/1/0",
          "Female/middle/1/0",
          "Male/middle/0/0",
          "Other/middle/0/0",
          "Male/youngs/0/0",
          "Female/old_age/0/0",
          "Female/youngs/0/0",
          "Other/teenagers/0/0",
          "Female/children/0/1",
          "Male/old_age/0/0",
          "Male/youngs/1/0",
          "Female/old_age/0/1",
          "Other/children/0/1",
          "Female/teenagers/0/1",
          "Male/teenagers/0/1",
          "Other/children/1/0",
          "Female/teenagers/0/0",
          "Female/youngs/0/1",
          "Male/youngs/0/1",
          "Other/old_age/0/0",
          "Female/middle/0/1",
          "Male/children/0/0",
          "Female/teenagers/1/0",
          "Female/middle/0/0",
          "Other/middle/1",
          "Other/teenagers",
          "Other/children",
          "Female/teenagers",
          "Other/youngs/1",
          "Male/youngs",
          "Female/middle",
          "Male/middle",
          "Male/teenagers/0/0",
          "Female/old_age",
          "Other/children/0/0",
          "Other/youngs/0/0",
          "Female/children/1/0",
          "Other/middle/0/1",
          "Male/children/1/0",
          "Male/middle/0/1",
          "Other/youngs/0/1",
          "Other/teenagers/0/1",
          "Other/teenagers/1/1",
          "Male/children/0/1",
          "Male/middle/1/1",
          "Other/middle/1/1",
          "Male/old_age/1/1",
          "Other/old_age/1/0",
          "Female/children/0",
          "Male/old_age/1/0",
          "Female/old_age/1/0",
          "Other/middle/1/0",
          "Male/middle/1/0",
          "Other/youngs/0",
          "Female/middle/0",
          "Male/middle/0",
          "Other/middle/0",
          "Female/youngs/1/0",
          "Male/old_age/0",
          "Other/teenagers/1/0",
          "Female/teenagers/1",
          "Male/teenagers/1",
          "Female/youngs/1",
          "Male/teenagers/1/0"
         ],
         "labels": [
          "0",
          "0",
          "0",
          "0",
          "0",
          "0",
          "0",
          "1",
          "1",
          "1",
          "Male",
          "1",
          "1",
          "1",
          "1",
          "1",
          "1",
          "1",
          "0",
          "0",
          "0",
          "1",
          "Female",
          "old_age",
          "old_age",
          "middle",
          "youngs",
          "youngs",
          "teenagers",
          "children",
          "1",
          "children",
          "1",
          "1",
          "1",
          "1",
          "1",
          "1",
          "1",
          "1",
          "1",
          "1",
          "1",
          "Other",
          "0",
          "0",
          "0",
          "0",
          "0",
          "0",
          "0",
          "0",
          "1",
          "0",
          "0",
          "1",
          "1",
          "1",
          "1",
          "0",
          "0",
          "1",
          "1",
          "0",
          "1",
          "0",
          "0",
          "0",
          "1",
          "teenagers",
          "children",
          "teenagers",
          "1",
          "youngs",
          "middle",
          "middle",
          "0",
          "old_age",
          "0",
          "0",
          "0",
          "1",
          "0",
          "1",
          "1",
          "1",
          "1",
          "1",
          "1",
          "1",
          "1",
          "0",
          "0",
          "0",
          "0",
          "0",
          "0",
          "0",
          "0",
          "0",
          "0",
          "0",
          "0",
          "0",
          "1",
          "1",
          "1",
          "0"
         ],
         "marker": {
          "colors": [
           "#636efa",
           "#636efa",
           "#EF553B",
           "#00cc96",
           "#636efa",
           "#EF553B",
           "#00cc96",
           "#ab63fa",
           "#636efa",
           "#636efa",
           "#00cc96",
           "#00cc96",
           "#ab63fa",
           "#ab63fa",
           "#ab63fa",
           "#ab63fa",
           "#ab63fa",
           "#ab63fa",
           "#00cc96",
           "#636efa",
           "#EF553B",
           "#636efa",
           "#636efa",
           "#EF553B",
           "#00cc96",
           "#EF553B",
           "#EF553B",
           "#636efa",
           "#00cc96",
           "#00cc96",
           "#ab63fa",
           "#636efa",
           "#00cc96",
           "#636efa",
           "#00cc96",
           "#636efa",
           "#00cc96",
           "#ab63fa",
           "#ab63fa",
           "#00cc96",
           "#ab63fa",
           "#00cc96",
           "#ab63fa",
           "#EF553B",
           "#ab63fa",
           "#636efa",
           "#00cc96",
           "#EF553B",
           "#00cc96",
           "#636efa",
           "#636efa",
           "#EF553B",
           "#ab63fa",
           "#00cc96",
           "#00cc96",
           "#636efa",
           "#ab63fa",
           "#ab63fa",
           "#00cc96",
           "#ab63fa",
           "#636efa",
           "#636efa",
           "#00cc96",
           "#EF553B",
           "#636efa",
           "#00cc96",
           "#636efa",
           "#636efa",
           "#ab63fa",
           "#EF553B",
           "#EF553B",
           "#636efa",
           "#ab63fa",
           "#00cc96",
           "#636efa",
           "#00cc96",
           "#00cc96",
           "#636efa",
           "#EF553B",
           "#EF553B",
           "#636efa",
           "#ab63fa",
           "#00cc96",
           "#00cc96",
           "#ab63fa",
           "#ab63fa",
           "#ab63fa",
           "#00cc96",
           "#00cc96",
           "#ab63fa",
           "#00cc96",
           "#ab63fa",
           "#636efa",
           "#00cc96",
           "#636efa",
           "#ab63fa",
           "#00cc96",
           "#EF553B",
           "#636efa",
           "#00cc96",
           "#EF553B",
           "#636efa",
           "#00cc96",
           "#ab63fa",
           "#636efa",
           "#00cc96",
           "#636efa",
           "#00cc96"
          ]
         },
         "name": "",
         "parents": [
          "Female/children/0",
          "Female/youngs",
          "Other/teenagers",
          "Male/teenagers",
          "Female/teenagers",
          "Other/children",
          "Male/children",
          "Other/old_age/1",
          "Female/old_age/1",
          "Female/middle/1",
          "",
          "Male/youngs/1",
          "Female/youngs/1",
          "Male/teenagers/1",
          "Female/teenagers/1",
          "Other/children/1",
          "Male/children/1",
          "Female/children/1",
          "Male/youngs",
          "Female/old_age",
          "Other/old_age",
          "Female/children",
          "",
          "Other",
          "Male",
          "Other",
          "Other",
          "Female",
          "Male",
          "Male",
          "Other/old_age/0",
          "Female",
          "Male/old_age",
          "Female/old_age",
          "Male/middle",
          "Female/middle",
          "Male/youngs",
          "Other/teenagers",
          "Other/children",
          "Male/children",
          "Other/old_age",
          "Male/old_age/0",
          "Other/youngs/1",
          "",
          "Other/youngs/1",
          "Female/middle/1",
          "Male/middle/0",
          "Other/middle/0",
          "Male/youngs/0",
          "Female/old_age/0",
          "Female/youngs/0",
          "Other/teenagers/0",
          "Female/children/0",
          "Male/old_age/0",
          "Male/youngs/1",
          "Female/old_age/0",
          "Other/children/0",
          "Female/teenagers/0",
          "Male/teenagers/0",
          "Other/children/1",
          "Female/teenagers/0",
          "Female/youngs/0",
          "Male/youngs/0",
          "Other/old_age/0",
          "Female/middle/0",
          "Male/children/0",
          "Female/teenagers/1",
          "Female/middle/0",
          "Other/middle",
          "Other",
          "Other",
          "Female",
          "Other/youngs",
          "Male",
          "Female",
          "Male",
          "Male/teenagers/0",
          "Female",
          "Other/children/0",
          "Other/youngs/0",
          "Female/children/1",
          "Other/middle/0",
          "Male/children/1",
          "Male/middle/0",
          "Other/youngs/0",
          "Other/teenagers/0",
          "Other/teenagers/1",
          "Male/children/0",
          "Male/middle/1",
          "Other/middle/1",
          "Male/old_age/1",
          "Other/old_age/1",
          "Female/children",
          "Male/old_age/1",
          "Female/old_age/1",
          "Other/middle/1",
          "Male/middle/1",
          "Other/youngs",
          "Female/middle",
          "Male/middle",
          "Other/middle",
          "Female/youngs/1",
          "Male/old_age",
          "Other/teenagers/1",
          "Female/teenagers",
          "Male/teenagers",
          "Female/youngs",
          "Male/teenagers/1"
         ],
         "type": "sunburst",
         "values": [
          0,
          7,
          0,
          1,
          0,
          0,
          4,
          0,
          376,
          16,
          2367,
          1,
          0,
          0,
          0,
          0,
          0,
          0,
          2,
          1059,
          0,
          0,
          1556,
          0,
          2188,
          0,
          0,
          7,
          1,
          4,
          0,
          0,
          498,
          376,
          24,
          16,
          1,
          0,
          0,
          0,
          0,
          1690,
          0,
          0,
          0,
          0,
          0,
          0,
          0,
          0,
          0,
          0,
          0,
          0,
          0,
          1059,
          0,
          0,
          1,
          0,
          0,
          7,
          2,
          0,
          98,
          0,
          0,
          0,
          0,
          0,
          0,
          0,
          0,
          3,
          114,
          171,
          0,
          1435,
          0,
          0,
          0,
          0,
          0,
          147,
          0,
          0,
          0,
          4,
          24,
          0,
          498,
          0,
          0,
          0,
          0,
          0,
          0,
          0,
          98,
          147,
          0,
          0,
          1690,
          0,
          0,
          0,
          0,
          0
         ]
        }
       ],
       "layout": {
        "legend": {
         "tracegroupgap": 0
        },
        "margin": {
         "t": 60
        },
        "template": {
         "data": {
          "bar": [
           {
            "error_x": {
             "color": "#2a3f5f"
            },
            "error_y": {
             "color": "#2a3f5f"
            },
            "marker": {
             "line": {
              "color": "#E5ECF6",
              "width": 0.5
             },
             "pattern": {
              "fillmode": "overlay",
              "size": 10,
              "solidity": 0.2
             }
            },
            "type": "bar"
           }
          ],
          "barpolar": [
           {
            "marker": {
             "line": {
              "color": "#E5ECF6",
              "width": 0.5
             },
             "pattern": {
              "fillmode": "overlay",
              "size": 10,
              "solidity": 0.2
             }
            },
            "type": "barpolar"
           }
          ],
          "carpet": [
           {
            "aaxis": {
             "endlinecolor": "#2a3f5f",
             "gridcolor": "white",
             "linecolor": "white",
             "minorgridcolor": "white",
             "startlinecolor": "#2a3f5f"
            },
            "baxis": {
             "endlinecolor": "#2a3f5f",
             "gridcolor": "white",
             "linecolor": "white",
             "minorgridcolor": "white",
             "startlinecolor": "#2a3f5f"
            },
            "type": "carpet"
           }
          ],
          "choropleth": [
           {
            "colorbar": {
             "outlinewidth": 0,
             "ticks": ""
            },
            "type": "choropleth"
           }
          ],
          "contour": [
           {
            "colorbar": {
             "outlinewidth": 0,
             "ticks": ""
            },
            "colorscale": [
             [
              0,
              "#0d0887"
             ],
             [
              0.1111111111111111,
              "#46039f"
             ],
             [
              0.2222222222222222,
              "#7201a8"
             ],
             [
              0.3333333333333333,
              "#9c179e"
             ],
             [
              0.4444444444444444,
              "#bd3786"
             ],
             [
              0.5555555555555556,
              "#d8576b"
             ],
             [
              0.6666666666666666,
              "#ed7953"
             ],
             [
              0.7777777777777778,
              "#fb9f3a"
             ],
             [
              0.8888888888888888,
              "#fdca26"
             ],
             [
              1,
              "#f0f921"
             ]
            ],
            "type": "contour"
           }
          ],
          "contourcarpet": [
           {
            "colorbar": {
             "outlinewidth": 0,
             "ticks": ""
            },
            "type": "contourcarpet"
           }
          ],
          "heatmap": [
           {
            "colorbar": {
             "outlinewidth": 0,
             "ticks": ""
            },
            "colorscale": [
             [
              0,
              "#0d0887"
             ],
             [
              0.1111111111111111,
              "#46039f"
             ],
             [
              0.2222222222222222,
              "#7201a8"
             ],
             [
              0.3333333333333333,
              "#9c179e"
             ],
             [
              0.4444444444444444,
              "#bd3786"
             ],
             [
              0.5555555555555556,
              "#d8576b"
             ],
             [
              0.6666666666666666,
              "#ed7953"
             ],
             [
              0.7777777777777778,
              "#fb9f3a"
             ],
             [
              0.8888888888888888,
              "#fdca26"
             ],
             [
              1,
              "#f0f921"
             ]
            ],
            "type": "heatmap"
           }
          ],
          "heatmapgl": [
           {
            "colorbar": {
             "outlinewidth": 0,
             "ticks": ""
            },
            "colorscale": [
             [
              0,
              "#0d0887"
             ],
             [
              0.1111111111111111,
              "#46039f"
             ],
             [
              0.2222222222222222,
              "#7201a8"
             ],
             [
              0.3333333333333333,
              "#9c179e"
             ],
             [
              0.4444444444444444,
              "#bd3786"
             ],
             [
              0.5555555555555556,
              "#d8576b"
             ],
             [
              0.6666666666666666,
              "#ed7953"
             ],
             [
              0.7777777777777778,
              "#fb9f3a"
             ],
             [
              0.8888888888888888,
              "#fdca26"
             ],
             [
              1,
              "#f0f921"
             ]
            ],
            "type": "heatmapgl"
           }
          ],
          "histogram": [
           {
            "marker": {
             "pattern": {
              "fillmode": "overlay",
              "size": 10,
              "solidity": 0.2
             }
            },
            "type": "histogram"
           }
          ],
          "histogram2d": [
           {
            "colorbar": {
             "outlinewidth": 0,
             "ticks": ""
            },
            "colorscale": [
             [
              0,
              "#0d0887"
             ],
             [
              0.1111111111111111,
              "#46039f"
             ],
             [
              0.2222222222222222,
              "#7201a8"
             ],
             [
              0.3333333333333333,
              "#9c179e"
             ],
             [
              0.4444444444444444,
              "#bd3786"
             ],
             [
              0.5555555555555556,
              "#d8576b"
             ],
             [
              0.6666666666666666,
              "#ed7953"
             ],
             [
              0.7777777777777778,
              "#fb9f3a"
             ],
             [
              0.8888888888888888,
              "#fdca26"
             ],
             [
              1,
              "#f0f921"
             ]
            ],
            "type": "histogram2d"
           }
          ],
          "histogram2dcontour": [
           {
            "colorbar": {
             "outlinewidth": 0,
             "ticks": ""
            },
            "colorscale": [
             [
              0,
              "#0d0887"
             ],
             [
              0.1111111111111111,
              "#46039f"
             ],
             [
              0.2222222222222222,
              "#7201a8"
             ],
             [
              0.3333333333333333,
              "#9c179e"
             ],
             [
              0.4444444444444444,
              "#bd3786"
             ],
             [
              0.5555555555555556,
              "#d8576b"
             ],
             [
              0.6666666666666666,
              "#ed7953"
             ],
             [
              0.7777777777777778,
              "#fb9f3a"
             ],
             [
              0.8888888888888888,
              "#fdca26"
             ],
             [
              1,
              "#f0f921"
             ]
            ],
            "type": "histogram2dcontour"
           }
          ],
          "mesh3d": [
           {
            "colorbar": {
             "outlinewidth": 0,
             "ticks": ""
            },
            "type": "mesh3d"
           }
          ],
          "parcoords": [
           {
            "line": {
             "colorbar": {
              "outlinewidth": 0,
              "ticks": ""
             }
            },
            "type": "parcoords"
           }
          ],
          "pie": [
           {
            "automargin": true,
            "type": "pie"
           }
          ],
          "scatter": [
           {
            "fillpattern": {
             "fillmode": "overlay",
             "size": 10,
             "solidity": 0.2
            },
            "type": "scatter"
           }
          ],
          "scatter3d": [
           {
            "line": {
             "colorbar": {
              "outlinewidth": 0,
              "ticks": ""
             }
            },
            "marker": {
             "colorbar": {
              "outlinewidth": 0,
              "ticks": ""
             }
            },
            "type": "scatter3d"
           }
          ],
          "scattercarpet": [
           {
            "marker": {
             "colorbar": {
              "outlinewidth": 0,
              "ticks": ""
             }
            },
            "type": "scattercarpet"
           }
          ],
          "scattergeo": [
           {
            "marker": {
             "colorbar": {
              "outlinewidth": 0,
              "ticks": ""
             }
            },
            "type": "scattergeo"
           }
          ],
          "scattergl": [
           {
            "marker": {
             "colorbar": {
              "outlinewidth": 0,
              "ticks": ""
             }
            },
            "type": "scattergl"
           }
          ],
          "scattermapbox": [
           {
            "marker": {
             "colorbar": {
              "outlinewidth": 0,
              "ticks": ""
             }
            },
            "type": "scattermapbox"
           }
          ],
          "scatterpolar": [
           {
            "marker": {
             "colorbar": {
              "outlinewidth": 0,
              "ticks": ""
             }
            },
            "type": "scatterpolar"
           }
          ],
          "scatterpolargl": [
           {
            "marker": {
             "colorbar": {
              "outlinewidth": 0,
              "ticks": ""
             }
            },
            "type": "scatterpolargl"
           }
          ],
          "scatterternary": [
           {
            "marker": {
             "colorbar": {
              "outlinewidth": 0,
              "ticks": ""
             }
            },
            "type": "scatterternary"
           }
          ],
          "surface": [
           {
            "colorbar": {
             "outlinewidth": 0,
             "ticks": ""
            },
            "colorscale": [
             [
              0,
              "#0d0887"
             ],
             [
              0.1111111111111111,
              "#46039f"
             ],
             [
              0.2222222222222222,
              "#7201a8"
             ],
             [
              0.3333333333333333,
              "#9c179e"
             ],
             [
              0.4444444444444444,
              "#bd3786"
             ],
             [
              0.5555555555555556,
              "#d8576b"
             ],
             [
              0.6666666666666666,
              "#ed7953"
             ],
             [
              0.7777777777777778,
              "#fb9f3a"
             ],
             [
              0.8888888888888888,
              "#fdca26"
             ],
             [
              1,
              "#f0f921"
             ]
            ],
            "type": "surface"
           }
          ],
          "table": [
           {
            "cells": {
             "fill": {
              "color": "#EBF0F8"
             },
             "line": {
              "color": "white"
             }
            },
            "header": {
             "fill": {
              "color": "#C8D4E3"
             },
             "line": {
              "color": "white"
             }
            },
            "type": "table"
           }
          ]
         },
         "layout": {
          "annotationdefaults": {
           "arrowcolor": "#2a3f5f",
           "arrowhead": 0,
           "arrowwidth": 1
          },
          "autotypenumbers": "strict",
          "coloraxis": {
           "colorbar": {
            "outlinewidth": 0,
            "ticks": ""
           }
          },
          "colorscale": {
           "diverging": [
            [
             0,
             "#8e0152"
            ],
            [
             0.1,
             "#c51b7d"
            ],
            [
             0.2,
             "#de77ae"
            ],
            [
             0.3,
             "#f1b6da"
            ],
            [
             0.4,
             "#fde0ef"
            ],
            [
             0.5,
             "#f7f7f7"
            ],
            [
             0.6,
             "#e6f5d0"
            ],
            [
             0.7,
             "#b8e186"
            ],
            [
             0.8,
             "#7fbc41"
            ],
            [
             0.9,
             "#4d9221"
            ],
            [
             1,
             "#276419"
            ]
           ],
           "sequential": [
            [
             0,
             "#0d0887"
            ],
            [
             0.1111111111111111,
             "#46039f"
            ],
            [
             0.2222222222222222,
             "#7201a8"
            ],
            [
             0.3333333333333333,
             "#9c179e"
            ],
            [
             0.4444444444444444,
             "#bd3786"
            ],
            [
             0.5555555555555556,
             "#d8576b"
            ],
            [
             0.6666666666666666,
             "#ed7953"
            ],
            [
             0.7777777777777778,
             "#fb9f3a"
            ],
            [
             0.8888888888888888,
             "#fdca26"
            ],
            [
             1,
             "#f0f921"
            ]
           ],
           "sequentialminus": [
            [
             0,
             "#0d0887"
            ],
            [
             0.1111111111111111,
             "#46039f"
            ],
            [
             0.2222222222222222,
             "#7201a8"
            ],
            [
             0.3333333333333333,
             "#9c179e"
            ],
            [
             0.4444444444444444,
             "#bd3786"
            ],
            [
             0.5555555555555556,
             "#d8576b"
            ],
            [
             0.6666666666666666,
             "#ed7953"
            ],
            [
             0.7777777777777778,
             "#fb9f3a"
            ],
            [
             0.8888888888888888,
             "#fdca26"
            ],
            [
             1,
             "#f0f921"
            ]
           ]
          },
          "colorway": [
           "#636efa",
           "#EF553B",
           "#00cc96",
           "#ab63fa",
           "#FFA15A",
           "#19d3f3",
           "#FF6692",
           "#B6E880",
           "#FF97FF",
           "#FECB52"
          ],
          "font": {
           "color": "#2a3f5f"
          },
          "geo": {
           "bgcolor": "white",
           "lakecolor": "white",
           "landcolor": "#E5ECF6",
           "showlakes": true,
           "showland": true,
           "subunitcolor": "white"
          },
          "hoverlabel": {
           "align": "left"
          },
          "hovermode": "closest",
          "mapbox": {
           "style": "light"
          },
          "paper_bgcolor": "white",
          "plot_bgcolor": "#E5ECF6",
          "polar": {
           "angularaxis": {
            "gridcolor": "white",
            "linecolor": "white",
            "ticks": ""
           },
           "bgcolor": "#E5ECF6",
           "radialaxis": {
            "gridcolor": "white",
            "linecolor": "white",
            "ticks": ""
           }
          },
          "scene": {
           "xaxis": {
            "backgroundcolor": "#E5ECF6",
            "gridcolor": "white",
            "gridwidth": 2,
            "linecolor": "white",
            "showbackground": true,
            "ticks": "",
            "zerolinecolor": "white"
           },
           "yaxis": {
            "backgroundcolor": "#E5ECF6",
            "gridcolor": "white",
            "gridwidth": 2,
            "linecolor": "white",
            "showbackground": true,
            "ticks": "",
            "zerolinecolor": "white"
           },
           "zaxis": {
            "backgroundcolor": "#E5ECF6",
            "gridcolor": "white",
            "gridwidth": 2,
            "linecolor": "white",
            "showbackground": true,
            "ticks": "",
            "zerolinecolor": "white"
           }
          },
          "shapedefaults": {
           "line": {
            "color": "#2a3f5f"
           }
          },
          "ternary": {
           "aaxis": {
            "gridcolor": "white",
            "linecolor": "white",
            "ticks": ""
           },
           "baxis": {
            "gridcolor": "white",
            "linecolor": "white",
            "ticks": ""
           },
           "bgcolor": "#E5ECF6",
           "caxis": {
            "gridcolor": "white",
            "linecolor": "white",
            "ticks": ""
           }
          },
          "title": {
           "x": 0.05
          },
          "xaxis": {
           "automargin": true,
           "gridcolor": "white",
           "linecolor": "white",
           "ticks": "",
           "title": {
            "standoff": 15
           },
           "zerolinecolor": "white",
           "zerolinewidth": 2
          },
          "yaxis": {
           "automargin": true,
           "gridcolor": "white",
           "linecolor": "white",
           "ticks": "",
           "title": {
            "standoff": 15
           },
           "zerolinecolor": "white",
           "zerolinewidth": 2
          }
         }
        }
       }
      }
     },
     "metadata": {},
     "output_type": "display_data"
    }
   ],
   "source": [
    "fig = px.sunburst(\n",
    "   df,\n",
    "    path=['gender', 'age_cateogry','hypertension_categorical','heart_disease_categorical'],\n",
    "    values= 'heart_disease',\n",
    "    color='gender',\n",
    ")\n",
    "\n",
    "# Show the Sunburst chart\n",
    "fig.show()\n"
   ]
  },
  {
   "cell_type": "markdown",
   "metadata": {},
   "source": [
    "### Q2. Comparatively who has more heart_disease?\n",
    "A. Based on given data male has more heart issues than female.\n",
    "* Male: 2367\n",
    "* Female: 1556\n",
    "* Others: 0"
   ]
  },
  {
   "cell_type": "code",
   "execution_count": 134,
   "metadata": {},
   "outputs": [
    {
     "data": {
      "application/vnd.plotly.v1+json": {
       "config": {
        "plotlyServerURL": "https://plot.ly"
       },
       "data": [
        {
         "branchvalues": "total",
         "customdata": [
          [
           "Female"
          ],
          [
           "Female"
          ],
          [
           "Other"
          ],
          [
           "Male"
          ],
          [
           "Female"
          ],
          [
           "Other"
          ],
          [
           "Male"
          ],
          [
           null
          ],
          [
           "Female"
          ],
          [
           "Female"
          ],
          [
           "Male"
          ],
          [
           "Male"
          ],
          [
           null
          ],
          [
           null
          ],
          [
           null
          ],
          [
           null
          ],
          [
           null
          ],
          [
           null
          ],
          [
           "Male"
          ],
          [
           "Female"
          ],
          [
           "Other"
          ],
          [
           "Female"
          ],
          [
           "Female"
          ],
          [
           "Other"
          ],
          [
           "Male"
          ],
          [
           "Other"
          ],
          [
           "Other"
          ],
          [
           "Female"
          ],
          [
           "Male"
          ],
          [
           "Male"
          ],
          [
           null
          ],
          [
           "Female"
          ],
          [
           "Male"
          ],
          [
           "Female"
          ],
          [
           "Male"
          ],
          [
           "Female"
          ],
          [
           "Male"
          ],
          [
           null
          ],
          [
           null
          ],
          [
           "Male"
          ],
          [
           null
          ],
          [
           "Male"
          ],
          [
           null
          ],
          [
           "Other"
          ],
          [
           null
          ],
          [
           "Female"
          ],
          [
           "Male"
          ],
          [
           "Other"
          ],
          [
           "Male"
          ],
          [
           "Female"
          ],
          [
           "Female"
          ],
          [
           "Other"
          ],
          [
           null
          ],
          [
           "Male"
          ],
          [
           "Male"
          ],
          [
           "Female"
          ],
          [
           null
          ],
          [
           null
          ],
          [
           "Male"
          ],
          [
           null
          ],
          [
           "Female"
          ],
          [
           "Female"
          ],
          [
           "Male"
          ],
          [
           "Other"
          ],
          [
           "Female"
          ],
          [
           "Male"
          ],
          [
           "Female"
          ],
          [
           "Female"
          ],
          [
           null
          ],
          [
           "Other"
          ],
          [
           "Other"
          ],
          [
           "Female"
          ],
          [
           null
          ],
          [
           "Male"
          ],
          [
           "Female"
          ],
          [
           "Male"
          ],
          [
           "Male"
          ],
          [
           "Female"
          ],
          [
           "Other"
          ],
          [
           "Other"
          ],
          [
           "Female"
          ],
          [
           null
          ],
          [
           "Male"
          ],
          [
           "Male"
          ],
          [
           null
          ],
          [
           null
          ],
          [
           null
          ],
          [
           "Male"
          ],
          [
           "Male"
          ],
          [
           null
          ],
          [
           "Male"
          ],
          [
           null
          ],
          [
           "Female"
          ],
          [
           "Male"
          ],
          [
           "Female"
          ],
          [
           null
          ],
          [
           "Male"
          ],
          [
           "Other"
          ],
          [
           "Female"
          ],
          [
           "Male"
          ],
          [
           "Other"
          ],
          [
           "Female"
          ],
          [
           "Male"
          ],
          [
           null
          ],
          [
           "Female"
          ],
          [
           "Male"
          ],
          [
           "Female"
          ],
          [
           "Male"
          ]
         ],
         "domain": {
          "x": [
           0,
           1
          ],
          "y": [
           0,
           1
          ]
         },
         "hovertemplate": "labels=%{label}<br>hypertension=%{value}<br>parent=%{parent}<br>id=%{id}<br>gender=%{customdata[0]}<extra></extra>",
         "ids": [
          "Female/children/0/0",
          "Female/youngs/0",
          "Other/teenagers/0",
          "Male/teenagers/0",
          "Female/teenagers/0",
          "Other/children/0",
          "Male/children/0",
          "Other/old_age/1/1",
          "Female/old_age/1/1",
          "Female/middle/1/1",
          "Male",
          "Male/youngs/1/1",
          "Female/youngs/1/1",
          "Male/teenagers/1/1",
          "Female/teenagers/1/1",
          "Other/children/1/1",
          "Male/children/1/1",
          "Female/children/1/1",
          "Male/youngs/0",
          "Female/old_age/0",
          "Other/old_age/0",
          "Female/children/1",
          "Female",
          "Other/old_age",
          "Male/old_age",
          "Other/middle",
          "Other/youngs",
          "Female/youngs",
          "Male/teenagers",
          "Male/children",
          "Other/old_age/0/1",
          "Female/children",
          "Male/old_age/1",
          "Female/old_age/1",
          "Male/middle/1",
          "Female/middle/1",
          "Male/youngs/1",
          "Other/teenagers/1",
          "Other/children/1",
          "Male/children/1",
          "Other/old_age/1",
          "Male/old_age/0/1",
          "Other/youngs/1/1",
          "Other",
          "Other/youngs/1/0",
          "Female/middle/1/0",
          "Male/middle/0/0",
          "Other/middle/0/0",
          "Male/youngs/0/0",
          "Female/old_age/0/0",
          "Female/youngs/0/0",
          "Other/teenagers/0/0",
          "Female/children/0/1",
          "Male/old_age/0/0",
          "Male/youngs/1/0",
          "Female/old_age/0/1",
          "Other/children/0/1",
          "Female/teenagers/0/1",
          "Male/teenagers/0/1",
          "Other/children/1/0",
          "Female/teenagers/0/0",
          "Female/youngs/0/1",
          "Male/youngs/0/1",
          "Other/old_age/0/0",
          "Female/middle/0/1",
          "Male/children/0/0",
          "Female/teenagers/1/0",
          "Female/middle/0/0",
          "Other/middle/1",
          "Other/teenagers",
          "Other/children",
          "Female/teenagers",
          "Other/youngs/1",
          "Male/youngs",
          "Female/middle",
          "Male/middle",
          "Male/teenagers/0/0",
          "Female/old_age",
          "Other/children/0/0",
          "Other/youngs/0/0",
          "Female/children/1/0",
          "Other/middle/0/1",
          "Male/children/1/0",
          "Male/middle/0/1",
          "Other/youngs/0/1",
          "Other/teenagers/0/1",
          "Other/teenagers/1/1",
          "Male/children/0/1",
          "Male/middle/1/1",
          "Other/middle/1/1",
          "Male/old_age/1/1",
          "Other/old_age/1/0",
          "Female/children/0",
          "Male/old_age/1/0",
          "Female/old_age/1/0",
          "Other/middle/1/0",
          "Male/middle/1/0",
          "Other/youngs/0",
          "Female/middle/0",
          "Male/middle/0",
          "Other/middle/0",
          "Female/youngs/1/0",
          "Male/old_age/0",
          "Other/teenagers/1/0",
          "Female/teenagers/1",
          "Male/teenagers/1",
          "Female/youngs/1",
          "Male/teenagers/1/0"
         ],
         "labels": [
          "0",
          "0",
          "0",
          "0",
          "0",
          "0",
          "0",
          "1",
          "1",
          "1",
          "Male",
          "1",
          "1",
          "1",
          "1",
          "1",
          "1",
          "1",
          "0",
          "0",
          "0",
          "1",
          "Female",
          "old_age",
          "old_age",
          "middle",
          "youngs",
          "youngs",
          "teenagers",
          "children",
          "1",
          "children",
          "1",
          "1",
          "1",
          "1",
          "1",
          "1",
          "1",
          "1",
          "1",
          "1",
          "1",
          "Other",
          "0",
          "0",
          "0",
          "0",
          "0",
          "0",
          "0",
          "0",
          "1",
          "0",
          "0",
          "1",
          "1",
          "1",
          "1",
          "0",
          "0",
          "1",
          "1",
          "0",
          "1",
          "0",
          "0",
          "0",
          "1",
          "teenagers",
          "children",
          "teenagers",
          "1",
          "youngs",
          "middle",
          "middle",
          "0",
          "old_age",
          "0",
          "0",
          "0",
          "1",
          "0",
          "1",
          "1",
          "1",
          "1",
          "1",
          "1",
          "1",
          "1",
          "0",
          "0",
          "0",
          "0",
          "0",
          "0",
          "0",
          "0",
          "0",
          "0",
          "0",
          "0",
          "0",
          "1",
          "1",
          "1",
          "0"
         ],
         "marker": {
          "colors": [
           "#636efa",
           "#636efa",
           "#EF553B",
           "#00cc96",
           "#636efa",
           "#EF553B",
           "#00cc96",
           "#ab63fa",
           "#636efa",
           "#636efa",
           "#00cc96",
           "#00cc96",
           "#ab63fa",
           "#ab63fa",
           "#ab63fa",
           "#ab63fa",
           "#ab63fa",
           "#ab63fa",
           "#00cc96",
           "#636efa",
           "#EF553B",
           "#636efa",
           "#636efa",
           "#EF553B",
           "#00cc96",
           "#EF553B",
           "#EF553B",
           "#636efa",
           "#00cc96",
           "#00cc96",
           "#ab63fa",
           "#636efa",
           "#00cc96",
           "#636efa",
           "#00cc96",
           "#636efa",
           "#00cc96",
           "#ab63fa",
           "#ab63fa",
           "#00cc96",
           "#ab63fa",
           "#00cc96",
           "#ab63fa",
           "#EF553B",
           "#ab63fa",
           "#636efa",
           "#00cc96",
           "#EF553B",
           "#00cc96",
           "#636efa",
           "#636efa",
           "#EF553B",
           "#ab63fa",
           "#00cc96",
           "#00cc96",
           "#636efa",
           "#ab63fa",
           "#ab63fa",
           "#00cc96",
           "#ab63fa",
           "#636efa",
           "#636efa",
           "#00cc96",
           "#EF553B",
           "#636efa",
           "#00cc96",
           "#636efa",
           "#636efa",
           "#ab63fa",
           "#EF553B",
           "#EF553B",
           "#636efa",
           "#ab63fa",
           "#00cc96",
           "#636efa",
           "#00cc96",
           "#00cc96",
           "#636efa",
           "#EF553B",
           "#EF553B",
           "#636efa",
           "#ab63fa",
           "#00cc96",
           "#00cc96",
           "#ab63fa",
           "#ab63fa",
           "#ab63fa",
           "#00cc96",
           "#00cc96",
           "#ab63fa",
           "#00cc96",
           "#ab63fa",
           "#636efa",
           "#00cc96",
           "#636efa",
           "#ab63fa",
           "#00cc96",
           "#EF553B",
           "#636efa",
           "#00cc96",
           "#EF553B",
           "#636efa",
           "#00cc96",
           "#ab63fa",
           "#636efa",
           "#00cc96",
           "#636efa",
           "#00cc96"
          ]
         },
         "name": "",
         "parents": [
          "Female/children/0",
          "Female/youngs",
          "Other/teenagers",
          "Male/teenagers",
          "Female/teenagers",
          "Other/children",
          "Male/children",
          "Other/old_age/1",
          "Female/old_age/1",
          "Female/middle/1",
          "",
          "Male/youngs/1",
          "Female/youngs/1",
          "Male/teenagers/1",
          "Female/teenagers/1",
          "Other/children/1",
          "Male/children/1",
          "Female/children/1",
          "Male/youngs",
          "Female/old_age",
          "Other/old_age",
          "Female/children",
          "",
          "Other",
          "Male",
          "Other",
          "Other",
          "Female",
          "Male",
          "Male",
          "Other/old_age/0",
          "Female",
          "Male/old_age",
          "Female/old_age",
          "Male/middle",
          "Female/middle",
          "Male/youngs",
          "Other/teenagers",
          "Other/children",
          "Male/children",
          "Other/old_age",
          "Male/old_age/0",
          "Other/youngs/1",
          "",
          "Other/youngs/1",
          "Female/middle/1",
          "Male/middle/0",
          "Other/middle/0",
          "Male/youngs/0",
          "Female/old_age/0",
          "Female/youngs/0",
          "Other/teenagers/0",
          "Female/children/0",
          "Male/old_age/0",
          "Male/youngs/1",
          "Female/old_age/0",
          "Other/children/0",
          "Female/teenagers/0",
          "Male/teenagers/0",
          "Other/children/1",
          "Female/teenagers/0",
          "Female/youngs/0",
          "Male/youngs/0",
          "Other/old_age/0",
          "Female/middle/0",
          "Male/children/0",
          "Female/teenagers/1",
          "Female/middle/0",
          "Other/middle",
          "Other",
          "Other",
          "Female",
          "Other/youngs",
          "Male",
          "Female",
          "Male",
          "Male/teenagers/0",
          "Female",
          "Other/children/0",
          "Other/youngs/0",
          "Female/children/1",
          "Other/middle/0",
          "Male/children/1",
          "Male/middle/0",
          "Other/youngs/0",
          "Other/teenagers/0",
          "Other/teenagers/1",
          "Male/children/0",
          "Male/middle/1",
          "Other/middle/1",
          "Male/old_age/1",
          "Other/old_age/1",
          "Female/children",
          "Male/old_age/1",
          "Female/old_age/1",
          "Other/middle/1",
          "Male/middle/1",
          "Other/youngs",
          "Female/middle",
          "Male/middle",
          "Other/middle",
          "Female/youngs/1",
          "Male/old_age",
          "Other/teenagers/1",
          "Female/teenagers",
          "Male/teenagers",
          "Female/youngs",
          "Male/teenagers/1"
         ],
         "type": "sunburst",
         "values": [
          0,
          0,
          0,
          0,
          0,
          0,
          0,
          0,
          376,
          16,
          3282,
          1,
          0,
          0,
          0,
          0,
          0,
          0,
          0,
          0,
          0,
          1,
          4179,
          0,
          2477,
          0,
          0,
          67,
          3,
          2,
          0,
          1,
          2477,
          3385,
          743,
          722,
          57,
          0,
          0,
          2,
          0,
          0,
          0,
          0,
          0,
          706,
          0,
          0,
          0,
          0,
          0,
          0,
          0,
          0,
          56,
          0,
          0,
          0,
          0,
          0,
          0,
          0,
          0,
          0,
          0,
          0,
          4,
          0,
          0,
          0,
          0,
          4,
          0,
          57,
          722,
          743,
          0,
          3385,
          0,
          0,
          1,
          0,
          2,
          0,
          0,
          0,
          0,
          0,
          24,
          0,
          498,
          0,
          0,
          1979,
          3009,
          0,
          719,
          0,
          0,
          0,
          0,
          67,
          0,
          0,
          4,
          3,
          67,
          3
         ]
        }
       ],
       "layout": {
        "legend": {
         "tracegroupgap": 0
        },
        "margin": {
         "t": 60
        },
        "template": {
         "data": {
          "bar": [
           {
            "error_x": {
             "color": "#2a3f5f"
            },
            "error_y": {
             "color": "#2a3f5f"
            },
            "marker": {
             "line": {
              "color": "#E5ECF6",
              "width": 0.5
             },
             "pattern": {
              "fillmode": "overlay",
              "size": 10,
              "solidity": 0.2
             }
            },
            "type": "bar"
           }
          ],
          "barpolar": [
           {
            "marker": {
             "line": {
              "color": "#E5ECF6",
              "width": 0.5
             },
             "pattern": {
              "fillmode": "overlay",
              "size": 10,
              "solidity": 0.2
             }
            },
            "type": "barpolar"
           }
          ],
          "carpet": [
           {
            "aaxis": {
             "endlinecolor": "#2a3f5f",
             "gridcolor": "white",
             "linecolor": "white",
             "minorgridcolor": "white",
             "startlinecolor": "#2a3f5f"
            },
            "baxis": {
             "endlinecolor": "#2a3f5f",
             "gridcolor": "white",
             "linecolor": "white",
             "minorgridcolor": "white",
             "startlinecolor": "#2a3f5f"
            },
            "type": "carpet"
           }
          ],
          "choropleth": [
           {
            "colorbar": {
             "outlinewidth": 0,
             "ticks": ""
            },
            "type": "choropleth"
           }
          ],
          "contour": [
           {
            "colorbar": {
             "outlinewidth": 0,
             "ticks": ""
            },
            "colorscale": [
             [
              0,
              "#0d0887"
             ],
             [
              0.1111111111111111,
              "#46039f"
             ],
             [
              0.2222222222222222,
              "#7201a8"
             ],
             [
              0.3333333333333333,
              "#9c179e"
             ],
             [
              0.4444444444444444,
              "#bd3786"
             ],
             [
              0.5555555555555556,
              "#d8576b"
             ],
             [
              0.6666666666666666,
              "#ed7953"
             ],
             [
              0.7777777777777778,
              "#fb9f3a"
             ],
             [
              0.8888888888888888,
              "#fdca26"
             ],
             [
              1,
              "#f0f921"
             ]
            ],
            "type": "contour"
           }
          ],
          "contourcarpet": [
           {
            "colorbar": {
             "outlinewidth": 0,
             "ticks": ""
            },
            "type": "contourcarpet"
           }
          ],
          "heatmap": [
           {
            "colorbar": {
             "outlinewidth": 0,
             "ticks": ""
            },
            "colorscale": [
             [
              0,
              "#0d0887"
             ],
             [
              0.1111111111111111,
              "#46039f"
             ],
             [
              0.2222222222222222,
              "#7201a8"
             ],
             [
              0.3333333333333333,
              "#9c179e"
             ],
             [
              0.4444444444444444,
              "#bd3786"
             ],
             [
              0.5555555555555556,
              "#d8576b"
             ],
             [
              0.6666666666666666,
              "#ed7953"
             ],
             [
              0.7777777777777778,
              "#fb9f3a"
             ],
             [
              0.8888888888888888,
              "#fdca26"
             ],
             [
              1,
              "#f0f921"
             ]
            ],
            "type": "heatmap"
           }
          ],
          "heatmapgl": [
           {
            "colorbar": {
             "outlinewidth": 0,
             "ticks": ""
            },
            "colorscale": [
             [
              0,
              "#0d0887"
             ],
             [
              0.1111111111111111,
              "#46039f"
             ],
             [
              0.2222222222222222,
              "#7201a8"
             ],
             [
              0.3333333333333333,
              "#9c179e"
             ],
             [
              0.4444444444444444,
              "#bd3786"
             ],
             [
              0.5555555555555556,
              "#d8576b"
             ],
             [
              0.6666666666666666,
              "#ed7953"
             ],
             [
              0.7777777777777778,
              "#fb9f3a"
             ],
             [
              0.8888888888888888,
              "#fdca26"
             ],
             [
              1,
              "#f0f921"
             ]
            ],
            "type": "heatmapgl"
           }
          ],
          "histogram": [
           {
            "marker": {
             "pattern": {
              "fillmode": "overlay",
              "size": 10,
              "solidity": 0.2
             }
            },
            "type": "histogram"
           }
          ],
          "histogram2d": [
           {
            "colorbar": {
             "outlinewidth": 0,
             "ticks": ""
            },
            "colorscale": [
             [
              0,
              "#0d0887"
             ],
             [
              0.1111111111111111,
              "#46039f"
             ],
             [
              0.2222222222222222,
              "#7201a8"
             ],
             [
              0.3333333333333333,
              "#9c179e"
             ],
             [
              0.4444444444444444,
              "#bd3786"
             ],
             [
              0.5555555555555556,
              "#d8576b"
             ],
             [
              0.6666666666666666,
              "#ed7953"
             ],
             [
              0.7777777777777778,
              "#fb9f3a"
             ],
             [
              0.8888888888888888,
              "#fdca26"
             ],
             [
              1,
              "#f0f921"
             ]
            ],
            "type": "histogram2d"
           }
          ],
          "histogram2dcontour": [
           {
            "colorbar": {
             "outlinewidth": 0,
             "ticks": ""
            },
            "colorscale": [
             [
              0,
              "#0d0887"
             ],
             [
              0.1111111111111111,
              "#46039f"
             ],
             [
              0.2222222222222222,
              "#7201a8"
             ],
             [
              0.3333333333333333,
              "#9c179e"
             ],
             [
              0.4444444444444444,
              "#bd3786"
             ],
             [
              0.5555555555555556,
              "#d8576b"
             ],
             [
              0.6666666666666666,
              "#ed7953"
             ],
             [
              0.7777777777777778,
              "#fb9f3a"
             ],
             [
              0.8888888888888888,
              "#fdca26"
             ],
             [
              1,
              "#f0f921"
             ]
            ],
            "type": "histogram2dcontour"
           }
          ],
          "mesh3d": [
           {
            "colorbar": {
             "outlinewidth": 0,
             "ticks": ""
            },
            "type": "mesh3d"
           }
          ],
          "parcoords": [
           {
            "line": {
             "colorbar": {
              "outlinewidth": 0,
              "ticks": ""
             }
            },
            "type": "parcoords"
           }
          ],
          "pie": [
           {
            "automargin": true,
            "type": "pie"
           }
          ],
          "scatter": [
           {
            "fillpattern": {
             "fillmode": "overlay",
             "size": 10,
             "solidity": 0.2
            },
            "type": "scatter"
           }
          ],
          "scatter3d": [
           {
            "line": {
             "colorbar": {
              "outlinewidth": 0,
              "ticks": ""
             }
            },
            "marker": {
             "colorbar": {
              "outlinewidth": 0,
              "ticks": ""
             }
            },
            "type": "scatter3d"
           }
          ],
          "scattercarpet": [
           {
            "marker": {
             "colorbar": {
              "outlinewidth": 0,
              "ticks": ""
             }
            },
            "type": "scattercarpet"
           }
          ],
          "scattergeo": [
           {
            "marker": {
             "colorbar": {
              "outlinewidth": 0,
              "ticks": ""
             }
            },
            "type": "scattergeo"
           }
          ],
          "scattergl": [
           {
            "marker": {
             "colorbar": {
              "outlinewidth": 0,
              "ticks": ""
             }
            },
            "type": "scattergl"
           }
          ],
          "scattermapbox": [
           {
            "marker": {
             "colorbar": {
              "outlinewidth": 0,
              "ticks": ""
             }
            },
            "type": "scattermapbox"
           }
          ],
          "scatterpolar": [
           {
            "marker": {
             "colorbar": {
              "outlinewidth": 0,
              "ticks": ""
             }
            },
            "type": "scatterpolar"
           }
          ],
          "scatterpolargl": [
           {
            "marker": {
             "colorbar": {
              "outlinewidth": 0,
              "ticks": ""
             }
            },
            "type": "scatterpolargl"
           }
          ],
          "scatterternary": [
           {
            "marker": {
             "colorbar": {
              "outlinewidth": 0,
              "ticks": ""
             }
            },
            "type": "scatterternary"
           }
          ],
          "surface": [
           {
            "colorbar": {
             "outlinewidth": 0,
             "ticks": ""
            },
            "colorscale": [
             [
              0,
              "#0d0887"
             ],
             [
              0.1111111111111111,
              "#46039f"
             ],
             [
              0.2222222222222222,
              "#7201a8"
             ],
             [
              0.3333333333333333,
              "#9c179e"
             ],
             [
              0.4444444444444444,
              "#bd3786"
             ],
             [
              0.5555555555555556,
              "#d8576b"
             ],
             [
              0.6666666666666666,
              "#ed7953"
             ],
             [
              0.7777777777777778,
              "#fb9f3a"
             ],
             [
              0.8888888888888888,
              "#fdca26"
             ],
             [
              1,
              "#f0f921"
             ]
            ],
            "type": "surface"
           }
          ],
          "table": [
           {
            "cells": {
             "fill": {
              "color": "#EBF0F8"
             },
             "line": {
              "color": "white"
             }
            },
            "header": {
             "fill": {
              "color": "#C8D4E3"
             },
             "line": {
              "color": "white"
             }
            },
            "type": "table"
           }
          ]
         },
         "layout": {
          "annotationdefaults": {
           "arrowcolor": "#2a3f5f",
           "arrowhead": 0,
           "arrowwidth": 1
          },
          "autotypenumbers": "strict",
          "coloraxis": {
           "colorbar": {
            "outlinewidth": 0,
            "ticks": ""
           }
          },
          "colorscale": {
           "diverging": [
            [
             0,
             "#8e0152"
            ],
            [
             0.1,
             "#c51b7d"
            ],
            [
             0.2,
             "#de77ae"
            ],
            [
             0.3,
             "#f1b6da"
            ],
            [
             0.4,
             "#fde0ef"
            ],
            [
             0.5,
             "#f7f7f7"
            ],
            [
             0.6,
             "#e6f5d0"
            ],
            [
             0.7,
             "#b8e186"
            ],
            [
             0.8,
             "#7fbc41"
            ],
            [
             0.9,
             "#4d9221"
            ],
            [
             1,
             "#276419"
            ]
           ],
           "sequential": [
            [
             0,
             "#0d0887"
            ],
            [
             0.1111111111111111,
             "#46039f"
            ],
            [
             0.2222222222222222,
             "#7201a8"
            ],
            [
             0.3333333333333333,
             "#9c179e"
            ],
            [
             0.4444444444444444,
             "#bd3786"
            ],
            [
             0.5555555555555556,
             "#d8576b"
            ],
            [
             0.6666666666666666,
             "#ed7953"
            ],
            [
             0.7777777777777778,
             "#fb9f3a"
            ],
            [
             0.8888888888888888,
             "#fdca26"
            ],
            [
             1,
             "#f0f921"
            ]
           ],
           "sequentialminus": [
            [
             0,
             "#0d0887"
            ],
            [
             0.1111111111111111,
             "#46039f"
            ],
            [
             0.2222222222222222,
             "#7201a8"
            ],
            [
             0.3333333333333333,
             "#9c179e"
            ],
            [
             0.4444444444444444,
             "#bd3786"
            ],
            [
             0.5555555555555556,
             "#d8576b"
            ],
            [
             0.6666666666666666,
             "#ed7953"
            ],
            [
             0.7777777777777778,
             "#fb9f3a"
            ],
            [
             0.8888888888888888,
             "#fdca26"
            ],
            [
             1,
             "#f0f921"
            ]
           ]
          },
          "colorway": [
           "#636efa",
           "#EF553B",
           "#00cc96",
           "#ab63fa",
           "#FFA15A",
           "#19d3f3",
           "#FF6692",
           "#B6E880",
           "#FF97FF",
           "#FECB52"
          ],
          "font": {
           "color": "#2a3f5f"
          },
          "geo": {
           "bgcolor": "white",
           "lakecolor": "white",
           "landcolor": "#E5ECF6",
           "showlakes": true,
           "showland": true,
           "subunitcolor": "white"
          },
          "hoverlabel": {
           "align": "left"
          },
          "hovermode": "closest",
          "mapbox": {
           "style": "light"
          },
          "paper_bgcolor": "white",
          "plot_bgcolor": "#E5ECF6",
          "polar": {
           "angularaxis": {
            "gridcolor": "white",
            "linecolor": "white",
            "ticks": ""
           },
           "bgcolor": "#E5ECF6",
           "radialaxis": {
            "gridcolor": "white",
            "linecolor": "white",
            "ticks": ""
           }
          },
          "scene": {
           "xaxis": {
            "backgroundcolor": "#E5ECF6",
            "gridcolor": "white",
            "gridwidth": 2,
            "linecolor": "white",
            "showbackground": true,
            "ticks": "",
            "zerolinecolor": "white"
           },
           "yaxis": {
            "backgroundcolor": "#E5ECF6",
            "gridcolor": "white",
            "gridwidth": 2,
            "linecolor": "white",
            "showbackground": true,
            "ticks": "",
            "zerolinecolor": "white"
           },
           "zaxis": {
            "backgroundcolor": "#E5ECF6",
            "gridcolor": "white",
            "gridwidth": 2,
            "linecolor": "white",
            "showbackground": true,
            "ticks": "",
            "zerolinecolor": "white"
           }
          },
          "shapedefaults": {
           "line": {
            "color": "#2a3f5f"
           }
          },
          "ternary": {
           "aaxis": {
            "gridcolor": "white",
            "linecolor": "white",
            "ticks": ""
           },
           "baxis": {
            "gridcolor": "white",
            "linecolor": "white",
            "ticks": ""
           },
           "bgcolor": "#E5ECF6",
           "caxis": {
            "gridcolor": "white",
            "linecolor": "white",
            "ticks": ""
           }
          },
          "title": {
           "x": 0.05
          },
          "xaxis": {
           "automargin": true,
           "gridcolor": "white",
           "linecolor": "white",
           "ticks": "",
           "title": {
            "standoff": 15
           },
           "zerolinecolor": "white",
           "zerolinewidth": 2
          },
          "yaxis": {
           "automargin": true,
           "gridcolor": "white",
           "linecolor": "white",
           "ticks": "",
           "title": {
            "standoff": 15
           },
           "zerolinecolor": "white",
           "zerolinewidth": 2
          }
         }
        }
       }
      }
     },
     "metadata": {},
     "output_type": "display_data"
    }
   ],
   "source": [
    "fig = px.sunburst(\n",
    "   df,\n",
    "    path=['gender', 'age_cateogry','hypertension_categorical','heart_disease_categorical'],\n",
    "    values= 'hypertension',\n",
    "    color='gender',\n",
    ")\n",
    "\n",
    "# Show the Sunburst chart\n",
    "fig.show()\n"
   ]
  },
  {
   "cell_type": "markdown",
   "metadata": {},
   "source": [
    "### Q3. Comparatively who has more hypertension?\n",
    "A. Based on given data female has more heart issues than male.\n",
    "* Female: 4179\n",
    "* Male: 3282\n",
    "* Others: 0"
   ]
  },
  {
   "cell_type": "code",
   "execution_count": 135,
   "metadata": {},
   "outputs": [
    {
     "data": {
      "application/vnd.plotly.v1+json": {
       "config": {
        "plotlyServerURL": "https://plot.ly"
       },
       "data": [
        {
         "branchvalues": "total",
         "customdata": [
          [
           "Female"
          ],
          [
           null
          ],
          [
           "Female"
          ],
          [
           "Female"
          ],
          [
           "(?)"
          ],
          [
           "Female"
          ],
          [
           "Male"
          ],
          [
           "Male"
          ],
          [
           "Other"
          ],
          [
           null
          ],
          [
           null
          ],
          [
           null
          ],
          [
           "Female"
          ],
          [
           "Female"
          ],
          [
           "Female"
          ],
          [
           "Male"
          ],
          [
           "Male"
          ],
          [
           "Male"
          ],
          [
           null
          ],
          [
           null
          ],
          [
           "Female"
          ],
          [
           "Female"
          ],
          [
           "Female"
          ],
          [
           "Male"
          ],
          [
           "Male"
          ],
          [
           "Male"
          ],
          [
           "Male"
          ],
          [
           "(?)"
          ],
          [
           "(?)"
          ],
          [
           "(?)"
          ],
          [
           null
          ],
          [
           "Other"
          ],
          [
           "(?)"
          ],
          [
           "Male"
          ],
          [
           null
          ],
          [
           "Female"
          ],
          [
           null
          ],
          [
           null
          ],
          [
           null
          ],
          [
           "Male"
          ],
          [
           "Male"
          ],
          [
           "Male"
          ],
          [
           "Male"
          ],
          [
           "Female"
          ],
          [
           null
          ],
          [
           null
          ],
          [
           "Female"
          ],
          [
           null
          ],
          [
           "Female"
          ],
          [
           null
          ],
          [
           "Other"
          ],
          [
           null
          ],
          [
           null
          ],
          [
           null
          ],
          [
           "Other"
          ],
          [
           "(?)"
          ],
          [
           null
          ],
          [
           "Female"
          ],
          [
           "Male"
          ],
          [
           "Male"
          ],
          [
           "Other"
          ],
          [
           "Male"
          ],
          [
           null
          ],
          [
           "Male"
          ],
          [
           null
          ],
          [
           "Female"
          ],
          [
           "Female"
          ],
          [
           "Male"
          ],
          [
           "Male"
          ],
          [
           null
          ],
          [
           "Other"
          ],
          [
           null
          ],
          [
           "Female"
          ],
          [
           "Male"
          ],
          [
           null
          ],
          [
           "Male"
          ],
          [
           null
          ],
          [
           "Female"
          ]
         ],
         "domain": {
          "x": [
           0,
           1
          ],
          "y": [
           0,
           1
          ]
         },
         "hovertemplate": "labels=%{label}<br>diabetes=%{value}<br>parent=%{parent}<br>id=%{id}<br>gender=%{customdata[0]}<extra></extra>",
         "ids": [
          "0/0/Female/children",
          "0/1/Other/youngs",
          "0/0/Female/middle",
          "1/0/Female/middle",
          "0",
          "1/1/Female/middle",
          "0/1/Male/middle",
          "1/1/Male/middle",
          "0/0/Other/middle",
          "1/0/Other/middle",
          "0/1/Other/middle",
          "1/1/Other/middle",
          "0/0/Female/old_age",
          "1/0/Female/old_age",
          "1/1/Female/old_age",
          "0/0/Male/old_age",
          "1/0/Male/old_age",
          "0/1/Male/old_age",
          "1/0/Other/old_age",
          "1/1/Other/old_age",
          "1/0/Female",
          "0/1/Female",
          "1/1/Female",
          "0/0/Male",
          "1/0/Male",
          "0/1/Male",
          "1/1/Male",
          "0/0",
          "0/1",
          "1/1",
          "1/0/Other/youngs",
          "0/0/Other/youngs",
          "1",
          "0/1/Male/youngs",
          "0/1/Other/children",
          "1/0/Female/teenagers",
          "0/1/Female/teenagers",
          "1/0/Other/children",
          "1/1/Male/children",
          "1/0/Male/teenagers",
          "0/1/Male/teenagers",
          "0/1/Male/children",
          "1/0/Male/children",
          "0/0/Female/teenagers",
          "1/1/Other/children",
          "1/1/Other/teenagers",
          "0/0/Female/youngs",
          "1/1/Female/children",
          "1/0/Female/children",
          "0/1/Other/teenagers",
          "0/0/Other",
          "1/0/Other",
          "0/1/Other",
          "1/1/Other",
          "0/0/Other/children",
          "1/0",
          "0/1/Female/children",
          "0/0/Female",
          "0/0/Male/children",
          "1/1/Male/old_age",
          "0/0/Other/old_age",
          "1/0/Male/youngs",
          "1/1/Other/youngs",
          "0/0/Male/youngs",
          "1/1/Female/youngs",
          "0/1/Female/youngs",
          "1/0/Female/youngs",
          "0/0/Male/middle",
          "1/0/Male/middle",
          "1/0/Other/teenagers",
          "0/0/Other/teenagers",
          "1/1/Male/teenagers",
          "0/1/Female/old_age",
          "0/0/Male/teenagers",
          "1/1/Female/teenagers",
          "1/1/Male/youngs",
          "0/1/Other/old_age",
          "0/1/Female/middle"
         ],
         "labels": [
          "children",
          "youngs",
          "middle",
          "middle",
          "0",
          "middle",
          "middle",
          "middle",
          "middle",
          "middle",
          "middle",
          "middle",
          "old_age",
          "old_age",
          "old_age",
          "old_age",
          "old_age",
          "old_age",
          "old_age",
          "old_age",
          "Female",
          "Female",
          "Female",
          "Male",
          "Male",
          "Male",
          "Male",
          "0",
          "1",
          "1",
          "youngs",
          "youngs",
          "1",
          "youngs",
          "children",
          "teenagers",
          "teenagers",
          "children",
          "children",
          "teenagers",
          "teenagers",
          "children",
          "children",
          "teenagers",
          "children",
          "teenagers",
          "youngs",
          "children",
          "children",
          "teenagers",
          "Other",
          "Other",
          "Other",
          "Other",
          "children",
          "0",
          "children",
          "Female",
          "children",
          "old_age",
          "old_age",
          "youngs",
          "youngs",
          "youngs",
          "youngs",
          "youngs",
          "youngs",
          "middle",
          "middle",
          "teenagers",
          "teenagers",
          "teenagers",
          "old_age",
          "teenagers",
          "teenagers",
          "youngs",
          "old_age",
          "middle"
         ],
         "marker": {
          "colors": [
           "#636efa",
           "#EF553B",
           "#636efa",
           "#636efa",
           "#00cc96",
           "#636efa",
           "#ab63fa",
           "#ab63fa",
           "#FFA15A",
           "#EF553B",
           "#EF553B",
           "#EF553B",
           "#636efa",
           "#636efa",
           "#636efa",
           "#ab63fa",
           "#ab63fa",
           "#ab63fa",
           "#EF553B",
           "#EF553B",
           "#636efa",
           "#636efa",
           "#636efa",
           "#ab63fa",
           "#ab63fa",
           "#ab63fa",
           "#ab63fa",
           "#00cc96",
           "#00cc96",
           "#00cc96",
           "#EF553B",
           "#FFA15A",
           "#00cc96",
           "#ab63fa",
           "#EF553B",
           "#636efa",
           "#EF553B",
           "#EF553B",
           "#EF553B",
           "#ab63fa",
           "#ab63fa",
           "#ab63fa",
           "#ab63fa",
           "#636efa",
           "#EF553B",
           "#EF553B",
           "#636efa",
           "#EF553B",
           "#636efa",
           "#EF553B",
           "#FFA15A",
           "#EF553B",
           "#EF553B",
           "#EF553B",
           "#FFA15A",
           "#00cc96",
           "#EF553B",
           "#636efa",
           "#ab63fa",
           "#ab63fa",
           "#FFA15A",
           "#ab63fa",
           "#EF553B",
           "#ab63fa",
           "#EF553B",
           "#636efa",
           "#636efa",
           "#ab63fa",
           "#ab63fa",
           "#EF553B",
           "#FFA15A",
           "#EF553B",
           "#636efa",
           "#ab63fa",
           "#EF553B",
           "#ab63fa",
           "#EF553B",
           "#636efa"
          ]
         },
         "name": "",
         "parents": [
          "0/0/Female",
          "0/1/Other",
          "0/0/Female",
          "1/0/Female",
          "",
          "1/1/Female",
          "0/1/Male",
          "1/1/Male",
          "0/0/Other",
          "1/0/Other",
          "0/1/Other",
          "1/1/Other",
          "0/0/Female",
          "1/0/Female",
          "1/1/Female",
          "0/0/Male",
          "1/0/Male",
          "0/1/Male",
          "1/0/Other",
          "1/1/Other",
          "1/0",
          "0/1",
          "1/1",
          "0/0",
          "1/0",
          "0/1",
          "1/1",
          "0",
          "0",
          "1",
          "1/0/Other",
          "0/0/Other",
          "",
          "0/1/Male",
          "0/1/Other",
          "1/0/Female",
          "0/1/Female",
          "1/0/Other",
          "1/1/Male",
          "1/0/Male",
          "0/1/Male",
          "0/1/Male",
          "1/0/Male",
          "0/0/Female",
          "1/1/Other",
          "1/1/Other",
          "0/0/Female",
          "1/1/Female",
          "1/0/Female",
          "0/1/Other",
          "0/0",
          "1/0",
          "0/1",
          "1/1",
          "0/0/Other",
          "1",
          "0/1/Female",
          "0/0",
          "0/0/Male",
          "1/1/Male",
          "0/0/Other",
          "1/0/Male",
          "1/1/Other",
          "0/0/Male",
          "1/1/Female",
          "0/1/Female",
          "1/0/Female",
          "0/0/Male",
          "1/0/Male",
          "1/0/Other",
          "0/0/Other",
          "1/1/Male",
          "0/1/Female",
          "0/0/Male",
          "1/1/Female",
          "1/1/Male",
          "0/1/Other",
          "0/1/Female"
         ],
         "type": "sunburst",
         "values": [
          17,
          0,
          655,
          129,
          6396,
          9,
          36,
          11,
          0,
          0,
          0,
          0,
          2152,
          814,
          155,
          1855,
          622,
          510,
          0,
          0,
          952,
          362,
          164,
          2518,
          776,
          547,
          194,
          5487,
          909,
          358,
          0,
          0,
          2086,
          0,
          0,
          0,
          0,
          0,
          0,
          0,
          0,
          1,
          0,
          35,
          0,
          0,
          110,
          0,
          0,
          0,
          0,
          0,
          0,
          0,
          0,
          1728,
          0,
          2969,
          11,
          183,
          0,
          6,
          0,
          84,
          0,
          0,
          9,
          540,
          148,
          0,
          0,
          0,
          343,
          28,
          0,
          0,
          0,
          19
         ]
        }
       ],
       "layout": {
        "legend": {
         "tracegroupgap": 0
        },
        "margin": {
         "t": 60
        },
        "template": {
         "data": {
          "bar": [
           {
            "error_x": {
             "color": "#2a3f5f"
            },
            "error_y": {
             "color": "#2a3f5f"
            },
            "marker": {
             "line": {
              "color": "#E5ECF6",
              "width": 0.5
             },
             "pattern": {
              "fillmode": "overlay",
              "size": 10,
              "solidity": 0.2
             }
            },
            "type": "bar"
           }
          ],
          "barpolar": [
           {
            "marker": {
             "line": {
              "color": "#E5ECF6",
              "width": 0.5
             },
             "pattern": {
              "fillmode": "overlay",
              "size": 10,
              "solidity": 0.2
             }
            },
            "type": "barpolar"
           }
          ],
          "carpet": [
           {
            "aaxis": {
             "endlinecolor": "#2a3f5f",
             "gridcolor": "white",
             "linecolor": "white",
             "minorgridcolor": "white",
             "startlinecolor": "#2a3f5f"
            },
            "baxis": {
             "endlinecolor": "#2a3f5f",
             "gridcolor": "white",
             "linecolor": "white",
             "minorgridcolor": "white",
             "startlinecolor": "#2a3f5f"
            },
            "type": "carpet"
           }
          ],
          "choropleth": [
           {
            "colorbar": {
             "outlinewidth": 0,
             "ticks": ""
            },
            "type": "choropleth"
           }
          ],
          "contour": [
           {
            "colorbar": {
             "outlinewidth": 0,
             "ticks": ""
            },
            "colorscale": [
             [
              0,
              "#0d0887"
             ],
             [
              0.1111111111111111,
              "#46039f"
             ],
             [
              0.2222222222222222,
              "#7201a8"
             ],
             [
              0.3333333333333333,
              "#9c179e"
             ],
             [
              0.4444444444444444,
              "#bd3786"
             ],
             [
              0.5555555555555556,
              "#d8576b"
             ],
             [
              0.6666666666666666,
              "#ed7953"
             ],
             [
              0.7777777777777778,
              "#fb9f3a"
             ],
             [
              0.8888888888888888,
              "#fdca26"
             ],
             [
              1,
              "#f0f921"
             ]
            ],
            "type": "contour"
           }
          ],
          "contourcarpet": [
           {
            "colorbar": {
             "outlinewidth": 0,
             "ticks": ""
            },
            "type": "contourcarpet"
           }
          ],
          "heatmap": [
           {
            "colorbar": {
             "outlinewidth": 0,
             "ticks": ""
            },
            "colorscale": [
             [
              0,
              "#0d0887"
             ],
             [
              0.1111111111111111,
              "#46039f"
             ],
             [
              0.2222222222222222,
              "#7201a8"
             ],
             [
              0.3333333333333333,
              "#9c179e"
             ],
             [
              0.4444444444444444,
              "#bd3786"
             ],
             [
              0.5555555555555556,
              "#d8576b"
             ],
             [
              0.6666666666666666,
              "#ed7953"
             ],
             [
              0.7777777777777778,
              "#fb9f3a"
             ],
             [
              0.8888888888888888,
              "#fdca26"
             ],
             [
              1,
              "#f0f921"
             ]
            ],
            "type": "heatmap"
           }
          ],
          "heatmapgl": [
           {
            "colorbar": {
             "outlinewidth": 0,
             "ticks": ""
            },
            "colorscale": [
             [
              0,
              "#0d0887"
             ],
             [
              0.1111111111111111,
              "#46039f"
             ],
             [
              0.2222222222222222,
              "#7201a8"
             ],
             [
              0.3333333333333333,
              "#9c179e"
             ],
             [
              0.4444444444444444,
              "#bd3786"
             ],
             [
              0.5555555555555556,
              "#d8576b"
             ],
             [
              0.6666666666666666,
              "#ed7953"
             ],
             [
              0.7777777777777778,
              "#fb9f3a"
             ],
             [
              0.8888888888888888,
              "#fdca26"
             ],
             [
              1,
              "#f0f921"
             ]
            ],
            "type": "heatmapgl"
           }
          ],
          "histogram": [
           {
            "marker": {
             "pattern": {
              "fillmode": "overlay",
              "size": 10,
              "solidity": 0.2
             }
            },
            "type": "histogram"
           }
          ],
          "histogram2d": [
           {
            "colorbar": {
             "outlinewidth": 0,
             "ticks": ""
            },
            "colorscale": [
             [
              0,
              "#0d0887"
             ],
             [
              0.1111111111111111,
              "#46039f"
             ],
             [
              0.2222222222222222,
              "#7201a8"
             ],
             [
              0.3333333333333333,
              "#9c179e"
             ],
             [
              0.4444444444444444,
              "#bd3786"
             ],
             [
              0.5555555555555556,
              "#d8576b"
             ],
             [
              0.6666666666666666,
              "#ed7953"
             ],
             [
              0.7777777777777778,
              "#fb9f3a"
             ],
             [
              0.8888888888888888,
              "#fdca26"
             ],
             [
              1,
              "#f0f921"
             ]
            ],
            "type": "histogram2d"
           }
          ],
          "histogram2dcontour": [
           {
            "colorbar": {
             "outlinewidth": 0,
             "ticks": ""
            },
            "colorscale": [
             [
              0,
              "#0d0887"
             ],
             [
              0.1111111111111111,
              "#46039f"
             ],
             [
              0.2222222222222222,
              "#7201a8"
             ],
             [
              0.3333333333333333,
              "#9c179e"
             ],
             [
              0.4444444444444444,
              "#bd3786"
             ],
             [
              0.5555555555555556,
              "#d8576b"
             ],
             [
              0.6666666666666666,
              "#ed7953"
             ],
             [
              0.7777777777777778,
              "#fb9f3a"
             ],
             [
              0.8888888888888888,
              "#fdca26"
             ],
             [
              1,
              "#f0f921"
             ]
            ],
            "type": "histogram2dcontour"
           }
          ],
          "mesh3d": [
           {
            "colorbar": {
             "outlinewidth": 0,
             "ticks": ""
            },
            "type": "mesh3d"
           }
          ],
          "parcoords": [
           {
            "line": {
             "colorbar": {
              "outlinewidth": 0,
              "ticks": ""
             }
            },
            "type": "parcoords"
           }
          ],
          "pie": [
           {
            "automargin": true,
            "type": "pie"
           }
          ],
          "scatter": [
           {
            "fillpattern": {
             "fillmode": "overlay",
             "size": 10,
             "solidity": 0.2
            },
            "type": "scatter"
           }
          ],
          "scatter3d": [
           {
            "line": {
             "colorbar": {
              "outlinewidth": 0,
              "ticks": ""
             }
            },
            "marker": {
             "colorbar": {
              "outlinewidth": 0,
              "ticks": ""
             }
            },
            "type": "scatter3d"
           }
          ],
          "scattercarpet": [
           {
            "marker": {
             "colorbar": {
              "outlinewidth": 0,
              "ticks": ""
             }
            },
            "type": "scattercarpet"
           }
          ],
          "scattergeo": [
           {
            "marker": {
             "colorbar": {
              "outlinewidth": 0,
              "ticks": ""
             }
            },
            "type": "scattergeo"
           }
          ],
          "scattergl": [
           {
            "marker": {
             "colorbar": {
              "outlinewidth": 0,
              "ticks": ""
             }
            },
            "type": "scattergl"
           }
          ],
          "scattermapbox": [
           {
            "marker": {
             "colorbar": {
              "outlinewidth": 0,
              "ticks": ""
             }
            },
            "type": "scattermapbox"
           }
          ],
          "scatterpolar": [
           {
            "marker": {
             "colorbar": {
              "outlinewidth": 0,
              "ticks": ""
             }
            },
            "type": "scatterpolar"
           }
          ],
          "scatterpolargl": [
           {
            "marker": {
             "colorbar": {
              "outlinewidth": 0,
              "ticks": ""
             }
            },
            "type": "scatterpolargl"
           }
          ],
          "scatterternary": [
           {
            "marker": {
             "colorbar": {
              "outlinewidth": 0,
              "ticks": ""
             }
            },
            "type": "scatterternary"
           }
          ],
          "surface": [
           {
            "colorbar": {
             "outlinewidth": 0,
             "ticks": ""
            },
            "colorscale": [
             [
              0,
              "#0d0887"
             ],
             [
              0.1111111111111111,
              "#46039f"
             ],
             [
              0.2222222222222222,
              "#7201a8"
             ],
             [
              0.3333333333333333,
              "#9c179e"
             ],
             [
              0.4444444444444444,
              "#bd3786"
             ],
             [
              0.5555555555555556,
              "#d8576b"
             ],
             [
              0.6666666666666666,
              "#ed7953"
             ],
             [
              0.7777777777777778,
              "#fb9f3a"
             ],
             [
              0.8888888888888888,
              "#fdca26"
             ],
             [
              1,
              "#f0f921"
             ]
            ],
            "type": "surface"
           }
          ],
          "table": [
           {
            "cells": {
             "fill": {
              "color": "#EBF0F8"
             },
             "line": {
              "color": "white"
             }
            },
            "header": {
             "fill": {
              "color": "#C8D4E3"
             },
             "line": {
              "color": "white"
             }
            },
            "type": "table"
           }
          ]
         },
         "layout": {
          "annotationdefaults": {
           "arrowcolor": "#2a3f5f",
           "arrowhead": 0,
           "arrowwidth": 1
          },
          "autotypenumbers": "strict",
          "coloraxis": {
           "colorbar": {
            "outlinewidth": 0,
            "ticks": ""
           }
          },
          "colorscale": {
           "diverging": [
            [
             0,
             "#8e0152"
            ],
            [
             0.1,
             "#c51b7d"
            ],
            [
             0.2,
             "#de77ae"
            ],
            [
             0.3,
             "#f1b6da"
            ],
            [
             0.4,
             "#fde0ef"
            ],
            [
             0.5,
             "#f7f7f7"
            ],
            [
             0.6,
             "#e6f5d0"
            ],
            [
             0.7,
             "#b8e186"
            ],
            [
             0.8,
             "#7fbc41"
            ],
            [
             0.9,
             "#4d9221"
            ],
            [
             1,
             "#276419"
            ]
           ],
           "sequential": [
            [
             0,
             "#0d0887"
            ],
            [
             0.1111111111111111,
             "#46039f"
            ],
            [
             0.2222222222222222,
             "#7201a8"
            ],
            [
             0.3333333333333333,
             "#9c179e"
            ],
            [
             0.4444444444444444,
             "#bd3786"
            ],
            [
             0.5555555555555556,
             "#d8576b"
            ],
            [
             0.6666666666666666,
             "#ed7953"
            ],
            [
             0.7777777777777778,
             "#fb9f3a"
            ],
            [
             0.8888888888888888,
             "#fdca26"
            ],
            [
             1,
             "#f0f921"
            ]
           ],
           "sequentialminus": [
            [
             0,
             "#0d0887"
            ],
            [
             0.1111111111111111,
             "#46039f"
            ],
            [
             0.2222222222222222,
             "#7201a8"
            ],
            [
             0.3333333333333333,
             "#9c179e"
            ],
            [
             0.4444444444444444,
             "#bd3786"
            ],
            [
             0.5555555555555556,
             "#d8576b"
            ],
            [
             0.6666666666666666,
             "#ed7953"
            ],
            [
             0.7777777777777778,
             "#fb9f3a"
            ],
            [
             0.8888888888888888,
             "#fdca26"
            ],
            [
             1,
             "#f0f921"
            ]
           ]
          },
          "colorway": [
           "#636efa",
           "#EF553B",
           "#00cc96",
           "#ab63fa",
           "#FFA15A",
           "#19d3f3",
           "#FF6692",
           "#B6E880",
           "#FF97FF",
           "#FECB52"
          ],
          "font": {
           "color": "#2a3f5f"
          },
          "geo": {
           "bgcolor": "white",
           "lakecolor": "white",
           "landcolor": "#E5ECF6",
           "showlakes": true,
           "showland": true,
           "subunitcolor": "white"
          },
          "hoverlabel": {
           "align": "left"
          },
          "hovermode": "closest",
          "mapbox": {
           "style": "light"
          },
          "paper_bgcolor": "white",
          "plot_bgcolor": "#E5ECF6",
          "polar": {
           "angularaxis": {
            "gridcolor": "white",
            "linecolor": "white",
            "ticks": ""
           },
           "bgcolor": "#E5ECF6",
           "radialaxis": {
            "gridcolor": "white",
            "linecolor": "white",
            "ticks": ""
           }
          },
          "scene": {
           "xaxis": {
            "backgroundcolor": "#E5ECF6",
            "gridcolor": "white",
            "gridwidth": 2,
            "linecolor": "white",
            "showbackground": true,
            "ticks": "",
            "zerolinecolor": "white"
           },
           "yaxis": {
            "backgroundcolor": "#E5ECF6",
            "gridcolor": "white",
            "gridwidth": 2,
            "linecolor": "white",
            "showbackground": true,
            "ticks": "",
            "zerolinecolor": "white"
           },
           "zaxis": {
            "backgroundcolor": "#E5ECF6",
            "gridcolor": "white",
            "gridwidth": 2,
            "linecolor": "white",
            "showbackground": true,
            "ticks": "",
            "zerolinecolor": "white"
           }
          },
          "shapedefaults": {
           "line": {
            "color": "#2a3f5f"
           }
          },
          "ternary": {
           "aaxis": {
            "gridcolor": "white",
            "linecolor": "white",
            "ticks": ""
           },
           "baxis": {
            "gridcolor": "white",
            "linecolor": "white",
            "ticks": ""
           },
           "bgcolor": "#E5ECF6",
           "caxis": {
            "gridcolor": "white",
            "linecolor": "white",
            "ticks": ""
           }
          },
          "title": {
           "x": 0.05
          },
          "xaxis": {
           "automargin": true,
           "gridcolor": "white",
           "linecolor": "white",
           "ticks": "",
           "title": {
            "standoff": 15
           },
           "zerolinecolor": "white",
           "zerolinewidth": 2
          },
          "yaxis": {
           "automargin": true,
           "gridcolor": "white",
           "linecolor": "white",
           "ticks": "",
           "title": {
            "standoff": 15
           },
           "zerolinecolor": "white",
           "zerolinewidth": 2
          }
         }
        }
       }
      }
     },
     "metadata": {},
     "output_type": "display_data"
    }
   ],
   "source": [
    "fig = px.sunburst(\n",
    "   df,\n",
    "    path=['hypertension_categorical','heart_disease_categorical','gender', 'age_cateogry'],\n",
    "    values= 'diabetes',\n",
    "    color='gender',\n",
    ")\n",
    "\n",
    "# Show the Sunburst chart\n",
    "fig.show()"
   ]
  },
  {
   "cell_type": "markdown",
   "metadata": {},
   "source": [
    "### Q4. People with Hypertension and Heart-disease on the basis of gender, who got more diabetes?\n",
    "A. Based on Data people with Hypertension and Hear_disease, Male has more Diabetes.\n",
    "  * Male : 194\n",
    "  * Female : 164\n",
    "\n",
    "### Q5. People with no Hypertension and no Heart-disease on the basis of gender, who got more diabetes?\n",
    "A. Based on Data people with Hypertension and Hear_disease, female has more Diabetes.\n",
    "* Male 2518\n",
    "* Female 2969"
   ]
  },
  {
   "cell_type": "code",
   "execution_count": 136,
   "metadata": {},
   "outputs": [
    {
     "data": {
      "image/png": "[encoded data removed]",
      "text/plain": [
       "<Figure size 1000x800 with 2 Axes>"
      ]
     },
     "metadata": {},
     "output_type": "display_data"
    }
   ],
   "source": [
    "\n",
    "# Select only numeric columns\n",
    "numeric_columns = df.select_dtypes(include='number')\n",
    "\n",
    "# Calculate the correlation matrix\n",
    "correlation_matrix = numeric_columns.corr()\n",
    "\n",
    "# Create a heatmap to visualize the correlations\n",
    "plt.figure(figsize=(10, 8))\n",
    "sns.heatmap(correlation_matrix, annot=True, cmap=\"coolwarm\")\n",
    "plt.title(\"Correlation Matrix\")\n",
    "plt.show()"
   ]
  },
  {
   "cell_type": "markdown",
   "metadata": {},
   "source": [
    "### Observing Age with BMI, HbA1c_level, and blood_glucose_level\n",
    "* On the basis of data, by increasing age bmi also increases.\n",
    "*  On the basis of data, Positive low corelation between age and HbA1c_level.\n",
    "*  On the basis of data, Positive low corelation between age and blood_glucose_level.\n",
    "  "
   ]
  },
  {
   "cell_type": "code",
   "execution_count": 139,
   "metadata": {},
   "outputs": [],
   "source": [
    "df.drop(df[df['smoking_history'] == 'No Info'].index, inplace=True) "
   ]
  },
  {
   "cell_type": "code",
   "execution_count": 142,
   "metadata": {},
   "outputs": [
    {
     "data": {
      "application/vnd.plotly.v1+json": {
       "config": {
        "plotlyServerURL": "https://plot.ly"
       },
       "data": [
        {
         "branchvalues": "total",
         "customdata": [
          [
           "Female"
          ],
          [
           "Female"
          ],
          [
           "Female"
          ],
          [
           "Female"
          ],
          [
           null
          ],
          [
           null
          ],
          [
           null
          ],
          [
           "Female"
          ],
          [
           null
          ],
          [
           null
          ],
          [
           null
          ],
          [
           "Other"
          ],
          [
           "Other"
          ],
          [
           null
          ],
          [
           null
          ],
          [
           null
          ],
          [
           "Female"
          ],
          [
           "Female"
          ],
          [
           "Female"
          ],
          [
           "Male"
          ],
          [
           "Male"
          ],
          [
           "Male"
          ],
          [
           "Male"
          ],
          [
           "Male"
          ],
          [
           "Male"
          ],
          [
           "Male"
          ],
          [
           "Male"
          ],
          [
           "Male"
          ],
          [
           "Female"
          ],
          [
           "Female"
          ],
          [
           "Female"
          ],
          [
           "Female"
          ],
          [
           "Female"
          ],
          [
           "Female"
          ],
          [
           "Male"
          ],
          [
           "Male"
          ],
          [
           "Male"
          ],
          [
           "Male"
          ],
          [
           null
          ],
          [
           null
          ],
          [
           null
          ],
          [
           null
          ],
          [
           null
          ],
          [
           null
          ],
          [
           null
          ],
          [
           null
          ],
          [
           null
          ],
          [
           null
          ],
          [
           "Other"
          ],
          [
           null
          ],
          [
           "Other"
          ],
          [
           "Male"
          ],
          [
           null
          ],
          [
           "Female"
          ],
          [
           "Male"
          ],
          [
           "Female"
          ],
          [
           "Female"
          ],
          [
           "Male"
          ],
          [
           "Male"
          ],
          [
           "Male"
          ],
          [
           "Male"
          ],
          [
           "Male"
          ],
          [
           "Male"
          ],
          [
           "Male"
          ],
          [
           "(?)"
          ],
          [
           "Female"
          ],
          [
           "Female"
          ],
          [
           "Female"
          ],
          [
           "Female"
          ],
          [
           "Female"
          ],
          [
           "Female"
          ],
          [
           "Female"
          ],
          [
           "Female"
          ],
          [
           null
          ],
          [
           "Male"
          ],
          [
           "Male"
          ],
          [
           "(?)"
          ],
          [
           "(?)"
          ],
          [
           "(?)"
          ],
          [
           null
          ],
          [
           null
          ],
          [
           null
          ],
          [
           "(?)"
          ],
          [
           null
          ],
          [
           null
          ],
          [
           null
          ],
          [
           null
          ],
          [
           null
          ],
          [
           "Other"
          ],
          [
           "Other"
          ],
          [
           null
          ],
          [
           "(?)"
          ],
          [
           "(?)"
          ],
          [
           "(?)"
          ],
          [
           "(?)"
          ],
          [
           "(?)"
          ],
          [
           "(?)"
          ],
          [
           "(?)"
          ],
          [
           "(?)"
          ],
          [
           "(?)"
          ],
          [
           "(?)"
          ],
          [
           "(?)"
          ],
          [
           "(?)"
          ],
          [
           "(?)"
          ],
          [
           "(?)"
          ],
          [
           "(?)"
          ],
          [
           "(?)"
          ],
          [
           "(?)"
          ],
          [
           "(?)"
          ],
          [
           "Other"
          ],
          [
           null
          ],
          [
           "Male"
          ],
          [
           "Male"
          ],
          [
           "Female"
          ],
          [
           "Female"
          ],
          [
           "Female"
          ],
          [
           null
          ],
          [
           null
          ],
          [
           null
          ],
          [
           null
          ],
          [
           null
          ],
          [
           null
          ],
          [
           null
          ],
          [
           null
          ],
          [
           null
          ],
          [
           null
          ],
          [
           "Other"
          ],
          [
           null
          ],
          [
           "Female"
          ],
          [
           "Male"
          ],
          [
           "Female"
          ],
          [
           "Female"
          ],
          [
           "Male"
          ],
          [
           "Male"
          ],
          [
           "Male"
          ],
          [
           "Male"
          ],
          [
           "Male"
          ],
          [
           "Male"
          ],
          [
           "Male"
          ],
          [
           "Male"
          ],
          [
           "Female"
          ],
          [
           "Female"
          ],
          [
           "Female"
          ],
          [
           "Female"
          ],
          [
           "Female"
          ],
          [
           "Female"
          ],
          [
           "Female"
          ],
          [
           "Female"
          ],
          [
           "Male"
          ],
          [
           "Female"
          ],
          [
           "Male"
          ],
          [
           null
          ],
          [
           null
          ],
          [
           null
          ],
          [
           null
          ],
          [
           null
          ],
          [
           null
          ],
          [
           "Male"
          ],
          [
           null
          ],
          [
           "Female"
          ],
          [
           null
          ],
          [
           "Female"
          ],
          [
           "Female"
          ],
          [
           "Female"
          ],
          [
           "Female"
          ],
          [
           null
          ],
          [
           null
          ],
          [
           "Male"
          ],
          [
           null
          ],
          [
           "Other"
          ],
          [
           null
          ],
          [
           null
          ],
          [
           null
          ],
          [
           null
          ],
          [
           null
          ],
          [
           "Male"
          ],
          [
           null
          ],
          [
           null
          ],
          [
           null
          ],
          [
           null
          ],
          [
           null
          ],
          [
           null
          ],
          [
           null
          ],
          [
           null
          ],
          [
           null
          ],
          [
           null
          ],
          [
           null
          ],
          [
           "Male"
          ],
          [
           "Male"
          ],
          [
           "Male"
          ],
          [
           null
          ],
          [
           null
          ],
          [
           null
          ],
          [
           null
          ],
          [
           null
          ],
          [
           null
          ],
          [
           null
          ],
          [
           null
          ],
          [
           null
          ],
          [
           "Female"
          ],
          [
           null
          ],
          [
           null
          ],
          [
           null
          ],
          [
           null
          ],
          [
           "Male"
          ],
          [
           null
          ],
          [
           null
          ],
          [
           null
          ],
          [
           null
          ],
          [
           null
          ],
          [
           "Other"
          ],
          [
           null
          ],
          [
           null
          ],
          [
           null
          ],
          [
           null
          ],
          [
           null
          ],
          [
           null
          ],
          [
           "Male"
          ],
          [
           null
          ],
          [
           null
          ],
          [
           null
          ],
          [
           null
          ],
          [
           "(?)"
          ],
          [
           null
          ],
          [
           "Male"
          ],
          [
           "Female"
          ],
          [
           "Male"
          ],
          [
           "Male"
          ],
          [
           null
          ],
          [
           null
          ],
          [
           null
          ],
          [
           "Male"
          ],
          [
           "Female"
          ],
          [
           null
          ],
          [
           null
          ],
          [
           "Female"
          ],
          [
           null
          ],
          [
           "Male"
          ],
          [
           "Female"
          ],
          [
           "Female"
          ],
          [
           "Female"
          ],
          [
           null
          ],
          [
           "Male"
          ],
          [
           null
          ],
          [
           "Female"
          ],
          [
           "Female"
          ],
          [
           null
          ],
          [
           "Female"
          ],
          [
           "Female"
          ],
          [
           null
          ],
          [
           null
          ],
          [
           "Male"
          ],
          [
           "Female"
          ],
          [
           "Female"
          ],
          [
           null
          ],
          [
           null
          ],
          [
           "Male"
          ],
          [
           null
          ],
          [
           null
          ],
          [
           null
          ],
          [
           "Male"
          ],
          [
           "Male"
          ],
          [
           "Male"
          ],
          [
           null
          ],
          [
           null
          ],
          [
           "Female"
          ],
          [
           "Male"
          ],
          [
           "Male"
          ],
          [
           null
          ],
          [
           null
          ],
          [
           "Male"
          ],
          [
           null
          ],
          [
           "Male"
          ],
          [
           "Male"
          ],
          [
           null
          ],
          [
           "Male"
          ],
          [
           null
          ],
          [
           null
          ],
          [
           "(?)"
          ],
          [
           null
          ],
          [
           "(?)"
          ],
          [
           null
          ],
          [
           null
          ],
          [
           "(?)"
          ],
          [
           "(?)"
          ],
          [
           null
          ],
          [
           null
          ],
          [
           "Male"
          ],
          [
           null
          ],
          [
           "Female"
          ],
          [
           "(?)"
          ],
          [
           "(?)"
          ],
          [
           null
          ],
          [
           "Female"
          ],
          [
           "(?)"
          ],
          [
           null
          ],
          [
           null
          ],
          [
           "(?)"
          ],
          [
           null
          ],
          [
           null
          ],
          [
           null
          ],
          [
           "Female"
          ],
          [
           null
          ],
          [
           null
          ],
          [
           null
          ],
          [
           null
          ],
          [
           "Male"
          ],
          [
           "Male"
          ],
          [
           "(?)"
          ],
          [
           "Male"
          ],
          [
           null
          ],
          [
           null
          ],
          [
           null
          ],
          [
           "(?)"
          ],
          [
           "(?)"
          ],
          [
           null
          ],
          [
           "Female"
          ],
          [
           null
          ],
          [
           null
          ],
          [
           "Female"
          ],
          [
           null
          ],
          [
           "Female"
          ],
          [
           "Male"
          ],
          [
           "Female"
          ],
          [
           null
          ],
          [
           "Female"
          ],
          [
           "Female"
          ],
          [
           "Male"
          ],
          [
           "Male"
          ],
          [
           "Male"
          ],
          [
           "Male"
          ],
          [
           "Male"
          ],
          [
           "Male"
          ],
          [
           "Male"
          ],
          [
           "Female"
          ],
          [
           "Female"
          ],
          [
           "Male"
          ],
          [
           null
          ],
          [
           null
          ],
          [
           null
          ],
          [
           null
          ],
          [
           null
          ],
          [
           null
          ],
          [
           null
          ],
          [
           null
          ],
          [
           null
          ],
          [
           null
          ],
          [
           null
          ],
          [
           null
          ],
          [
           "Male"
          ],
          [
           "Male"
          ],
          [
           "Male"
          ],
          [
           null
          ],
          [
           null
          ],
          [
           "Male"
          ],
          [
           "Male"
          ],
          [
           null
          ],
          [
           "Female"
          ],
          [
           "Female"
          ],
          [
           null
          ],
          [
           null
          ],
          [
           null
          ],
          [
           null
          ],
          [
           "Female"
          ],
          [
           null
          ],
          [
           "Female"
          ],
          [
           "Female"
          ],
          [
           "Female"
          ],
          [
           "Female"
          ],
          [
           null
          ],
          [
           null
          ],
          [
           null
          ],
          [
           "Female"
          ],
          [
           null
          ],
          [
           null
          ],
          [
           "Female"
          ],
          [
           null
          ],
          [
           null
          ],
          [
           "Male"
          ],
          [
           null
          ],
          [
           "Female"
          ],
          [
           "Female"
          ],
          [
           "Female"
          ],
          [
           "Female"
          ],
          [
           null
          ],
          [
           "Male"
          ],
          [
           null
          ],
          [
           null
          ],
          [
           null
          ],
          [
           null
          ],
          [
           null
          ],
          [
           null
          ],
          [
           "Female"
          ],
          [
           "Male"
          ],
          [
           "Male"
          ]
         ],
         "domain": {
          "x": [
           0,
           1
          ],
          "y": [
           0,
           1
          ]
         },
         "hovertemplate": "labels=%{label}<br>diabetes=%{value}<br>parent=%{parent}<br>id=%{id}<br>gender=%{customdata[0]}<extra></extra>",
         "ids": [
          "current/0/0/Female/children",
          "former/0/0/Female/old_age",
          "ever/0/0/Female/old_age",
          "current/0/0/Female/old_age",
          "not current/1/1/Other/middle",
          "ever/1/1/Other/middle",
          "current/1/1/Other/middle",
          "never/0/0/Female/old_age",
          "not current/0/1/Other/middle",
          "current/0/1/Other/middle",
          "ever/1/0/Other/middle",
          "not current/0/0/Other/middle",
          "never/0/0/Other/middle",
          "former/0/0/Other/middle",
          "not current/1/1/Male/middle",
          "former/0/1/Other/middle",
          "not current/0/0/Female/old_age",
          "ever/1/0/Female/old_age",
          "never/1/0/Female/old_age",
          "never/0/1/Male/old_age",
          "ever/0/1/Male/old_age",
          "current/0/1/Male/old_age",
          "not current/1/0/Male/old_age",
          "never/1/0/Male/old_age",
          "ever/1/0/Male/old_age",
          "current/1/0/Male/old_age",
          "not current/0/0/Male/old_age",
          "never/0/0/Male/old_age",
          "not current/1/1/Female/old_age",
          "never/1/1/Female/old_age",
          "current/1/1/Female/old_age",
          "never/0/1/Female/old_age",
          "ever/0/1/Female/old_age",
          "not current/1/0/Female/old_age",
          "never/1/1/Male/middle",
          "former/1/1/Male/middle",
          "ever/1/1/Male/middle",
          "former/0/1/Male/middle",
          "not current/1/1/Other/youngs",
          "former/1/1/Other/youngs",
          "ever/1/1/Other/youngs",
          "current/1/1/Other/youngs",
          "not current/0/1/Other/youngs",
          "never/0/1/Other/youngs",
          "former/0/1/Other/youngs",
          "ever/0/1/Other/youngs",
          "not current/1/0/Other/youngs",
          "never/1/0/Other/youngs",
          "not current/0/0/Other/youngs",
          "never/0/0/Other/youngs",
          "ever/0/0/Other/youngs",
          "former/1/1/Male/youngs",
          "current/1/1/Male/youngs",
          "former/0/0/Female/middle",
          "not current/0/1/Male/old_age",
          "never/0/0/Female/middle",
          "ever/1/0/Female/middle",
          "current/0/1/Male/middle",
          "never/1/0/Male/middle",
          "former/1/0/Male/middle",
          "ever/1/0/Male/middle",
          "current/1/0/Male/middle",
          "never/0/0/Male/middle",
          "ever/0/0/Male/middle",
          "never",
          "ever/1/1/Female/middle",
          "not current/0/1/Female/middle",
          "never/0/1/Female/middle",
          "ever/0/1/Female/middle",
          "not current/1/0/Female/middle",
          "never/1/0/Female/middle",
          "former/1/0/Female/middle",
          "not current/0/0/Female/middle",
          "not current/0/1/Male/youngs",
          "current/1/1/Male/old_age",
          "former/1/1/Male/old_age",
          "not current/0/0",
          "former/0/0",
          "current/0/0",
          "not current/1/1/Other",
          "never/1/1/Other",
          "ever/1/1/Other",
          "current/1/0",
          "current/1/1/Other",
          "never/0/1/Other",
          "current/0/1/Other",
          "former/1/0/Other",
          "ever/1/0/Other",
          "not current/0/0/Other",
          "never/0/0/Other",
          "not current/0/1/Other",
          "ever/1/0",
          "former/1/0",
          "never/1/0",
          "former",
          "ever",
          "never/1",
          "former/1",
          "ever/1",
          "not current/0",
          "never/0",
          "former/0",
          "not current/1/1",
          "never/1/1",
          "former/1/1",
          "current/1/1",
          "never/0/1",
          "former/0/1",
          "ever/0/1",
          "ever/0/0/Other",
          "current/0/0/Other",
          "not current/1/1/Male",
          "former/1/1/Male",
          "never/0/0/Female",
          "ever/0/0/Female",
          "current/0/0/Female",
          "not current/1/1/Other/old_age",
          "ever/1/1/Other/old_age",
          "not current/0/1/Other/old_age",
          "never/0/1/Other/old_age",
          "former/0/1/Other/old_age",
          "ever/0/1/Other/old_age",
          "current/0/1/Other/old_age",
          "not current/1/0/Other/old_age",
          "former/1/0/Other/old_age",
          "current/1/0/Other/old_age",
          "not current/0/0/Other/old_age",
          "current/0/0/Other/old_age",
          "ever/1/0/Female",
          "ever/1/1/Male/old_age",
          "not current/1/0/Female",
          "ever/0/1/Female",
          "current/1/1/Male",
          "not current/0/1/Male",
          "former/0/1/Male",
          "current/0/1/Male",
          "current/1/0/Male",
          "not current/0/0/Male",
          "never/0/0/Male",
          "former/0/0/Male",
          "never/1/1/Female",
          "former/1/1/Female",
          "ever/1/1/Female",
          "current/1/1/Female",
          "not current/0/1/Female",
          "never/0/1/Female",
          "former/0/1/Female",
          "current/0/1/Female",
          "current/0/1/Male/youngs",
          "former/1/1/Female/middle",
          "never/1/0/Male/youngs",
          "never/1/1/Female/teenagers",
          "former/1/1/Female/teenagers",
          "ever/1/1/Female/teenagers",
          "current/1/1/Female/teenagers",
          "not current/0/1/Female/teenagers",
          "never/0/1/Female/teenagers",
          "current/0/0/Male/teenagers",
          "former/0/1/Female/teenagers",
          "never/1/0/Female/teenagers",
          "ever/1/0/Female/teenagers",
          "never/0/0/Female/teenagers",
          "former/0/0/Female/teenagers",
          "ever/0/0/Female/teenagers",
          "current/0/0/Female/teenagers",
          "ever/0/1/Female/teenagers",
          "never/1/1/Other/children",
          "ever/0/0/Male/teenagers",
          "current/1/0/Male/teenagers",
          "not current/0/0/Other/teenagers",
          "never/0/0/Other/teenagers",
          "former/0/0/Other/teenagers",
          "ever/0/0/Other/teenagers",
          "never/1/1/Male/teenagers",
          "former/1/1/Male/teenagers",
          "never/0/0/Male/teenagers",
          "ever/1/1/Male/teenagers",
          "never/0/1/Male/teenagers",
          "former/0/1/Male/teenagers",
          "ever/0/1/Male/teenagers",
          "not current/1/0/Male/teenagers",
          "former/1/0/Male/teenagers",
          "ever/1/0/Male/teenagers",
          "current/1/1/Male/teenagers",
          "ever/1/1/Other/children",
          "never/0/1/Other/children",
          "former/0/1/Other/children",
          "current/1/0/Male/children",
          "not current/0/0/Male/children",
          "never/0/0/Male/children",
          "former/1/1/Female/children",
          "ever/1/1/Female/children",
          "never/0/1/Female/children",
          "ever/1/0/Male/children",
          "ever/0/1/Female/children",
          "not current/1/0/Female/children",
          "never/1/0/Female/children",
          "former/1/0/Female/children",
          "current/1/0/Female/children",
          "not current/0/0/Female/children",
          "former/0/0/Female/children",
          "current/0/1/Female/children",
          "never/1/0/Male/children",
          "current/0/1/Male/children",
          "ever/0/1/Male/children",
          "ever/0/1/Other/children",
          "not current/1/0/Other/children",
          "former/1/0/Other/children",
          "ever/1/0/Other/children",
          "current/1/0/Other/children",
          "not current/0/0/Other/children",
          "never/0/0/Other/children",
          "former/0/0/Other/children",
          "current/0/0/Other/children",
          "not current/1/1/Male/children",
          "former/1/1/Male/children",
          "ever/1/1/Male/children",
          "not current/0/1/Male/children",
          "never/0/1/Male/children",
          "former/0/1/Male/children",
          "current/1/0/Other/teenagers",
          "ever/1/0/Other/teenagers",
          "not current",
          "ever/0/1/Female/youngs",
          "ever/0/0/Male/youngs",
          "former/0/0/Female/youngs",
          "former/0/0/Male/youngs",
          "never/0/0/Male/youngs",
          "not current/1/1/Female/youngs",
          "former/1/1/Other/teenagers",
          "ever/1/1/Other/teenagers",
          "not current/0/0/Male/youngs",
          "not current/0/0/Female/youngs",
          "current/1/1/Female/youngs",
          "never/0/1/Other/teenagers",
          "ever/1/0/Female/youngs",
          "former/0/1/Other/teenagers",
          "current/1/0/Male/youngs",
          "not current/0/1/Female/youngs",
          "current/1/0/Female/youngs",
          "current/0/0/Female/youngs",
          "ever/1/0/Male/youngs",
          "former/1/0/Male/youngs",
          "not current/1/0/Other/teenagers",
          "current/0/1/Female/youngs",
          "never/0/1/Female/youngs",
          "ever/0/1/Other/teenagers",
          "not current/1/0/Female/youngs",
          "never/1/0/Female/youngs",
          "current/0/1/Other/teenagers",
          "current/1/1/Male/children",
          "current/0/0/Male",
          "not current/1/1/Female",
          "current/0/0/Female/middle",
          "never/1/1/Female/youngs",
          "current/0/1/Other/youngs",
          "current/0/0/Male/youngs",
          "current/1/0/Other",
          "former/1/0/Other/youngs",
          "former/0/0/Other",
          "never/1/1/Male",
          "ever/1/0/Male",
          "ever/0/0/Male",
          "never/1/1/Male/children",
          "ever/1/1/Female/youngs",
          "former/0/1/Female/youngs",
          "never/0/1/Male",
          "ever/0/1/Male",
          "never/1/0/Other",
          "ever/0/0/Other/children",
          "not current/1/0/Male",
          "never/1/1/Other/youngs",
          "never/1/0/Male",
          "former/1/0/Male",
          "former/1/1/Female/youngs",
          "ever/1/1/Male",
          "ever/0/0/Other/middle",
          "not current/1/0/Male/children",
          "not current/0/1",
          "former/0/1/Female/children",
          "ever/1/1",
          "never/1/1/Male/youngs",
          "ever/1/1/Male/youngs",
          "current/0",
          "ever/0",
          "not current/1/1/Male/youngs",
          "ever/1/0/Female/children",
          "never/0/1/Male/youngs",
          "former/0/1/Male/youngs",
          "never/0/0/Female/children",
          "not current/1",
          "current",
          "ever/0/1/Male/youngs",
          "ever/0/0/Female/children",
          "current/1",
          "not current/1/0/Other",
          "not current/0/1/Female/children",
          "current/0/1",
          "ever/0/1/Other",
          "former/0/1/Other",
          "ever/1/0/Other/youngs",
          "ever/0/0/Female/middle",
          "current/1/0/Other/youngs",
          "former/1/1/Other",
          "former/0/0/Other/youngs",
          "current/1/1/Female/children",
          "former/0/0/Male/children",
          "ever/0/0/Male/children",
          "never/0/0",
          "current/0/0/Male/children",
          "not current/1/1/Female/children",
          "never/1/1/Female/children",
          "current/0/0/Other/youngs",
          "not current/1/0",
          "ever/0/0",
          "former/1/0/Male/children",
          "never/1/0/Female",
          "current/0/1/Other/children",
          "current/0/1/Male/teenagers",
          "current/0/1/Female/old_age",
          "not current/0/1/Other/teenagers",
          "former/0/1/Female/old_age",
          "never/1/0/Male/teenagers",
          "not current/0/1/Female/old_age",
          "current/1/1/Other/teenagers",
          "ever/1/1/Female/old_age",
          "former/1/1/Female/old_age",
          "current/0/0/Male/old_age",
          "ever/0/0/Male/old_age",
          "former/0/0/Male/old_age",
          "not current/0/0/Male/teenagers",
          "not current/0/0/Male/middle",
          "former/0/0/Male/teenagers",
          "not current/1/0/Male/middle",
          "former/1/0/Female/old_age",
          "current/1/0/Female/old_age",
          "ever/0/1/Male/middle",
          "current/0/0/Other/middle",
          "current/1/0/Other/middle",
          "never/1/0/Other/teenagers",
          "former/1/0/Other/middle",
          "never/1/0/Other/middle",
          "not current/1/0/Other/middle",
          "ever/0/1/Other/middle",
          "never/1/1/Other/teenagers",
          "never/0/1/Other/middle",
          "not current/1/1/Male/teenagers",
          "former/1/1/Other/middle",
          "never/1/1/Other/middle",
          "current/1/1/Male/middle",
          "not current/0/1/Male/middle",
          "never/0/1/Male/middle",
          "not current/0/1/Male/teenagers",
          "current/0/0/Other/teenagers",
          "former/1/0/Male/old_age",
          "former/0/0/Male/middle",
          "not current/1/1/Female/teenagers",
          "not current/0/0/Female/teenagers",
          "current/0/1/Female/middle",
          "current/1/1/Other/old_age",
          "former/1/1/Other/old_age",
          "never/1/1/Other/old_age",
          "not current/1/1/Other/children",
          "former/1/0/Female/youngs",
          "current/1/0/Female/teenagers",
          "former/0/0/Female",
          "not current/0/0/Female",
          "current/1/0/Female",
          "former/1/0/Female",
          "former/1/0/Other/teenagers",
          "current/1/1/Other/children",
          "not current/0/1/Other/children",
          "current/1/0/Female/middle",
          "former/1/1/Other/children",
          "never/1/0/Other/children",
          "former/0/1/Female/middle",
          "never/1/0/Other/old_age",
          "not current/1/1/Other/teenagers",
          "current/0/0/Male/middle",
          "not current/1/0/Male/youngs",
          "not current/1/1/Female/middle",
          "never/1/1/Female/middle",
          "ever/0/0/Female/youngs",
          "current/1/1/Female/middle",
          "former/1/0/Female/teenagers",
          "never/1/1/Male/old_age",
          "ever/0/0/Other/old_age",
          "former/0/0/Other/old_age",
          "never/0/0/Other/old_age",
          "current/0/1/Female/teenagers",
          "not current/1/0/Female/teenagers",
          "ever/1/0/Other/old_age",
          "never/0/0/Female/youngs",
          "not current/1/1/Male/old_age",
          "former/0/1/Male/old_age"
         ],
         "labels": [
          "children",
          "old_age",
          "old_age",
          "old_age",
          "middle",
          "middle",
          "middle",
          "old_age",
          "middle",
          "middle",
          "middle",
          "middle",
          "middle",
          "middle",
          "middle",
          "middle",
          "old_age",
          "old_age",
          "old_age",
          "old_age",
          "old_age",
          "old_age",
          "old_age",
          "old_age",
          "old_age",
          "old_age",
          "old_age",
          "old_age",
          "old_age",
          "old_age",
          "old_age",
          "old_age",
          "old_age",
          "old_age",
          "middle",
          "middle",
          "middle",
          "middle",
          "youngs",
          "youngs",
          "youngs",
          "youngs",
          "youngs",
          "youngs",
          "youngs",
          "youngs",
          "youngs",
          "youngs",
          "youngs",
          "youngs",
          "youngs",
          "youngs",
          "youngs",
          "middle",
          "old_age",
          "middle",
          "middle",
          "middle",
          "middle",
          "middle",
          "middle",
          "middle",
          "middle",
          "middle",
          "never",
          "middle",
          "middle",
          "middle",
          "middle",
          "middle",
          "middle",
          "middle",
          "middle",
          "youngs",
          "old_age",
          "old_age",
          "0",
          "0",
          "0",
          "Other",
          "Other",
          "Other",
          "0",
          "Other",
          "Other",
          "Other",
          "Other",
          "Other",
          "Other",
          "Other",
          "Other",
          "0",
          "0",
          "0",
          "former",
          "ever",
          "1",
          "1",
          "1",
          "0",
          "0",
          "0",
          "1",
          "1",
          "1",
          "1",
          "1",
          "1",
          "1",
          "Other",
          "Other",
          "Male",
          "Male",
          "Female",
          "Female",
          "Female",
          "old_age",
          "old_age",
          "old_age",
          "old_age",
          "old_age",
          "old_age",
          "old_age",
          "old_age",
          "old_age",
          "old_age",
          "old_age",
          "old_age",
          "Female",
          "old_age",
          "Female",
          "Female",
          "Male",
          "Male",
          "Male",
          "Male",
          "Male",
          "Male",
          "Male",
          "Male",
          "Female",
          "Female",
          "Female",
          "Female",
          "Female",
          "Female",
          "Female",
          "Female",
          "youngs",
          "middle",
          "youngs",
          "teenagers",
          "teenagers",
          "teenagers",
          "teenagers",
          "teenagers",
          "teenagers",
          "teenagers",
          "teenagers",
          "teenagers",
          "teenagers",
          "teenagers",
          "teenagers",
          "teenagers",
          "teenagers",
          "teenagers",
          "children",
          "teenagers",
          "teenagers",
          "teenagers",
          "teenagers",
          "teenagers",
          "teenagers",
          "teenagers",
          "teenagers",
          "teenagers",
          "teenagers",
          "teenagers",
          "teenagers",
          "teenagers",
          "teenagers",
          "teenagers",
          "teenagers",
          "teenagers",
          "children",
          "children",
          "children",
          "children",
          "children",
          "children",
          "children",
          "children",
          "children",
          "children",
          "children",
          "children",
          "children",
          "children",
          "children",
          "children",
          "children",
          "children",
          "children",
          "children",
          "children",
          "children",
          "children",
          "children",
          "children",
          "children",
          "children",
          "children",
          "children",
          "children",
          "children",
          "children",
          "children",
          "children",
          "children",
          "children",
          "teenagers",
          "teenagers",
          "not current",
          "youngs",
          "youngs",
          "youngs",
          "youngs",
          "youngs",
          "youngs",
          "teenagers",
          "teenagers",
          "youngs",
          "youngs",
          "youngs",
          "teenagers",
          "youngs",
          "teenagers",
          "youngs",
          "youngs",
          "youngs",
          "youngs",
          "youngs",
          "youngs",
          "teenagers",
          "youngs",
          "youngs",
          "teenagers",
          "youngs",
          "youngs",
          "teenagers",
          "children",
          "Male",
          "Female",
          "middle",
          "youngs",
          "youngs",
          "youngs",
          "Other",
          "youngs",
          "Other",
          "Male",
          "Male",
          "Male",
          "children",
          "youngs",
          "youngs",
          "Male",
          "Male",
          "Other",
          "children",
          "Male",
          "youngs",
          "Male",
          "Male",
          "youngs",
          "Male",
          "middle",
          "children",
          "1",
          "children",
          "1",
          "youngs",
          "youngs",
          "0",
          "0",
          "youngs",
          "children",
          "youngs",
          "youngs",
          "children",
          "1",
          "current",
          "youngs",
          "children",
          "1",
          "Other",
          "children",
          "1",
          "Other",
          "Other",
          "youngs",
          "middle",
          "youngs",
          "Other",
          "youngs",
          "children",
          "children",
          "children",
          "0",
          "children",
          "children",
          "children",
          "youngs",
          "0",
          "0",
          "children",
          "Female",
          "children",
          "teenagers",
          "old_age",
          "teenagers",
          "old_age",
          "teenagers",
          "old_age",
          "teenagers",
          "old_age",
          "old_age",
          "old_age",
          "old_age",
          "old_age",
          "teenagers",
          "middle",
          "teenagers",
          "middle",
          "old_age",
          "old_age",
          "middle",
          "middle",
          "middle",
          "teenagers",
          "middle",
          "middle",
          "middle",
          "middle",
          "teenagers",
          "middle",
          "teenagers",
          "middle",
          "middle",
          "middle",
          "middle",
          "middle",
          "teenagers",
          "teenagers",
          "old_age",
          "middle",
          "teenagers",
          "teenagers",
          "middle",
          "old_age",
          "old_age",
          "old_age",
          "children",
          "youngs",
          "teenagers",
          "Female",
          "Female",
          "Female",
          "Female",
          "teenagers",
          "children",
          "children",
          "middle",
          "children",
          "children",
          "middle",
          "old_age",
          "teenagers",
          "middle",
          "youngs",
          "middle",
          "middle",
          "youngs",
          "middle",
          "teenagers",
          "old_age",
          "old_age",
          "old_age",
          "old_age",
          "teenagers",
          "teenagers",
          "old_age",
          "youngs",
          "old_age",
          "old_age"
         ],
         "marker": {
          "colors": [
           "#636efa",
           "#636efa",
           "#636efa",
           "#636efa",
           "#EF553B",
           "#EF553B",
           "#EF553B",
           "#636efa",
           "#EF553B",
           "#EF553B",
           "#EF553B",
           "#00cc96",
           "#00cc96",
           "#EF553B",
           "#EF553B",
           "#EF553B",
           "#636efa",
           "#636efa",
           "#636efa",
           "#ab63fa",
           "#ab63fa",
           "#ab63fa",
           "#ab63fa",
           "#ab63fa",
           "#ab63fa",
           "#ab63fa",
           "#ab63fa",
           "#ab63fa",
           "#636efa",
           "#636efa",
           "#636efa",
           "#636efa",
           "#636efa",
           "#636efa",
           "#ab63fa",
           "#ab63fa",
           "#ab63fa",
           "#ab63fa",
           "#EF553B",
           "#EF553B",
           "#EF553B",
           "#EF553B",
           "#EF553B",
           "#EF553B",
           "#EF553B",
           "#EF553B",
           "#EF553B",
           "#EF553B",
           "#00cc96",
           "#EF553B",
           "#00cc96",
           "#ab63fa",
           "#EF553B",
           "#636efa",
           "#ab63fa",
           "#636efa",
           "#636efa",
           "#ab63fa",
           "#ab63fa",
           "#ab63fa",
           "#ab63fa",
           "#ab63fa",
           "#ab63fa",
           "#ab63fa",
           "#FFA15A",
           "#636efa",
           "#636efa",
           "#636efa",
           "#636efa",
           "#636efa",
           "#636efa",
           "#636efa",
           "#636efa",
           "#EF553B",
           "#ab63fa",
           "#ab63fa",
           "#FFA15A",
           "#FFA15A",
           "#FFA15A",
           "#EF553B",
           "#EF553B",
           "#EF553B",
           "#FFA15A",
           "#EF553B",
           "#EF553B",
           "#EF553B",
           "#EF553B",
           "#EF553B",
           "#00cc96",
           "#00cc96",
           "#EF553B",
           "#FFA15A",
           "#FFA15A",
           "#FFA15A",
           "#FFA15A",
           "#FFA15A",
           "#FFA15A",
           "#FFA15A",
           "#FFA15A",
           "#FFA15A",
           "#FFA15A",
           "#FFA15A",
           "#FFA15A",
           "#FFA15A",
           "#FFA15A",
           "#FFA15A",
           "#FFA15A",
           "#FFA15A",
           "#FFA15A",
           "#00cc96",
           "#EF553B",
           "#ab63fa",
           "#ab63fa",
           "#636efa",
           "#636efa",
           "#636efa",
           "#EF553B",
           "#EF553B",
           "#EF553B",
           "#EF553B",
           "#EF553B",
           "#EF553B",
           "#EF553B",
           "#EF553B",
           "#EF553B",
           "#EF553B",
           "#00cc96",
           "#EF553B",
           "#636efa",
           "#ab63fa",
           "#636efa",
           "#636efa",
           "#ab63fa",
           "#ab63fa",
           "#ab63fa",
           "#ab63fa",
           "#ab63fa",
           "#ab63fa",
           "#ab63fa",
           "#ab63fa",
           "#636efa",
           "#636efa",
           "#636efa",
           "#636efa",
           "#636efa",
           "#636efa",
           "#636efa",
           "#636efa",
           "#ab63fa",
           "#636efa",
           "#ab63fa",
           "#EF553B",
           "#EF553B",
           "#EF553B",
           "#EF553B",
           "#EF553B",
           "#EF553B",
           "#ab63fa",
           "#EF553B",
           "#636efa",
           "#EF553B",
           "#636efa",
           "#636efa",
           "#636efa",
           "#636efa",
           "#EF553B",
           "#EF553B",
           "#ab63fa",
           "#EF553B",
           "#00cc96",
           "#EF553B",
           "#EF553B",
           "#EF553B",
           "#EF553B",
           "#EF553B",
           "#ab63fa",
           "#EF553B",
           "#EF553B",
           "#EF553B",
           "#EF553B",
           "#EF553B",
           "#EF553B",
           "#EF553B",
           "#EF553B",
           "#EF553B",
           "#EF553B",
           "#EF553B",
           "#ab63fa",
           "#ab63fa",
           "#ab63fa",
           "#EF553B",
           "#EF553B",
           "#EF553B",
           "#EF553B",
           "#EF553B",
           "#EF553B",
           "#EF553B",
           "#EF553B",
           "#EF553B",
           "#636efa",
           "#EF553B",
           "#EF553B",
           "#EF553B",
           "#EF553B",
           "#ab63fa",
           "#EF553B",
           "#EF553B",
           "#EF553B",
           "#EF553B",
           "#EF553B",
           "#00cc96",
           "#EF553B",
           "#EF553B",
           "#EF553B",
           "#EF553B",
           "#EF553B",
           "#EF553B",
           "#ab63fa",
           "#EF553B",
           "#EF553B",
           "#EF553B",
           "#EF553B",
           "#FFA15A",
           "#EF553B",
           "#ab63fa",
           "#636efa",
           "#ab63fa",
           "#ab63fa",
           "#EF553B",
           "#EF553B",
           "#EF553B",
           "#ab63fa",
           "#636efa",
           "#EF553B",
           "#EF553B",
           "#636efa",
           "#EF553B",
           "#ab63fa",
           "#636efa",
           "#636efa",
           "#636efa",
           "#EF553B",
           "#ab63fa",
           "#EF553B",
           "#636efa",
           "#636efa",
           "#EF553B",
           "#636efa",
           "#636efa",
           "#EF553B",
           "#EF553B",
           "#ab63fa",
           "#636efa",
           "#636efa",
           "#EF553B",
           "#EF553B",
           "#ab63fa",
           "#EF553B",
           "#EF553B",
           "#EF553B",
           "#ab63fa",
           "#ab63fa",
           "#ab63fa",
           "#EF553B",
           "#EF553B",
           "#636efa",
           "#ab63fa",
           "#ab63fa",
           "#EF553B",
           "#EF553B",
           "#ab63fa",
           "#EF553B",
           "#ab63fa",
           "#ab63fa",
           "#EF553B",
           "#ab63fa",
           "#EF553B",
           "#EF553B",
           "#FFA15A",
           "#EF553B",
           "#FFA15A",
           "#EF553B",
           "#EF553B",
           "#FFA15A",
           "#FFA15A",
           "#EF553B",
           "#EF553B",
           "#ab63fa",
           "#EF553B",
           "#636efa",
           "#FFA15A",
           "#FFA15A",
           "#EF553B",
           "#636efa",
           "#FFA15A",
           "#EF553B",
           "#EF553B",
           "#FFA15A",
           "#EF553B",
           "#EF553B",
           "#EF553B",
           "#636efa",
           "#EF553B",
           "#EF553B",
           "#EF553B",
           "#EF553B",
           "#ab63fa",
           "#ab63fa",
           "#FFA15A",
           "#ab63fa",
           "#EF553B",
           "#EF553B",
           "#EF553B",
           "#FFA15A",
           "#FFA15A",
           "#EF553B",
           "#636efa",
           "#EF553B",
           "#EF553B",
           "#636efa",
           "#EF553B",
           "#636efa",
           "#ab63fa",
           "#636efa",
           "#EF553B",
           "#636efa",
           "#636efa",
           "#ab63fa",
           "#ab63fa",
           "#ab63fa",
           "#ab63fa",
           "#ab63fa",
           "#ab63fa",
           "#ab63fa",
           "#636efa",
           "#636efa",
           "#ab63fa",
           "#EF553B",
           "#EF553B",
           "#EF553B",
           "#EF553B",
           "#EF553B",
           "#EF553B",
           "#EF553B",
           "#EF553B",
           "#EF553B",
           "#EF553B",
           "#EF553B",
           "#EF553B",
           "#ab63fa",
           "#ab63fa",
           "#ab63fa",
           "#EF553B",
           "#EF553B",
           "#ab63fa",
           "#ab63fa",
           "#EF553B",
           "#636efa",
           "#636efa",
           "#EF553B",
           "#EF553B",
           "#EF553B",
           "#EF553B",
           "#636efa",
           "#EF553B",
           "#636efa",
           "#636efa",
           "#636efa",
           "#636efa",
           "#EF553B",
           "#EF553B",
           "#EF553B",
           "#636efa",
           "#EF553B",
           "#EF553B",
           "#636efa",
           "#EF553B",
           "#EF553B",
           "#ab63fa",
           "#EF553B",
           "#636efa",
           "#636efa",
           "#636efa",
           "#636efa",
           "#EF553B",
           "#ab63fa",
           "#EF553B",
           "#EF553B",
           "#EF553B",
           "#EF553B",
           "#EF553B",
           "#EF553B",
           "#636efa",
           "#ab63fa",
           "#ab63fa"
          ]
         },
         "name": "",
         "parents": [
          "current/0/0/Female",
          "former/0/0/Female",
          "ever/0/0/Female",
          "current/0/0/Female",
          "not current/1/1/Other",
          "ever/1/1/Other",
          "current/1/1/Other",
          "never/0/0/Female",
          "not current/0/1/Other",
          "current/0/1/Other",
          "ever/1/0/Other",
          "not current/0/0/Other",
          "never/0/0/Other",
          "former/0/0/Other",
          "not current/1/1/Male",
          "former/0/1/Other",
          "not current/0/0/Female",
          "ever/1/0/Female",
          "never/1/0/Female",
          "never/0/1/Male",
          "ever/0/1/Male",
          "current/0/1/Male",
          "not current/1/0/Male",
          "never/1/0/Male",
          "ever/1/0/Male",
          "current/1/0/Male",
          "not current/0/0/Male",
          "never/0/0/Male",
          "not current/1/1/Female",
          "never/1/1/Female",
          "current/1/1/Female",
          "never/0/1/Female",
          "ever/0/1/Female",
          "not current/1/0/Female",
          "never/1/1/Male",
          "former/1/1/Male",
          "ever/1/1/Male",
          "former/0/1/Male",
          "not current/1/1/Other",
          "former/1/1/Other",
          "ever/1/1/Other",
          "current/1/1/Other",
          "not current/0/1/Other",
          "never/0/1/Other",
          "former/0/1/Other",
          "ever/0/1/Other",
          "not current/1/0/Other",
          "never/1/0/Other",
          "not current/0/0/Other",
          "never/0/0/Other",
          "ever/0/0/Other",
          "former/1/1/Male",
          "current/1/1/Male",
          "former/0/0/Female",
          "not current/0/1/Male",
          "never/0/0/Female",
          "ever/1/0/Female",
          "current/0/1/Male",
          "never/1/0/Male",
          "former/1/0/Male",
          "ever/1/0/Male",
          "current/1/0/Male",
          "never/0/0/Male",
          "ever/0/0/Male",
          "",
          "ever/1/1/Female",
          "not current/0/1/Female",
          "never/0/1/Female",
          "ever/0/1/Female",
          "not current/1/0/Female",
          "never/1/0/Female",
          "former/1/0/Female",
          "not current/0/0/Female",
          "not current/0/1/Male",
          "current/1/1/Male",
          "former/1/1/Male",
          "not current/0",
          "former/0",
          "current/0",
          "not current/1/1",
          "never/1/1",
          "ever/1/1",
          "current/1",
          "current/1/1",
          "never/0/1",
          "current/0/1",
          "former/1/0",
          "ever/1/0",
          "not current/0/0",
          "never/0/0",
          "not current/0/1",
          "ever/1",
          "former/1",
          "never/1",
          "",
          "",
          "never",
          "former",
          "ever",
          "not current",
          "never",
          "former",
          "not current/1",
          "never/1",
          "former/1",
          "current/1",
          "never/0",
          "former/0",
          "ever/0",
          "ever/0/0",
          "current/0/0",
          "not current/1/1",
          "former/1/1",
          "never/0/0",
          "ever/0/0",
          "current/0/0",
          "not current/1/1/Other",
          "ever/1/1/Other",
          "not current/0/1/Other",
          "never/0/1/Other",
          "former/0/1/Other",
          "ever/0/1/Other",
          "current/0/1/Other",
          "not current/1/0/Other",
          "former/1/0/Other",
          "current/1/0/Other",
          "not current/0/0/Other",
          "current/0/0/Other",
          "ever/1/0",
          "ever/1/1/Male",
          "not current/1/0",
          "ever/0/1",
          "current/1/1",
          "not current/0/1",
          "former/0/1",
          "current/0/1",
          "current/1/0",
          "not current/0/0",
          "never/0/0",
          "former/0/0",
          "never/1/1",
          "former/1/1",
          "ever/1/1",
          "current/1/1",
          "not current/0/1",
          "never/0/1",
          "former/0/1",
          "current/0/1",
          "current/0/1/Male",
          "former/1/1/Female",
          "never/1/0/Male",
          "never/1/1/Female",
          "former/1/1/Female",
          "ever/1/1/Female",
          "current/1/1/Female",
          "not current/0/1/Female",
          "never/0/1/Female",
          "current/0/0/Male",
          "former/0/1/Female",
          "never/1/0/Female",
          "ever/1/0/Female",
          "never/0/0/Female",
          "former/0/0/Female",
          "ever/0/0/Female",
          "current/0/0/Female",
          "ever/0/1/Female",
          "never/1/1/Other",
          "ever/0/0/Male",
          "current/1/0/Male",
          "not current/0/0/Other",
          "never/0/0/Other",
          "former/0/0/Other",
          "ever/0/0/Other",
          "never/1/1/Male",
          "former/1/1/Male",
          "never/0/0/Male",
          "ever/1/1/Male",
          "never/0/1/Male",
          "former/0/1/Male",
          "ever/0/1/Male",
          "not current/1/0/Male",
          "former/1/0/Male",
          "ever/1/0/Male",
          "current/1/1/Male",
          "ever/1/1/Other",
          "never/0/1/Other",
          "former/0/1/Other",
          "current/1/0/Male",
          "not current/0/0/Male",
          "never/0/0/Male",
          "former/1/1/Female",
          "ever/1/1/Female",
          "never/0/1/Female",
          "ever/1/0/Male",
          "ever/0/1/Female",
          "not current/1/0/Female",
          "never/1/0/Female",
          "former/1/0/Female",
          "current/1/0/Female",
          "not current/0/0/Female",
          "former/0/0/Female",
          "current/0/1/Female",
          "never/1/0/Male",
          "current/0/1/Male",
          "ever/0/1/Male",
          "ever/0/1/Other",
          "not current/1/0/Other",
          "former/1/0/Other",
          "ever/1/0/Other",
          "current/1/0/Other",
          "not current/0/0/Other",
          "never/0/0/Other",
          "former/0/0/Other",
          "current/0/0/Other",
          "not current/1/1/Male",
          "former/1/1/Male",
          "ever/1/1/Male",
          "not current/0/1/Male",
          "never/0/1/Male",
          "former/0/1/Male",
          "current/1/0/Other",
          "ever/1/0/Other",
          "",
          "ever/0/1/Female",
          "ever/0/0/Male",
          "former/0/0/Female",
          "former/0/0/Male",
          "never/0/0/Male",
          "not current/1/1/Female",
          "former/1/1/Other",
          "ever/1/1/Other",
          "not current/0/0/Male",
          "not current/0/0/Female",
          "current/1/1/Female",
          "never/0/1/Other",
          "ever/1/0/Female",
          "former/0/1/Other",
          "current/1/0/Male",
          "not current/0/1/Female",
          "current/1/0/Female",
          "current/0/0/Female",
          "ever/1/0/Male",
          "former/1/0/Male",
          "not current/1/0/Other",
          "current/0/1/Female",
          "never/0/1/Female",
          "ever/0/1/Other",
          "not current/1/0/Female",
          "never/1/0/Female",
          "current/0/1/Other",
          "current/1/1/Male",
          "current/0/0",
          "not current/1/1",
          "current/0/0/Female",
          "never/1/1/Female",
          "current/0/1/Other",
          "current/0/0/Male",
          "current/1/0",
          "former/1/0/Other",
          "former/0/0",
          "never/1/1",
          "ever/1/0",
          "ever/0/0",
          "never/1/1/Male",
          "ever/1/1/Female",
          "former/0/1/Female",
          "never/0/1",
          "ever/0/1",
          "never/1/0",
          "ever/0/0/Other",
          "not current/1/0",
          "never/1/1/Other",
          "never/1/0",
          "former/1/0",
          "former/1/1/Female",
          "ever/1/1",
          "ever/0/0/Other",
          "not current/1/0/Male",
          "not current/0",
          "former/0/1/Female",
          "ever/1",
          "never/1/1/Male",
          "ever/1/1/Male",
          "current",
          "ever",
          "not current/1/1/Male",
          "ever/1/0/Female",
          "never/0/1/Male",
          "former/0/1/Male",
          "never/0/0/Female",
          "not current",
          "",
          "ever/0/1/Male",
          "ever/0/0/Female",
          "current",
          "not current/1/0",
          "not current/0/1/Female",
          "current/0",
          "ever/0/1",
          "former/0/1",
          "ever/1/0/Other",
          "ever/0/0/Female",
          "current/1/0/Other",
          "former/1/1",
          "former/0/0/Other",
          "current/1/1/Female",
          "former/0/0/Male",
          "ever/0/0/Male",
          "never/0",
          "current/0/0/Male",
          "not current/1/1/Female",
          "never/1/1/Female",
          "current/0/0/Other",
          "not current/1",
          "ever/0",
          "former/1/0/Male",
          "never/1/0",
          "current/0/1/Other",
          "current/0/1/Male",
          "current/0/1/Female",
          "not current/0/1/Other",
          "former/0/1/Female",
          "never/1/0/Male",
          "not current/0/1/Female",
          "current/1/1/Other",
          "ever/1/1/Female",
          "former/1/1/Female",
          "current/0/0/Male",
          "ever/0/0/Male",
          "former/0/0/Male",
          "not current/0/0/Male",
          "not current/0/0/Male",
          "former/0/0/Male",
          "not current/1/0/Male",
          "former/1/0/Female",
          "current/1/0/Female",
          "ever/0/1/Male",
          "current/0/0/Other",
          "current/1/0/Other",
          "never/1/0/Other",
          "former/1/0/Other",
          "never/1/0/Other",
          "not current/1/0/Other",
          "ever/0/1/Other",
          "never/1/1/Other",
          "never/0/1/Other",
          "not current/1/1/Male",
          "former/1/1/Other",
          "never/1/1/Other",
          "current/1/1/Male",
          "not current/0/1/Male",
          "never/0/1/Male",
          "not current/0/1/Male",
          "current/0/0/Other",
          "former/1/0/Male",
          "former/0/0/Male",
          "not current/1/1/Female",
          "not current/0/0/Female",
          "current/0/1/Female",
          "current/1/1/Other",
          "former/1/1/Other",
          "never/1/1/Other",
          "not current/1/1/Other",
          "former/1/0/Female",
          "current/1/0/Female",
          "former/0/0",
          "not current/0/0",
          "current/1/0",
          "former/1/0",
          "former/1/0/Other",
          "current/1/1/Other",
          "not current/0/1/Other",
          "current/1/0/Female",
          "former/1/1/Other",
          "never/1/0/Other",
          "former/0/1/Female",
          "never/1/0/Other",
          "not current/1/1/Other",
          "current/0/0/Male",
          "not current/1/0/Male",
          "not current/1/1/Female",
          "never/1/1/Female",
          "ever/0/0/Female",
          "current/1/1/Female",
          "former/1/0/Female",
          "never/1/1/Male",
          "ever/0/0/Other",
          "former/0/0/Other",
          "never/0/0/Other",
          "current/0/1/Female",
          "not current/1/0/Female",
          "ever/1/0/Other",
          "never/0/0/Female",
          "not current/1/1/Male",
          "former/0/1/Male"
         ],
         "type": "sunburst",
         "values": [
          0,
          333,
          90,
          187,
          0,
          0,
          0,
          954,
          0,
          0,
          0,
          0,
          0,
          0,
          0,
          0,
          198,
          35,
          430,
          125,
          49,
          42,
          41,
          235,
          35,
          66,
          147,
          594,
          9,
          69,
          12,
          141,
          21,
          74,
          2,
          2,
          2,
          8,
          0,
          0,
          0,
          0,
          0,
          0,
          0,
          0,
          0,
          0,
          0,
          0,
          0,
          0,
          0,
          65,
          43,
          274,
          8,
          8,
          51,
          28,
          7,
          33,
          215,
          42,
          3337,
          1,
          2,
          4,
          1,
          12,
          57,
          14,
          53,
          0,
          23,
          54,
          461,
          926,
          639,
          0,
          0,
          0,
          178,
          0,
          0,
          0,
          0,
          0,
          0,
          0,
          0,
          85,
          338,
          783,
          1590,
          472,
          904,
          438,
          115,
          532,
          2433,
          1152,
          20,
          121,
          100,
          43,
          277,
          226,
          76,
          0,
          0,
          11,
          56,
          1288,
          137,
          320,
          0,
          0,
          0,
          0,
          0,
          0,
          0,
          0,
          0,
          0,
          0,
          0,
          43,
          19,
          86,
          22,
          28,
          45,
          159,
          50,
          100,
          188,
          868,
          523,
          69,
          44,
          9,
          15,
          26,
          145,
          67,
          38,
          0,
          4,
          4,
          0,
          0,
          0,
          0,
          0,
          0,
          1,
          0,
          0,
          0,
          12,
          0,
          2,
          2,
          0,
          0,
          0,
          0,
          0,
          0,
          0,
          0,
          0,
          0,
          15,
          0,
          0,
          0,
          0,
          0,
          0,
          0,
          0,
          0,
          0,
          0,
          0,
          1,
          3,
          0,
          0,
          0,
          0,
          0,
          0,
          0,
          0,
          0,
          0,
          0,
          0,
          0,
          0,
          1,
          0,
          0,
          0,
          0,
          0,
          0,
          0,
          0,
          0,
          0,
          0,
          0,
          0,
          0,
          0,
          0,
          0,
          690,
          0,
          2,
          5,
          1,
          41,
          0,
          0,
          0,
          5,
          19,
          0,
          0,
          0,
          0,
          1,
          0,
          1,
          21,
          0,
          1,
          0,
          0,
          0,
          0,
          0,
          6,
          0,
          0,
          319,
          9,
          110,
          0,
          0,
          18,
          0,
          0,
          0,
          52,
          42,
          144,
          0,
          0,
          0,
          132,
          54,
          0,
          0,
          52,
          0,
          290,
          203,
          0,
          21,
          0,
          0,
          71,
          0,
          30,
          0,
          0,
          727,
          357,
          0,
          0,
          0,
          0,
          7,
          158,
          948,
          0,
          0,
          221,
          0,
          0,
          88,
          0,
          0,
          0,
          39,
          0,
          0,
          0,
          0,
          0,
          0,
          2156,
          0,
          0,
          0,
          0,
          138,
          281,
          0,
          493,
          0,
          0,
          29,
          0,
          66,
          0,
          24,
          0,
          8,
          40,
          196,
          100,
          469,
          0,
          35,
          0,
          11,
          121,
          55,
          4,
          0,
          0,
          0,
          0,
          0,
          0,
          0,
          0,
          0,
          0,
          0,
          0,
          5,
          2,
          7,
          0,
          0,
          174,
          53,
          0,
          3,
          9,
          0,
          0,
          0,
          0,
          0,
          0,
          403,
          273,
          78,
          135,
          0,
          0,
          0,
          22,
          0,
          0,
          1,
          0,
          0,
          104,
          0,
          0,
          0,
          6,
          3,
          0,
          50,
          0,
          0,
          0,
          0,
          0,
          0,
          41,
          11,
          151
         ]
        }
       ],
       "layout": {
        "legend": {
         "tracegroupgap": 0
        },
        "margin": {
         "t": 60
        },
        "template": {
         "data": {
          "bar": [
           {
            "error_x": {
             "color": "#2a3f5f"
            },
            "error_y": {
             "color": "#2a3f5f"
            },
            "marker": {
             "line": {
              "color": "#E5ECF6",
              "width": 0.5
             },
             "pattern": {
              "fillmode": "overlay",
              "size": 10,
              "solidity": 0.2
             }
            },
            "type": "bar"
           }
          ],
          "barpolar": [
           {
            "marker": {
             "line": {
              "color": "#E5ECF6",
              "width": 0.5
             },
             "pattern": {
              "fillmode": "overlay",
              "size": 10,
              "solidity": 0.2
             }
            },
            "type": "barpolar"
           }
          ],
          "carpet": [
           {
            "aaxis": {
             "endlinecolor": "#2a3f5f",
             "gridcolor": "white",
             "linecolor": "white",
             "minorgridcolor": "white",
             "startlinecolor": "#2a3f5f"
            },
            "baxis": {
             "endlinecolor": "#2a3f5f",
             "gridcolor": "white",
             "linecolor": "white",
             "minorgridcolor": "white",
             "startlinecolor": "#2a3f5f"
            },
            "type": "carpet"
           }
          ],
          "choropleth": [
           {
            "colorbar": {
             "outlinewidth": 0,
             "ticks": ""
            },
            "type": "choropleth"
           }
          ],
          "contour": [
           {
            "colorbar": {
             "outlinewidth": 0,
             "ticks": ""
            },
            "colorscale": [
             [
              0,
              "#0d0887"
             ],
             [
              0.1111111111111111,
              "#46039f"
             ],
             [
              0.2222222222222222,
              "#7201a8"
             ],
             [
              0.3333333333333333,
              "#9c179e"
             ],
             [
              0.4444444444444444,
              "#bd3786"
             ],
             [
              0.5555555555555556,
              "#d8576b"
             ],
             [
              0.6666666666666666,
              "#ed7953"
             ],
             [
              0.7777777777777778,
              "#fb9f3a"
             ],
             [
              0.8888888888888888,
              "#fdca26"
             ],
             [
              1,
              "#f0f921"
             ]
            ],
            "type": "contour"
           }
          ],
          "contourcarpet": [
           {
            "colorbar": {
             "outlinewidth": 0,
             "ticks": ""
            },
            "type": "contourcarpet"
           }
          ],
          "heatmap": [
           {
            "colorbar": {
             "outlinewidth": 0,
             "ticks": ""
            },
            "colorscale": [
             [
              0,
              "#0d0887"
             ],
             [
              0.1111111111111111,
              "#46039f"
             ],
             [
              0.2222222222222222,
              "#7201a8"
             ],
             [
              0.3333333333333333,
              "#9c179e"
             ],
             [
              0.4444444444444444,
              "#bd3786"
             ],
             [
              0.5555555555555556,
              "#d8576b"
             ],
             [
              0.6666666666666666,
              "#ed7953"
             ],
             [
              0.7777777777777778,
              "#fb9f3a"
             ],
             [
              0.8888888888888888,
              "#fdca26"
             ],
             [
              1,
              "#f0f921"
             ]
            ],
            "type": "heatmap"
           }
          ],
          "heatmapgl": [
           {
            "colorbar": {
             "outlinewidth": 0,
             "ticks": ""
            },
            "colorscale": [
             [
              0,
              "#0d0887"
             ],
             [
              0.1111111111111111,
              "#46039f"
             ],
             [
              0.2222222222222222,
              "#7201a8"
             ],
             [
              0.3333333333333333,
              "#9c179e"
             ],
             [
              0.4444444444444444,
              "#bd3786"
             ],
             [
              0.5555555555555556,
              "#d8576b"
             ],
             [
              0.6666666666666666,
              "#ed7953"
             ],
             [
              0.7777777777777778,
              "#fb9f3a"
             ],
             [
              0.8888888888888888,
              "#fdca26"
             ],
             [
              1,
              "#f0f921"
             ]
            ],
            "type": "heatmapgl"
           }
          ],
          "histogram": [
           {
            "marker": {
             "pattern": {
              "fillmode": "overlay",
              "size": 10,
              "solidity": 0.2
             }
            },
            "type": "histogram"
           }
          ],
          "histogram2d": [
           {
            "colorbar": {
             "outlinewidth": 0,
             "ticks": ""
            },
            "colorscale": [
             [
              0,
              "#0d0887"
             ],
             [
              0.1111111111111111,
              "#46039f"
             ],
             [
              0.2222222222222222,
              "#7201a8"
             ],
             [
              0.3333333333333333,
              "#9c179e"
             ],
             [
              0.4444444444444444,
              "#bd3786"
             ],
             [
              0.5555555555555556,
              "#d8576b"
             ],
             [
              0.6666666666666666,
              "#ed7953"
             ],
             [
              0.7777777777777778,
              "#fb9f3a"
             ],
             [
              0.8888888888888888,
              "#fdca26"
             ],
             [
              1,
              "#f0f921"
             ]
            ],
            "type": "histogram2d"
           }
          ],
          "histogram2dcontour": [
           {
            "colorbar": {
             "outlinewidth": 0,
             "ticks": ""
            },
            "colorscale": [
             [
              0,
              "#0d0887"
             ],
             [
              0.1111111111111111,
              "#46039f"
             ],
             [
              0.2222222222222222,
              "#7201a8"
             ],
             [
              0.3333333333333333,
              "#9c179e"
             ],
             [
              0.4444444444444444,
              "#bd3786"
             ],
             [
              0.5555555555555556,
              "#d8576b"
             ],
             [
              0.6666666666666666,
              "#ed7953"
             ],
             [
              0.7777777777777778,
              "#fb9f3a"
             ],
             [
              0.8888888888888888,
              "#fdca26"
             ],
             [
              1,
              "#f0f921"
             ]
            ],
            "type": "histogram2dcontour"
           }
          ],
          "mesh3d": [
           {
            "colorbar": {
             "outlinewidth": 0,
             "ticks": ""
            },
            "type": "mesh3d"
           }
          ],
          "parcoords": [
           {
            "line": {
             "colorbar": {
              "outlinewidth": 0,
              "ticks": ""
             }
            },
            "type": "parcoords"
           }
          ],
          "pie": [
           {
            "automargin": true,
            "type": "pie"
           }
          ],
          "scatter": [
           {
            "fillpattern": {
             "fillmode": "overlay",
             "size": 10,
             "solidity": 0.2
            },
            "type": "scatter"
           }
          ],
          "scatter3d": [
           {
            "line": {
             "colorbar": {
              "outlinewidth": 0,
              "ticks": ""
             }
            },
            "marker": {
             "colorbar": {
              "outlinewidth": 0,
              "ticks": ""
             }
            },
            "type": "scatter3d"
           }
          ],
          "scattercarpet": [
           {
            "marker": {
             "colorbar": {
              "outlinewidth": 0,
              "ticks": ""
             }
            },
            "type": "scattercarpet"
           }
          ],
          "scattergeo": [
           {
            "marker": {
             "colorbar": {
              "outlinewidth": 0,
              "ticks": ""
             }
            },
            "type": "scattergeo"
           }
          ],
          "scattergl": [
           {
            "marker": {
             "colorbar": {
              "outlinewidth": 0,
              "ticks": ""
             }
            },
            "type": "scattergl"
           }
          ],
          "scattermapbox": [
           {
            "marker": {
             "colorbar": {
              "outlinewidth": 0,
              "ticks": ""
             }
            },
            "type": "scattermapbox"
           }
          ],
          "scatterpolar": [
           {
            "marker": {
             "colorbar": {
              "outlinewidth": 0,
              "ticks": ""
             }
            },
            "type": "scatterpolar"
           }
          ],
          "scatterpolargl": [
           {
            "marker": {
             "colorbar": {
              "outlinewidth": 0,
              "ticks": ""
             }
            },
            "type": "scatterpolargl"
           }
          ],
          "scatterternary": [
           {
            "marker": {
             "colorbar": {
              "outlinewidth": 0,
              "ticks": ""
             }
            },
            "type": "scatterternary"
           }
          ],
          "surface": [
           {
            "colorbar": {
             "outlinewidth": 0,
             "ticks": ""
            },
            "colorscale": [
             [
              0,
              "#0d0887"
             ],
             [
              0.1111111111111111,
              "#46039f"
             ],
             [
              0.2222222222222222,
              "#7201a8"
             ],
             [
              0.3333333333333333,
              "#9c179e"
             ],
             [
              0.4444444444444444,
              "#bd3786"
             ],
             [
              0.5555555555555556,
              "#d8576b"
             ],
             [
              0.6666666666666666,
              "#ed7953"
             ],
             [
              0.7777777777777778,
              "#fb9f3a"
             ],
             [
              0.8888888888888888,
              "#fdca26"
             ],
             [
              1,
              "#f0f921"
             ]
            ],
            "type": "surface"
           }
          ],
          "table": [
           {
            "cells": {
             "fill": {
              "color": "#EBF0F8"
             },
             "line": {
              "color": "white"
             }
            },
            "header": {
             "fill": {
              "color": "#C8D4E3"
             },
             "line": {
              "color": "white"
             }
            },
            "type": "table"
           }
          ]
         },
         "layout": {
          "annotationdefaults": {
           "arrowcolor": "#2a3f5f",
           "arrowhead": 0,
           "arrowwidth": 1
          },
          "autotypenumbers": "strict",
          "coloraxis": {
           "colorbar": {
            "outlinewidth": 0,
            "ticks": ""
           }
          },
          "colorscale": {
           "diverging": [
            [
             0,
             "#8e0152"
            ],
            [
             0.1,
             "#c51b7d"
            ],
            [
             0.2,
             "#de77ae"
            ],
            [
             0.3,
             "#f1b6da"
            ],
            [
             0.4,
             "#fde0ef"
            ],
            [
             0.5,
             "#f7f7f7"
            ],
            [
             0.6,
             "#e6f5d0"
            ],
            [
             0.7,
             "#b8e186"
            ],
            [
             0.8,
             "#7fbc41"
            ],
            [
             0.9,
             "#4d9221"
            ],
            [
             1,
             "#276419"
            ]
           ],
           "sequential": [
            [
             0,
             "#0d0887"
            ],
            [
             0.1111111111111111,
             "#46039f"
            ],
            [
             0.2222222222222222,
             "#7201a8"
            ],
            [
             0.3333333333333333,
             "#9c179e"
            ],
            [
             0.4444444444444444,
             "#bd3786"
            ],
            [
             0.5555555555555556,
             "#d8576b"
            ],
            [
             0.6666666666666666,
             "#ed7953"
            ],
            [
             0.7777777777777778,
             "#fb9f3a"
            ],
            [
             0.8888888888888888,
             "#fdca26"
            ],
            [
             1,
             "#f0f921"
            ]
           ],
           "sequentialminus": [
            [
             0,
             "#0d0887"
            ],
            [
             0.1111111111111111,
             "#46039f"
            ],
            [
             0.2222222222222222,
             "#7201a8"
            ],
            [
             0.3333333333333333,
             "#9c179e"
            ],
            [
             0.4444444444444444,
             "#bd3786"
            ],
            [
             0.5555555555555556,
             "#d8576b"
            ],
            [
             0.6666666666666666,
             "#ed7953"
            ],
            [
             0.7777777777777778,
             "#fb9f3a"
            ],
            [
             0.8888888888888888,
             "#fdca26"
            ],
            [
             1,
             "#f0f921"
            ]
           ]
          },
          "colorway": [
           "#636efa",
           "#EF553B",
           "#00cc96",
           "#ab63fa",
           "#FFA15A",
           "#19d3f3",
           "#FF6692",
           "#B6E880",
           "#FF97FF",
           "#FECB52"
          ],
          "font": {
           "color": "#2a3f5f"
          },
          "geo": {
           "bgcolor": "white",
           "lakecolor": "white",
           "landcolor": "#E5ECF6",
           "showlakes": true,
           "showland": true,
           "subunitcolor": "white"
          },
          "hoverlabel": {
           "align": "left"
          },
          "hovermode": "closest",
          "mapbox": {
           "style": "light"
          },
          "paper_bgcolor": "white",
          "plot_bgcolor": "#E5ECF6",
          "polar": {
           "angularaxis": {
            "gridcolor": "white",
            "linecolor": "white",
            "ticks": ""
           },
           "bgcolor": "#E5ECF6",
           "radialaxis": {
            "gridcolor": "white",
            "linecolor": "white",
            "ticks": ""
           }
          },
          "scene": {
           "xaxis": {
            "backgroundcolor": "#E5ECF6",
            "gridcolor": "white",
            "gridwidth": 2,
            "linecolor": "white",
            "showbackground": true,
            "ticks": "",
            "zerolinecolor": "white"
           },
           "yaxis": {
            "backgroundcolor": "#E5ECF6",
            "gridcolor": "white",
            "gridwidth": 2,
            "linecolor": "white",
            "showbackground": true,
            "ticks": "",
            "zerolinecolor": "white"
           },
           "zaxis": {
            "backgroundcolor": "#E5ECF6",
            "gridcolor": "white",
            "gridwidth": 2,
            "linecolor": "white",
            "showbackground": true,
            "ticks": "",
            "zerolinecolor": "white"
           }
          },
          "shapedefaults": {
           "line": {
            "color": "#2a3f5f"
           }
          },
          "ternary": {
           "aaxis": {
            "gridcolor": "white",
            "linecolor": "white",
            "ticks": ""
           },
           "baxis": {
            "gridcolor": "white",
            "linecolor": "white",
            "ticks": ""
           },
           "bgcolor": "#E5ECF6",
           "caxis": {
            "gridcolor": "white",
            "linecolor": "white",
            "ticks": ""
           }
          },
          "title": {
           "x": 0.05
          },
          "xaxis": {
           "automargin": true,
           "gridcolor": "white",
           "linecolor": "white",
           "ticks": "",
           "title": {
            "standoff": 15
           },
           "zerolinecolor": "white",
           "zerolinewidth": 2
          },
          "yaxis": {
           "automargin": true,
           "gridcolor": "white",
           "linecolor": "white",
           "ticks": "",
           "title": {
            "standoff": 15
           },
           "zerolinecolor": "white",
           "zerolinewidth": 2
          }
         }
        }
       }
      }
     },
     "metadata": {},
     "output_type": "display_data"
    }
   ],
   "source": [
    "fig = px.sunburst(\n",
    "   df[df['smoking_history']!='No info'],\n",
    "    path=['smoking_history','hypertension_categorical','heart_disease_categorical','gender', 'age_cateogry'],\n",
    "    values= 'diabetes',\n",
    "    color='gender',\n",
    ")\n",
    "\n",
    "# Show the Sunburst chart\n",
    "fig.show()"
   ]
  },
  {
   "cell_type": "markdown",
   "metadata": {},
   "source": [
    "### Q6. On the basis of gender who had more diabetes that were smoking, had heart disease and hypertension?\n",
    "A. Based on Data people who were smoking, had heart diesease and hypertension, male were having higher rate of Diabetes.\n",
    "* Male: 28\n",
    "* Female: 15\n",
    "\n",
    "### Q7. On the basis of gender who had more diabetes that never smoked?\n",
    "A. Based on Data people who never smoked, female were having higher rate of Diabetes.\n",
    "* Female: 1288\n",
    "* Male: 868\n"
   ]
  },
  {
   "cell_type": "markdown",
   "metadata": {},
   "source": [
    "---\n",
    "# `Summary` \n",
    "\n",
    "### Q1. Comparatively who has more Diabetes?\n",
    "A. Based on given data females has more diabetes than male.\n",
    "\n",
    "### Q2. Comparatively who has more heart_disease?\n",
    "A. Based on given data male has more heart issues than female.\n",
    "* Male: 2367\n",
    "* Female: 1556\n",
    "* Others: 0\n",
    "\n",
    "\n",
    "### Q3. Comparatively who has more hypertension?\n",
    "A. Based on given data female has more heart issues than male.\n",
    "* Female: 4179\n",
    "* Male: 3282\n",
    "* Others: 0\n",
    "\n",
    "\n",
    "### Q4. People with Hypertension and Heart-disease on the basis of gender, who got more diabetes?\n",
    "A. Based on Data people with Hypertension and Hear_disease, Male has more Diabetes.\n",
    "  * Male : 194\n",
    "  * Female : 164\n",
    "\n",
    "### Q5. People with no Hypertension and no Heart-disease on the basis of gender, who got more diabetes?\n",
    "A. Based on Data people with Hypertension and Hear_disease, female has more Diabetes.\n",
    "* Male 2518\n",
    "* Female 2969\n",
    "\n",
    "### Q6. On the basis of gender who had more diabetes that were smoking, had heart disease and hypertension?\n",
    "A. Based on Data people who were smoking, had heart diesease and hypertension, male were having higher rate of Diabetes.\n",
    "* Male: 28\n",
    "* Female: 15\n",
    "\n",
    "### Q7. On the basis of gender who had more diabetes that never smoked?\n",
    "A. Based on Data people who never smoked, female were having higher rate of Diabetes.\n",
    "* Female: 1288\n",
    "* Male: 868\n"
   ]
  },
  {
   "cell_type": "markdown",
   "metadata": {},
   "source": [
    "# `Conclusion`:\n",
    "Based on the given data, here are the conclusions for each question:\n",
    "\n",
    "- Comparatively, females have more diabetes than males.\n",
    "\n",
    "- Comparatively, males have more heart disease than females.\n",
    "\n",
    "- Comparatively, females have more hypertension than males.\n",
    "\n",
    "-  Among people with both hypertension and heart disease, males have more diabetes than females.\n",
    "\n",
    "-  Among people with neither hypertension nor heart disease, females have more diabetes than males.\n",
    "\n",
    "-  Among individuals who were smoking, had heart disease, and hypertension, males have a higher rate of diabetes compared to females.\n",
    "\n",
    "- Among individuals who never smoked, females have a higher rate of diabetes compared to males."
   ]
  }
 ],
 "metadata": {
  "kernelspec": {
   "display_name": "panda_project",
   "language": "python",
   "name": "python3"
  },
  "language_info": {
   "codemirror_mode": {
    "name": "ipython",
    "version": 3
   },
   "file_extension": ".py",
   "mimetype": "text/x-python",
   "name": "python",
   "nbconvert_exporter": "python",
   "pygments_lexer": "ipython3",
   "version": "3.10.13"
  }
 },
 "nbformat": 4,
 "nbformat_minor": 2
}
